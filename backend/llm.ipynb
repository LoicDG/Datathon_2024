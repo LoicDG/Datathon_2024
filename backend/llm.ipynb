{
 "cells": [
  {
   "attachments": {},
   "cell_type": "markdown",
   "id": "52eeede3",
   "metadata": {},
   "source": [
    "#LLM_MODEL"
   ]
  },
  {
   "attachments": {},
   "cell_type": "markdown",
   "id": "5a6c594f",
   "metadata": {},
   "source": [
    "##LIBS"
   ]
  },
  {
   "cell_type": "code",
   "execution_count": 4,
   "id": "ed4e0765-4148-4e45-8fdc-00e867d9ce97",
   "metadata": {
    "tags": []
   },
   "outputs": [],
   "source": [
    "from dotenv import load_dotenv\n",
    "load_dotenv()\n",
    "import re\n",
    "from botocore.exceptions import ClientError\n",
    "import json\n",
    "from botocore.exceptions import ClientError\n",
    "import boto3\n",
    "import os\n",
    "import json\n",
    "import logging\n",
    "import boto3\n",
    "import time\n",
    "import json\n",
    "import uuid\n",
    "import pprint\n",
    "import os\n",
    "import time\n",
    "import yfinance as yf\n",
    "import pandas as pd\n",
    "import matplotlib.pyplot as plt\n",
    "from io import BytesIO\n",
    "from PIL import Image\n",
    "import yfinance as yf\n",
    "import pandas as pd\n",
    "import matplotlib.pyplot as plt\n",
    "import fear_and_greed\n",
    "import json\n",
    "from io import BytesIO\n",
    "from PIL import Image\n",
    "import base64\n",
    "from opensearchpy import OpenSearch, RequestsHttpConnection\n",
    "from requests_aws4auth import AWS4Auth\n",
    "\n",
    "#from utils import hints\n",
    "\n"
   ]
  },
  {
   "cell_type": "code",
   "execution_count": 5,
   "id": "ae5a9fd5",
   "metadata": {},
   "outputs": [],
   "source": [
    "DEFAULT_REGION = \"us-west-2\"\n",
    "ACCESS_KEY = os.getenv(\"AWS_ACCESS_KEY\")\n",
    "SECRET_KEY = os.getenv(\"AWS_SECRET_KEY\")\n",
    "SESSION_TOKEN = os.getenv(\"AWS_SESSION_TOKEN\")"
   ]
  },
  {
   "cell_type": "code",
   "execution_count": 6,
   "id": "fa3a9b86",
   "metadata": {},
   "outputs": [],
   "source": [
    "region = os.getenv('AWS_DEFAULT_REGION')\n",
    "\n",
    "bedrock_runtime = boto3.client(\n",
    "    'bedrock-runtime',\n",
    "    region_name=region,\n",
    "    aws_access_key_id=ACCESS_KEY,\n",
    "    aws_secret_access_key=SECRET_KEY,\n",
    "     aws_session_token=SESSION_TOKEN\n",
    ") "
   ]
  },
  {
   "attachments": {},
   "cell_type": "markdown",
   "id": "01d98b81",
   "metadata": {},
   "source": [
    "##Boto3_setting"
   ]
  },
  {
   "cell_type": "code",
   "execution_count": 7,
   "id": "3c9253a2-8265-4f05-858c-2c05d76b82b8",
   "metadata": {
    "tags": []
   },
   "outputs": [],
   "source": [
    "# setting logger\n",
    "logging.basicConfig(format='[%(asctime)s] p%(process)s {%(filename)s:%(lineno)d} %(levelname)s - %(message)s', level=logging.INFO)\n",
    "logger = logging.getLogger(__name__)"
   ]
  },
  {
   "cell_type": "code",
   "execution_count": 8,
   "id": "f8153da9-df47-4783-a4cd-1322cb7d4620",
   "metadata": {
    "tags": []
   },
   "outputs": [],
   "source": [
    "# getting boto3 clients for required AWS services\n",
    "sts_client = boto3.client('sts')\n",
    "iam_client = boto3.client('iam')\n",
    "s3_client = boto3.client('s3')\n",
    "lambda_client = boto3.client('lambda')\n",
    "bedrock_agent_client = boto3.client('bedrock-agent')\n",
    "bedrock_agent_runtime_client = boto3.client('bedrock-agent-runtime')\n",
    "open_search_serverless_client = boto3.client('opensearchserverless')"
   ]
  },
  {
   "cell_type": "code",
   "execution_count": 9,
   "id": "7c4a2e5a-ba53-4883-9561-1274f9c968c7",
   "metadata": {
    "tags": []
   },
   "outputs": [
    {
     "data": {
      "text/plain": [
       "('us-west-2', '939490215743')"
      ]
     },
     "execution_count": 9,
     "metadata": {},
     "output_type": "execute_result"
    }
   ],
   "source": [
    "session = boto3.session.Session()\n",
    "region = session.region_name\n",
    "account_id = sts_client.get_caller_identity()[\"Account\"]\n",
    "region, account_id"
   ]
  },
  {
   "cell_type": "code",
   "execution_count": 10,
   "id": "90825c2b-6e82-4d84-b986-bff3695cc9bb",
   "metadata": {
    "tags": []
   },
   "outputs": [],
   "source": [
    "suffix = int(time.time())\n"
   ]
  },
  {
   "cell_type": "code",
   "execution_count": 11,
   "id": "ad6ac280-0204-4f24-9f9b-e8fd7ec9a9e3",
   "metadata": {
    "tags": []
   },
   "outputs": [],
   "source": [
    "# Generate random prefix for unique IAM roles, agent name and S3 Bucket and \n",
    "# assign variables\n",
    "suffix = f\"{region}-{account_id}\"\n",
    "\n",
    "suffix = int(time.time())\n",
    "agent_name = f\"bedrock-docs-kb-agents{suffix}\"\n",
    "\n",
    "agent_alias_name = f\"bedrock-docs-alias{suffix}\"\n",
    "\n",
    "\n",
    "\n",
    "\n",
    "#bucket_name = f'{agent_name}-{suffix}'\n",
    "\n",
    "bucket_name = f'my-data-bucket-2024'\n",
    "bucket_arn = f\"arn:aws:s3:::{bucket_name}\"\n",
    "\n",
    "\n",
    "\n",
    "#bedrock_agent_bedrock_allow_policy_name = f\"bda-bedrock-allow-{suffix}\"\n",
    "\n",
    "#bedrock_agent_s3_allow_policy_name = f\"bda-s3-allow-{suffix}\"\n",
    "\n",
    "#bedrock_agent_kb_allow_policy_name = f\"bda-kb-allow-{suffix}\"\n",
    "\n",
    "\n",
    "\n",
    "\n",
    "  # Utilise l'horodatage actuel comme suffixe\n",
    "\n",
    "bedrock_agent_bedrock_allow_policy_name = f\"bda-bedrock-allow-{suffix}\"\n",
    "bedrock_agent_s3_allow_policy_name = f\"bda-s3-allow-{suffix}\"\n",
    "bedrock_agent_kb_allow_policy_name = f\"bda-kb-allow-{suffix}\"\n",
    "\n",
    "\n",
    "\n",
    "agent_role_name = f'AmazonBedrockExecutionRoleForAgents_bedrock_docs{suffix}'\n",
    "\n",
    "#kb_name = f'bedrock-docs-kb-{suffix}'\n",
    "# Cela crée un nombre unique basé sur l'heure actuelle\n",
    "\n",
    "kb_name = f'bedrock-docs-kb-{suffix}'\n",
    "\n",
    "data_source_name = f'bedrock-docs-kb-docs-{suffix}'\n",
    "kb_files_path = 'kb_documents'\n",
    "kb_key = 'kb_documents'\n",
    "\n",
    "kb_role_name = f'rapport1_test_docs{suffix}'\n",
    "\n",
    "\n",
    "\n",
    "kb_bedrock_allow_policy_name = f\"bd-kb-bedrock-allow-{suffix}\"\n",
    "\n",
    "kb_aoss_allow_policy_name = f\"bd-kb-aoss-allow-{suffix}\"\n",
    "\n",
    "kb_s3_allow_policy_name = f\"bd-kb-s3-allow-{suffix}\"\n",
    "\n",
    "kb_collection_name = f'bd-kbc-{suffix}'\n"
   ]
  },
  {
   "attachments": {},
   "cell_type": "markdown",
   "id": "fff5bf5c",
   "metadata": {},
   "source": [
    "##knowledge_base_Setup\n"
   ]
  },
  {
   "cell_type": "code",
   "execution_count": 12,
   "id": "55915ad3",
   "metadata": {},
   "outputs": [],
   "source": [
    "\n",
    "# Select Amazon titan as the embedding model\n",
    "embedding_model_arn = f'arn:aws:bedrock:{region}::foundation-model/amazon.titan-embed-text-v1'\n",
    "kb_vector_index_name = \"bedrock-knowledge-base-index\"\n",
    "kb_metadataField = 'bedrock-knowledge-base-metadata'\n",
    "kb_textField = 'bedrock-knowledge-base-text'\n",
    "kb_vectorField = 'bedrock-knowledge-base-vector'\n",
    "model_id = \"anthropic.claude-3-sonnet-20240229-v1:0\"\n",
    "\n",
    "# agent configuration\n",
    "agent_instruction =\"you ara a financial chatbot helping in analysing data , answer briefly and refer well to the data given to you\"\n",
    "#\"\"\"\n",
    "#Analyze the provided financial report to generate a concise summary that includes key information such as revenue, expenses, profit margins, and significant changes compared to previous periods. Additionally, evaluate the sentiment in the report, focusing on the letters to shareholders and management commentary. Determine whether the sentiment is optimistic, pessimistic, or neutral, and present your findings in a structured format. Include relevant quotes or phrases to support your sentiment analysis and provide visualizations if applicable. la reponse final doit etre dans un format json , avec 3 cles \n",
    "#\"\"\""
   ]
  },
  {
   "cell_type": "code",
   "execution_count": 13,
   "id": "edc7cb0d-850b-479e-a817-03b8a1665c3d",
   "metadata": {
    "tags": []
   },
   "outputs": [
    {
     "name": "stdout",
     "output_type": "stream",
     "text": [
      "my-data-bucket-2024\n"
     ]
    }
   ],
   "source": [
    "print(bucket_name)"
   ]
  },
  {
   "cell_type": "code",
   "execution_count": 14,
   "id": "a94dcedf-b848-443e-b2a8-f91c4fd9d2a9",
   "metadata": {
    "tags": []
   },
   "outputs": [],
   "source": [
    "try:\n",
    "    if region != 'us-east-1':\n",
    "        s3_client.create_bucket(\n",
    "            Bucket=bucket_name.lower(),\n",
    "            CreateBucketConfiguration={'LocationConstraint': region}\n",
    "        )\n",
    "    else:\n",
    "        s3_client.create_bucket(Bucket=bucket_name)\n",
    "except Exception as e:\n",
    "    if \"Bucket\" in str(e):\n",
    "        pass\n",
    "    else:\n",
    "        raise e"
   ]
  },
  {
   "attachments": {},
   "cell_type": "markdown",
   "id": "3d82a0b9",
   "metadata": {},
   "source": [
    "##UPLOAD_RAG_DATA for Fundamental and general analysis"
   ]
  },
  {
   "cell_type": "code",
   "execution_count": 15,
   "id": "b1dadce3-59d7-4ca6-8cd2-1f93670e3351",
   "metadata": {
    "tags": []
   },
   "outputs": [
    {
     "name": "stdout",
     "output_type": "stream",
     "text": [
      "Uploaded 2023-rapport-financier-annuel-bce.pdf to s3://my-data-bucket-2024/kb_documents/2023-rapport-financier-annuel-bce.pdf\n",
      "Uploaded Rogers-2023-Annual-Report.pdf to s3://my-data-bucket-2024/kb_documents/Rogers-2023-Annual-Report.pdf\n",
      "Uploaded 2020-rapport-annuel-bce.pdf to s3://my-data-bucket-2024/kb_documents/2020-rapport-annuel-bce.pdf\n",
      "Uploaded Rogers-2022-Annual-Report-1.pdf to s3://my-data-bucket-2024/kb_documents/Rogers-2022-Annual-Report-1.pdf\n",
      "Uploaded 2022-annuel-10Q-FR-09122022-Final.pdf to s3://my-data-bucket-2024/kb_documents/2022-annuel-10Q-FR-09122022-Final.pdf\n",
      "Uploaded Hydro One Limited Annual Report 2022.pdf to s3://my-data-bucket-2024/kb_documents/Hydro One Limited Annual Report 2022.pdf\n",
      "Uploaded 9465D_Rapport_Annuel_2023_CCA_FR_F.pdf to s3://my-data-bucket-2024/kb_documents/9465D_Rapport_Annuel_2023_CCA_FR_F.pdf\n",
      "Uploaded 2022-rapport-financier-annuel-bce.pdf to s3://my-data-bucket-2024/kb_documents/2022-rapport-financier-annuel-bce.pdf\n",
      "Uploaded Hydro One Limited Annual Report 2023.pdf to s3://my-data-bucket-2024/kb_documents/Hydro One Limited Annual Report 2023.pdf\n",
      "Uploaded 2021-rapport-annuel-bce.pdf to s3://my-data-bucket-2024/kb_documents/2021-rapport-annuel-bce.pdf\n"
     ]
    }
   ],
   "source": [
    "\n",
    "\n",
    "#kb_documents/Rapport_Act_2018_Fr.pdf\n",
    "#kb_documents\n",
    "# Upload PDF files to S3\n",
    "kb_files_path = 'financedata'\n",
    "for f in os.listdir(kb_files_path):\n",
    "    if f.endswith(\".pdf\"):\n",
    "        local_file_path = os.path.join(kb_files_path, f)\n",
    "        s3_client.upload_file(local_file_path, bucket_name, os.path.join(kb_key, f))\n",
    "        print(f\"Uploaded {f} to s3://{bucket_name}/{kb_key}/{f}\")\n"
   ]
  },
  {
   "cell_type": "code",
   "execution_count": 16,
   "id": "0d5f298c-d9af-4686-9c8f-26efcc9cae34",
   "metadata": {
    "tags": []
   },
   "outputs": [],
   "source": [
    "# Upload Knowledge Base files to thikb_files_paths s3 bucket\n",
    "\n",
    "#for f in os.listdir(kb_files_path):\n",
    "    #if f.endswith(\".pdf\"):\n",
    "        #s3_client.upload_file(kb_files_path+'/'+f, bucket_name, kb_key+'/'+f)"
   ]
  },
  {
   "attachments": {},
   "cell_type": "markdown",
   "id": "a8b0622f",
   "metadata": {},
   "source": [
    "##POLICIES"
   ]
  },
  {
   "cell_type": "code",
   "execution_count": 17,
   "id": "25ad261c-76d4-4274-95cd-4774cffb991e",
   "metadata": {
    "tags": []
   },
   "outputs": [
    {
     "name": "stdout",
     "output_type": "stream",
     "text": [
      "bd-kb-s3-allow-1730624761\n",
      "bd-kb-bedrock-allow-1730646173\n",
      "bd-kb-aoss-allow-1730670623\n",
      "bda-bedrock-allow-1730670623\n",
      "bd-kb-bedrock-allow-1730624479\n",
      "bda-bedrock-allow-1730646923\n",
      "bd-kb-bedrock-allow-1730609702\n",
      "bda-bedrock-allow-1730624479\n",
      "iam_policy-0\n",
      "bda-bedrock-allow-1730609928\n",
      "bda-bedrock-allow-1730624761\n",
      "bda-kb-allow-1730624761\n",
      "bda-kb-allow-1730624479\n",
      "bda-bedrock-allow-1730612149\n",
      "AmazonSageMaker-ExecutionPolicy-20241102T134231\n",
      "bda-kb-allow-1730731847\n",
      "bda-bedrock-allow-1730731847\n",
      "bd-kb-bedrock-allow-1730615197\n",
      "bd-kb-s3-allow-1730615197\n",
      "AmazonSageMakerServiceCatalogProductsUseRole-20241102T134284\n",
      "bd-kb-bedrock-allow-1730664838\n",
      "bd-kb-bedrock-allow-1730612149\n",
      "bd-kb-aoss-allow-1730623728\n",
      "bda-bedrock-allow-us-west-2-939490215743\n",
      "bd-kb-s3-allow-1730731847\n",
      "bda-kb-allow-1730610699\n",
      "AmazonBedrockFoundationModelPolicyForKnowledgeBase_9394\n",
      "bd-kb-bedrock-allow-1730670623\n",
      "bd-kb-bedrock-allow-us-west-2-939490215743\n",
      "bd-kb-aoss-allow-1730613481\n",
      "bd-kb-aoss-allow-1730609702\n",
      "bd-kb-s3-allow-1730664838\n",
      "bd-kb-bedrock-allow-1730614065\n",
      "bd-kb-s3-allow-1730609702\n",
      "ws-default-policy\n",
      "Datathon2024\n",
      "bd-kb-aoss-allow-1730614065\n",
      "bd-kb-bedrock-allow-1730623728\n",
      "bda-bedrock-allow-1730646173\n",
      "Police\n",
      "bda-kb-allow-1730611109\n",
      "AmazonBedrockS3PolicyForKnowledgeBase_9394\n",
      "bd-kb-aoss-allow-1730624761\n",
      "bd-kb-s3-allow-1730623728\n",
      "booking-agent-dynamodb-policy\n",
      "bda-bedrock-allow-1730623728\n",
      "bd-kb-aoss-allow-1730731847\n",
      "bda-kb-allow-1730609928\n",
      "bd-kb-bedrock-allow-1730731847\n",
      "bda-bedrock-allow-1730610699\n",
      "bd-kb-s3-allow-1730610699\n",
      "bd-kb-s3-allow-1730624479\n",
      "bda-kb-allow-1730664838\n",
      "bda-kb-allow-1730612149\n",
      "bda-kb-allow-1730623728\n",
      "bd-kb-aoss-allow-1730615197\n",
      "bd-kb-aoss-allow-1730664838\n",
      "bd-kb-aoss-allow-1730624479\n",
      "bd-kb-bedrock-allow-1730613481\n",
      "bda-bedrock-allow-1730664838\n",
      "bd-kb-s3-allow-us-west-2-939490215743\n",
      "bd-kb-s3-allow-1730612149\n",
      "bd-kb-s3-allow-1730613481\n",
      "booking-agent-ba\n",
      "bd-kb-aoss-allow-us-west-2-939490215743\n",
      "bda-bedrock-allow-1730613481\n",
      "bd-kb-aoss-allow-1730646173\n",
      "bd-kb-bedrock-allow-1730624761\n",
      "bd-kb-aoss-allow-1730612149\n",
      "bd-kb-s3-allow-1730614065\n",
      "bd-kb-s3-allow-1730646173\n",
      "bd-kb-s3-allow-1730670623\n",
      "bda-kb-allow-1730670623\n",
      "bda-kb-allow-1730646173\n",
      "bda-kb-allow-1730646923\n",
      "bda-kb-allow-us-west-2-939490215743\n",
      "AmazonBedrockOSSPolicyForKnowledgeBase_9394\n"
     ]
    }
   ],
   "source": [
    "import boto3\n",
    "\n",
    "iam_client = boto3.client('iam')\n",
    "policies = iam_client.list_policies(Scope='Local')  # List only your policies\n",
    "\n",
    "for policy in policies['Policies']:\n",
    "    print(policy['PolicyName'])\n"
   ]
  },
  {
   "cell_type": "code",
   "execution_count": 18,
   "id": "bac3fb9f-549c-4359-862c-5794744dffc1",
   "metadata": {
    "tags": []
   },
   "outputs": [],
   "source": [
    "# Create IAM policies for KB to invoke embedding model\n",
    "bedrock_kb_allow_fm_model_policy_statement = {\n",
    "    \"Version\": \"2012-10-17\",\n",
    "    \"Statement\": [\n",
    "        {\n",
    "            \"Sid\": \"AmazonBedrockAgentBedrockFoundationModelPolicy\",\n",
    "            \"Effect\": \"Allow\",\n",
    "            \"Action\": \"bedrock:InvokeModel\",\n",
    "            \"Resource\": [\n",
    "                embedding_model_arn\n",
    "            ]\n",
    "        }\n",
    "    ]\n",
    "}\n",
    "\n",
    "kb_bedrock_policy_json = json.dumps(bedrock_kb_allow_fm_model_policy_statement)\n",
    "\n",
    "kb_bedrock_policy = iam_client.create_policy(\n",
    "    PolicyName=kb_bedrock_allow_policy_name,\n",
    "    PolicyDocument=kb_bedrock_policy_json\n",
    ")"
   ]
  },
  {
   "cell_type": "code",
   "execution_count": 19,
   "id": "b79582fa-f932-4211-862f-eeccb878af9f",
   "metadata": {
    "tags": []
   },
   "outputs": [],
   "source": [
    "# Create IAM policies for KB to access OpenSearch Serverless\n",
    "bedrock_kb_allow_aoss_policy_statement = {\n",
    "    \"Version\": \"2012-10-17\",\n",
    "    \"Statement\": [\n",
    "        {\n",
    "            \"Effect\": \"Allow\",\n",
    "            \"Action\": \"aoss:APIAccessAll\",\n",
    "            \"Resource\": [\n",
    "                f\"arn:aws:aoss:{region}:{account_id}:collection/*\"\n",
    "            ]\n",
    "        }\n",
    "    ]\n",
    "}\n",
    "\n",
    "\n",
    "kb_aoss_policy_json = json.dumps(bedrock_kb_allow_aoss_policy_statement)\n",
    "\n",
    "kb_aoss_policy = iam_client.create_policy(\n",
    "    PolicyName=kb_aoss_allow_policy_name,\n",
    "    PolicyDocument=kb_aoss_policy_json\n",
    ")"
   ]
  },
  {
   "cell_type": "code",
   "execution_count": 20,
   "id": "08470d9a-1642-483e-9f3a-567e07e7d1a6",
   "metadata": {
    "tags": []
   },
   "outputs": [],
   "source": [
    "kb_s3_allow_policy_statement = {\n",
    "    \"Version\": \"2012-10-17\",\n",
    "    \"Statement\": [\n",
    "        {\n",
    "            \"Sid\": \"AllowKBAccessDocuments\",\n",
    "            \"Effect\": \"Allow\",\n",
    "            \"Action\": [\n",
    "                \"s3:GetObject\",\n",
    "                \"s3:ListBucket\"\n",
    "            ],\n",
    "            \"Resource\": [\n",
    "                f\"arn:aws:s3:::{bucket_name}/*\",\n",
    "                f\"arn:aws:s3:::{bucket_name}\"\n",
    "            ],\n",
    "            \"Condition\": {\n",
    "                \"StringEquals\": {\n",
    "                    \"aws:ResourceAccount\": f\"{account_id}\"\n",
    "                }\n",
    "            }\n",
    "        }\n",
    "    ]\n",
    "}\n",
    "\n",
    "\n",
    "kb_s3_json = json.dumps(kb_s3_allow_policy_statement)\n",
    "kb_s3_policy = iam_client.create_policy(\n",
    "    PolicyName=kb_s3_allow_policy_name,\n",
    "    PolicyDocument=kb_s3_json\n",
    ")"
   ]
  },
  {
   "cell_type": "code",
   "execution_count": 21,
   "id": "086456dc-e255-49bf-b8b9-2bbb645255f9",
   "metadata": {
    "tags": []
   },
   "outputs": [],
   "source": [
    "# Create IAM Role for the agent and attach IAM policies\n",
    "assume_role_policy_document = {\n",
    "    \"Version\": \"2012-10-17\",\n",
    "    \"Statement\": [{\n",
    "          \"Effect\": \"Allow\",\n",
    "          \"Principal\": {\n",
    "            \"Service\": \"bedrock.amazonaws.com\"\n",
    "          },\n",
    "          \"Action\": \"sts:AssumeRole\"\n",
    "    }]\n",
    "}\n",
    "\n"
   ]
  },
  {
   "cell_type": "code",
   "execution_count": 22,
   "id": "c572452c-64bb-4beb-b5b2-4353f6e4d015",
   "metadata": {
    "tags": []
   },
   "outputs": [],
   "source": [
    "assume_role_policy_document_json = json.dumps(assume_role_policy_document)\n"
   ]
  },
  {
   "cell_type": "code",
   "execution_count": 23,
   "id": "e73fd093-8d09-4cf4-b7d7-327dce7c651b",
   "metadata": {
    "tags": []
   },
   "outputs": [],
   "source": [
    "kb_role = iam_client.create_role(\n",
    "    RoleName=kb_role_name,\n",
    "    AssumeRolePolicyDocument=assume_role_policy_document_json\n",
    ")\n",
    "\n"
   ]
  },
  {
   "cell_type": "code",
   "execution_count": 24,
   "id": "b3f75554-3bd5-440e-9b50-58ec46a17c88",
   "metadata": {
    "tags": []
   },
   "outputs": [
    {
     "data": {
      "text/plain": [
       "{'ResponseMetadata': {'RequestId': 'd016bad7-6d89-4722-9990-f663f750a26e',\n",
       "  'HTTPStatusCode': 200,\n",
       "  'HTTPHeaders': {'date': 'Mon, 04 Nov 2024 16:13:59 GMT',\n",
       "   'x-amzn-requestid': 'd016bad7-6d89-4722-9990-f663f750a26e',\n",
       "   'content-type': 'text/xml',\n",
       "   'content-length': '212'},\n",
       "  'RetryAttempts': 0}}"
      ]
     },
     "execution_count": 24,
     "metadata": {},
     "output_type": "execute_result"
    }
   ],
   "source": [
    "# Pause to make sure role is created\n",
    "time.sleep(10)\n",
    "    \n",
    "iam_client.attach_role_policy(\n",
    "    RoleName=kb_role_name,\n",
    "    PolicyArn=kb_bedrock_policy['Policy']['Arn']\n",
    ")\n",
    "\n",
    "iam_client.attach_role_policy(\n",
    "    RoleName=kb_role_name,\n",
    "    PolicyArn=kb_aoss_policy['Policy']['Arn']\n",
    ")\n",
    "\n",
    "iam_client.attach_role_policy(\n",
    "    RoleName=kb_role_name,\n",
    "    PolicyArn=kb_s3_policy['Policy']['Arn']\n",
    ")"
   ]
  },
  {
   "cell_type": "code",
   "execution_count": 25,
   "id": "8e3b9a80-22cb-4d20-b348-f5f30172c552",
   "metadata": {
    "tags": []
   },
   "outputs": [
    {
     "name": "stdout",
     "output_type": "stream",
     "text": [
      "AmazonBedrockExecutionRoleForAgents_bedrock_docs1730623728\n",
      "AmazonBedrockExecutionRoleForAgents_bedrock_docs1730624479\n",
      "AmazonBedrockExecutionRoleForAgents_bedrock_docs1730624761\n",
      "AmazonBedrockExecutionRoleForAgents_bedrock_docs1730646173\n",
      "AmazonBedrockExecutionRoleForAgents_bedrock_docs1730646923\n",
      "AmazonBedrockExecutionRoleForAgents_bedrock_docs1730664838\n",
      "AmazonBedrockExecutionRoleForAgents_bedrock_docs1730670623\n",
      "AmazonBedrockExecutionRoleForAgents_bedrock_docs1730731847\n",
      "AmazonBedrockExecutionRoleForAgents_booking-agent\n",
      "AmazonBedrockExecutionRoleForKnowledgeBase_9394\n",
      "AmazonSageMakerServiceCatalogProductsLaunchRole\n",
      "AmazonSageMakerServiceCatalogProductsUseRole\n",
      "AWSServiceRoleForAmazonEMRServerless\n",
      "AWSServiceRoleForAmazonOpenSearchServerless\n",
      "AWSServiceRoleForAmazonOpenSearchService\n",
      "AWSServiceRoleForAmazonSageMakerNotebooks\n",
      "AWSServiceRoleForAWSCloud9\n",
      "AWSServiceRoleForAWSLicenseManagerMemberAccountRole\n",
      "AWSServiceRoleForAWSLicenseManagerRole\n",
      "AWSServiceRoleForAWSServiceCatalogAppRegistry\n",
      "AWSServiceRoleForCloudTrail\n",
      "AWSServiceRoleForDevOpsGuru\n",
      "AWSServiceRoleForElasticLoadBalancing\n",
      "AWSServiceRoleForGlobalAccelerator\n",
      "AWSServiceRoleForMarketplaceLicenseManagement\n",
      "AWSServiceRoleForOrganizations\n",
      "AWSServiceRoleForRDS\n",
      "AWSServiceRoleForSupport\n",
      "AWSServiceRoleForTrustedAdvisor\n",
      "bedrock-workshop-studio-LambdaExecutionRole-DOZEQpxbLoJ2\n",
      "bedrock-workshop-studio-LifeCycleConfigLambdaRole-uRmQG01FRk7K\n",
      "bedrock-workshop-studio-SageMakerExecutionRole-bpFmpVc1jMFh\n",
      "booking-agent-lambda-role\n",
      "EEOrganizations\n",
      "rapport1_test_docs\n",
      "rapport1_test_docs1730610699\n",
      "rapport1_test_docs1730612149\n",
      "rapport1_test_docs1730613481\n",
      "rapport1_test_docs1730614065\n",
      "rapport1_test_docs1730615197\n",
      "rapport1_test_docs1730623728\n",
      "rapport1_test_docs1730624479\n",
      "rapport1_test_docs1730624761\n",
      "rapport1_test_docs1730646173\n",
      "rapport1_test_docs1730646923\n",
      "rapport1_test_docs1730664838\n",
      "rapport1_test_docs1730670623\n",
      "rapport1_test_docs1730731847\n",
      "rapport1_test_docs1730736817\n",
      "WSLambdaCurtailerRole\n",
      "WSOpsRole\n",
      "WSParticipantRole\n",
      "WSReaperRole\n",
      "WSSystemRole\n"
     ]
    }
   ],
   "source": [
    "import boto3\n",
    "\n",
    "iam_client = boto3.client('iam')\n",
    "\n",
    "roles = iam_client.list_roles()\n",
    "for role in roles['Roles']:\n",
    "    print(role['RoleName'])\n"
   ]
  },
  {
   "cell_type": "code",
   "execution_count": 26,
   "id": "8fa2532a-1748-472d-b73a-56d0f5e4953f",
   "metadata": {
    "tags": []
   },
   "outputs": [
    {
     "data": {
      "text/plain": [
       "'arn:aws:iam::939490215743:role/rapport1_test_docs1730736817'"
      ]
     },
     "execution_count": 26,
     "metadata": {},
     "output_type": "execute_result"
    }
   ],
   "source": [
    "kb_role_arn = kb_role[\"Role\"][\"Arn\"]\n",
    "kb_role_arn"
   ]
  },
  {
   "attachments": {},
   "cell_type": "markdown",
   "id": "aeb07529",
   "metadata": {},
   "source": [
    "##Create_collection"
   ]
  },
  {
   "cell_type": "code",
   "execution_count": 27,
   "id": "c9adf161-e004-4feb-8870-e6d34c8af9cd",
   "metadata": {
    "tags": []
   },
   "outputs": [],
   "source": [
    "# Create OpenSearch Collection\n",
    "security_policy_json = {\n",
    "    \"Rules\": [\n",
    "        {\n",
    "            \"ResourceType\": \"collection\",\n",
    "            \"Resource\":[\n",
    "                f\"collection/{kb_collection_name}\"\n",
    "            ]\n",
    "        }\n",
    "    ],\n",
    "    \"AWSOwnedKey\": True\n",
    "}\n",
    "security_policy = open_search_serverless_client.create_security_policy(\n",
    "    description='security policy of aoss collection',\n",
    "    name=kb_collection_name,\n",
    "    policy=json.dumps(security_policy_json),\n",
    "    type='encryption'\n",
    ")"
   ]
  },
  {
   "cell_type": "code",
   "execution_count": 28,
   "id": "310a9b38-3eab-43b6-837e-32c66f4b43eb",
   "metadata": {
    "tags": []
   },
   "outputs": [],
   "source": [
    "network_policy_json = [\n",
    "  {\n",
    "    \"Rules\": [\n",
    "      {\n",
    "        \"Resource\": [\n",
    "          f\"collection/{kb_collection_name}\"\n",
    "        ],\n",
    "        \"ResourceType\": \"dashboard\"\n",
    "      },\n",
    "      {\n",
    "        \"Resource\": [\n",
    "          f\"collection/{kb_collection_name}\"\n",
    "        ],\n",
    "        \"ResourceType\": \"collection\"\n",
    "      }\n",
    "    ],\n",
    "    \"AllowFromPublic\": True\n",
    "  }\n",
    "]\n",
    "\n",
    "network_policy = open_search_serverless_client.create_security_policy(\n",
    "    description='network policy of aoss collection',\n",
    "    name=kb_collection_name,\n",
    "    policy=json.dumps(network_policy_json),\n",
    "    type='network'\n",
    ")"
   ]
  },
  {
   "cell_type": "code",
   "execution_count": 29,
   "id": "0b5d07dd-039f-42e3-b6d2-054d57c1b80e",
   "metadata": {
    "tags": []
   },
   "outputs": [
    {
     "data": {
      "text/plain": [
       "'arn:aws:sts::939490215743:assumed-role/WSParticipantRole/Participant'"
      ]
     },
     "execution_count": 29,
     "metadata": {},
     "output_type": "execute_result"
    }
   ],
   "source": [
    "response = sts_client.get_caller_identity()\n",
    "current_role = response['Arn']\n",
    "current_role"
   ]
  },
  {
   "cell_type": "code",
   "execution_count": 30,
   "id": "34bb3950-95f5-4b9e-a493-54c636bc32f9",
   "metadata": {
    "tags": []
   },
   "outputs": [],
   "source": [
    "data_policy_json = [\n",
    "  {\n",
    "    \"Rules\": [\n",
    "      {\n",
    "        \"Resource\": [\n",
    "          f\"collection/{kb_collection_name}\"\n",
    "        ],\n",
    "        \"Permission\": [\n",
    "          \"aoss:DescribeCollectionItems\",\n",
    "          \"aoss:CreateCollectionItems\",\n",
    "          \"aoss:UpdateCollectionItems\",\n",
    "          \"aoss:DeleteCollectionItems\"\n",
    "        ],\n",
    "        \"ResourceType\": \"collection\"\n",
    "      },\n",
    "      {\n",
    "        \"Resource\": [\n",
    "          f\"index/{kb_collection_name}/*\"\n",
    "        ],\n",
    "        \"Permission\": [\n",
    "            \"aoss:CreateIndex\",\n",
    "            \"aoss:DeleteIndex\",\n",
    "            \"aoss:UpdateIndex\",\n",
    "            \"aoss:DescribeIndex\",\n",
    "            \"aoss:ReadDocument\",\n",
    "            \"aoss:WriteDocument\"\n",
    "        ],\n",
    "        \"ResourceType\": \"index\"\n",
    "      }\n",
    "    ],\n",
    "    \"Principal\": [\n",
    "        kb_role_arn,\n",
    "        f\"arn:aws:sts::{account_id}:assumed-role/Admin/*\",\n",
    "        current_role\n",
    "    ],\n",
    "    \"Description\": \"\"\n",
    "  }\n",
    "]\n",
    "\n",
    "data_policy = open_search_serverless_client.create_access_policy(\n",
    "    description='data access policy for aoss collection',\n",
    "    name=kb_collection_name,\n",
    "    policy=json.dumps(data_policy_json),\n",
    "    type='data'\n",
    ")"
   ]
  },
  {
   "cell_type": "code",
   "execution_count": 31,
   "id": "17d48287-30fc-428f-ad96-e2968e23a9c9",
   "metadata": {
    "tags": []
   },
   "outputs": [
    {
     "data": {
      "text/plain": [
       "{'createCollectionDetail': {'arn': 'arn:aws:aoss:us-west-2:939490215743:collection/nzik8pithijvalasgq19',\n",
       "  'createdDate': 1730736840880,\n",
       "  'description': 'OpenSearch collection for Amazon Bedrock Knowledge Base',\n",
       "  'id': 'nzik8pithijvalasgq19',\n",
       "  'kmsKeyArn': 'auto',\n",
       "  'lastModifiedDate': 1730736840880,\n",
       "  'name': 'bd-kbc-1730736817',\n",
       "  'standbyReplicas': 'DISABLED',\n",
       "  'status': 'CREATING',\n",
       "  'type': 'VECTORSEARCH'},\n",
       " 'ResponseMetadata': {'RequestId': '33e7f18b-65ab-429e-8fe8-90b80cefecc0',\n",
       "  'HTTPStatusCode': 200,\n",
       "  'HTTPHeaders': {'x-amzn-requestid': '33e7f18b-65ab-429e-8fe8-90b80cefecc0',\n",
       "   'date': 'Mon, 04 Nov 2024 16:14:00 GMT',\n",
       "   'content-type': 'application/x-amz-json-1.0',\n",
       "   'content-length': '382',\n",
       "   'connection': 'keep-alive'},\n",
       "  'RetryAttempts': 0}}"
      ]
     },
     "execution_count": 31,
     "metadata": {},
     "output_type": "execute_result"
    }
   ],
   "source": [
    "opensearch_collection_response = open_search_serverless_client.create_collection(\n",
    "    description='OpenSearch collection for Amazon Bedrock Knowledge Base',\n",
    "    name=kb_collection_name,\n",
    "    standbyReplicas='DISABLED',\n",
    "    type='VECTORSEARCH'\n",
    ")\n",
    "opensearch_collection_response"
   ]
  },
  {
   "cell_type": "code",
   "execution_count": 32,
   "id": "a3cb75ef-8918-484a-98a7-7cd8f6d375e6",
   "metadata": {
    "tags": []
   },
   "outputs": [
    {
     "data": {
      "text/plain": [
       "'arn:aws:aoss:us-west-2:939490215743:collection/nzik8pithijvalasgq19'"
      ]
     },
     "execution_count": 32,
     "metadata": {},
     "output_type": "execute_result"
    }
   ],
   "source": [
    "collection_arn = opensearch_collection_response[\"createCollectionDetail\"][\"arn\"]\n",
    "collection_arn"
   ]
  },
  {
   "cell_type": "code",
   "execution_count": 33,
   "id": "6ef489c6-bbcd-40de-97ff-58c653a886d0",
   "metadata": {
    "tags": []
   },
   "outputs": [
    {
     "name": "stdout",
     "output_type": "stream",
     "text": [
      "Creating collection...\n",
      "\n",
      "Collection successfully created:\n",
      "[{'arn': 'arn:aws:aoss:us-west-2:939490215743:collection/nzik8pithijvalasgq19', 'collectionEndpoint': 'https://nzik8pithijvalasgq19.us-west-2.aoss.amazonaws.com', 'createdDate': 1730736840880, 'dashboardEndpoint': 'https://nzik8pithijvalasgq19.us-west-2.aoss.amazonaws.com/_dashboards', 'description': 'OpenSearch collection for Amazon Bedrock Knowledge Base', 'id': 'nzik8pithijvalasgq19', 'kmsKeyArn': 'auto', 'lastModifiedDate': 1730736864158, 'name': 'bd-kbc-1730736817', 'standbyReplicas': 'DISABLED', 'status': 'ACTIVE', 'type': 'VECTORSEARCH'}]\n"
     ]
    },
    {
     "data": {
      "text/plain": [
       "'nzik8pithijvalasgq19.us-west-2.aoss.amazonaws.com'"
      ]
     },
     "execution_count": 33,
     "metadata": {},
     "output_type": "execute_result"
    }
   ],
   "source": [
    "# wait for collection creation\n",
    "response = open_search_serverless_client.batch_get_collection(names=[kb_collection_name])\n",
    "# Periodically check collection status\n",
    "while (response['collectionDetails'][0]['status']) == 'CREATING':\n",
    "    print('Creating collection...')\n",
    "    time.sleep(30)\n",
    "    response = open_search_serverless_client.batch_get_collection(names=[kb_collection_name])\n",
    "print('\\nCollection successfully created:')\n",
    "print(response[\"collectionDetails\"])\n",
    "# Extract the collection endpoint from the response\n",
    "host = (response['collectionDetails'][0]['collectionEndpoint'])\n",
    "final_host = host.replace(\"https://\", \"\")\n",
    "final_host"
   ]
  },
  {
   "cell_type": "code",
   "execution_count": 34,
   "id": "9cc866ef-6d53-44fd-8d72-086a366c1b53",
   "metadata": {
    "tags": []
   },
   "outputs": [
    {
     "name": "stderr",
     "output_type": "stream",
     "text": [
      "[2024-11-04 11:14:31,260] p197733 {credentials.py:1147} INFO - Found credentials in environment variables.\n",
      "[2024-11-04 11:15:22,108] p197733 {base.py:258} INFO - PUT https://nzik8pithijvalasgq19.us-west-2.aoss.amazonaws.com:443/bedrock-knowledge-base-index [status:200 request:5.847s]\n"
     ]
    },
    {
     "name": "stdout",
     "output_type": "stream",
     "text": [
      "\n",
      "Creating index:\n",
      "{'acknowledged': True, 'shards_acknowledged': True, 'index': 'bedrock-knowledge-base-index'}\n"
     ]
    }
   ],
   "source": [
    "credentials = boto3.Session().get_credentials()\n",
    "service = 'aoss'\n",
    "awsauth = AWS4Auth(\n",
    "    credentials.access_key, \n",
    "    credentials.secret_key,\n",
    "    region, \n",
    "    service, \n",
    "    session_token=credentials.token\n",
    ")\n",
    "\n",
    "# Build the OpenSearch client\n",
    "open_search_client = OpenSearch(\n",
    "    hosts=[{'host': final_host, 'port': 443}],\n",
    "    http_auth=awsauth,\n",
    "    use_ssl=True,\n",
    "    verify_certs=True,\n",
    "    connection_class=RequestsHttpConnection,\n",
    "    timeout=300\n",
    ")\n",
    "# It can take up to a minute for data access rules to be enforced\n",
    "time.sleep(45)\n",
    "index_body = {\n",
    "    \"settings\": {\n",
    "        \"index.knn\": True,\n",
    "        \"number_of_shards\": 1,\n",
    "        \"knn.algo_param.ef_search\": 512,\n",
    "        \"number_of_replicas\": 0,\n",
    "    },\n",
    "    \"mappings\": {\n",
    "        \"properties\": {}\n",
    "    }\n",
    "}\n",
    "\n",
    "index_body[\"mappings\"][\"properties\"][kb_vectorField] = {\n",
    "    \"type\": \"knn_vector\",\n",
    "    \"dimension\": 1536,\n",
    "    \"method\": {\n",
    "         \"name\": \"hnsw\",\n",
    "         \"engine\": \"faiss\"\n",
    "    },\n",
    "}\n",
    "\n",
    "index_body[\"mappings\"][\"properties\"][kb_textField] = {\n",
    "    \"type\": \"text\"\n",
    "}\n",
    "\n",
    "index_body[\"mappings\"][\"properties\"][kb_metadataField] = {\n",
    "    \"type\": \"text\"\n",
    "}\n",
    "\n",
    "# Create index\n",
    "response = open_search_client.indices.create(kb_vector_index_name, body=index_body)\n",
    "print('\\nCreating index:')\n",
    "print(response)"
   ]
  },
  {
   "attachments": {},
   "cell_type": "markdown",
   "id": "0420c998",
   "metadata": {},
   "source": [
    "##Knowledgre_base_storage"
   ]
  },
  {
   "cell_type": "code",
   "execution_count": 35,
   "id": "6e75d1c0-2f90-4811-8ce6-40f1411b6209",
   "metadata": {
    "tags": []
   },
   "outputs": [],
   "source": [
    "storage_configuration = {\n",
    "    'opensearchServerlessConfiguration': {\n",
    "        'collectionArn': collection_arn, \n",
    "        'fieldMapping': {\n",
    "            'metadataField': kb_metadataField,\n",
    "            'textField': kb_textField,\n",
    "            'vectorField': kb_vectorField\n",
    "        },\n",
    "        'vectorIndexName': kb_vector_index_name\n",
    "    },\n",
    "    'type': 'OPENSEARCH_SERVERLESS'\n",
    "}"
   ]
  },
  {
   "cell_type": "code",
   "execution_count": 36,
   "id": "332e1a7b-9682-484b-b498-a595e35652e6",
   "metadata": {
    "tags": []
   },
   "outputs": [
    {
     "name": "stdout",
     "output_type": "stream",
     "text": [
      "{'ResponseMetadata': {'HTTPHeaders': {'connection': 'keep-alive',\n",
      "                                      'content-length': '974',\n",
      "                                      'content-type': 'application/json',\n",
      "                                      'date': 'Mon, 04 Nov 2024 16:16:07 GMT',\n",
      "                                      'x-amz-apigw-id': 'AurzOGeDPHcEvjg=',\n",
      "                                      'x-amzn-requestid': '4ebe5cb9-6c40-49a0-92e7-2ec690de8156',\n",
      "                                      'x-amzn-trace-id': 'Root=1-6728f347-67ee8f1d4e96d0aa51510cad'},\n",
      "                      'HTTPStatusCode': 202,\n",
      "                      'RequestId': '4ebe5cb9-6c40-49a0-92e7-2ec690de8156',\n",
      "                      'RetryAttempts': 0},\n",
      " 'knowledgeBase': {'createdAt': datetime.datetime(2024, 11, 4, 16, 16, 7, 490731, tzinfo=tzutc()),\n",
      "                   'description': 'KB that contains the bedrock documentation',\n",
      "                   'knowledgeBaseArn': 'arn:aws:bedrock:us-west-2:939490215743:knowledge-base/0CEEANELN8',\n",
      "                   'knowledgeBaseConfiguration': {'type': 'VECTOR',\n",
      "                                                  'vectorKnowledgeBaseConfiguration': {'embeddingModelArn': 'arn:aws:bedrock:us-west-2::foundation-model/amazon.titan-embed-text-v1'}},\n",
      "                   'knowledgeBaseId': '0CEEANELN8',\n",
      "                   'name': 'bedrock-docs-kb-1730736817',\n",
      "                   'roleArn': 'arn:aws:iam::939490215743:role/rapport1_test_docs1730736817',\n",
      "                   'status': 'CREATING',\n",
      "                   'storageConfiguration': {'opensearchServerlessConfiguration': {'collectionArn': 'arn:aws:aoss:us-west-2:939490215743:collection/nzik8pithijvalasgq19',\n",
      "                                                                                  'fieldMapping': {'metadataField': 'bedrock-knowledge-base-metadata',\n",
      "                                                                                                   'textField': 'bedrock-knowledge-base-text',\n",
      "                                                                                                   'vectorField': 'bedrock-knowledge-base-vector'},\n",
      "                                                                                  'vectorIndexName': 'bedrock-knowledge-base-index'},\n",
      "                                            'type': 'OPENSEARCH_SERVERLESS'},\n",
      "                   'updatedAt': datetime.datetime(2024, 11, 4, 16, 16, 7, 490731, tzinfo=tzutc())}}\n"
     ]
    }
   ],
   "source": [
    "# Creating the knowledge base\n",
    "try:\n",
    "    # ensure the index is created and available\n",
    "    time.sleep(45)\n",
    "    kb_obj = bedrock_agent_client.create_knowledge_base(\n",
    "        name=kb_name, \n",
    "        description='KB that contains the bedrock documentation',\n",
    "        roleArn=kb_role_arn,\n",
    "        knowledgeBaseConfiguration={\n",
    "            'type': 'VECTOR',  # Corrected type\n",
    "            'vectorKnowledgeBaseConfiguration': {\n",
    "                'embeddingModelArn': embedding_model_arn\n",
    "            }\n",
    "        },\n",
    "        storageConfiguration=storage_configuration\n",
    "    )\n",
    "\n",
    "    # Pretty print the response\n",
    "    pprint.pprint(kb_obj)\n",
    "\n",
    "except Exception as e:\n",
    "    print(f\"Error occurred: {e}\")"
   ]
  },
  {
   "attachments": {},
   "cell_type": "markdown",
   "id": "6b6dc03b",
   "metadata": {},
   "source": [
    "##TECHNICAL_ANALYSIS"
   ]
  },
  {
   "cell_type": "code",
   "execution_count": null,
   "id": "fcde8e47",
   "metadata": {},
   "outputs": [],
   "source": []
  },
  {
   "cell_type": "code",
   "execution_count": 37,
   "id": "f4c0846a",
   "metadata": {},
   "outputs": [],
   "source": [
    "\n",
    "\n",
    "\n",
    "class StockAnalysis:\n",
    "    def __init__(self, ticker: str, start_date: str, end_date: str):\n",
    "        \"\"\"\n",
    "        Initialize StockAnalysis with a ticker symbol, start date, and end date.\n",
    "\n",
    "        Parameters:\n",
    "        ticker (str): The stock ticker symbol (e.g., 'AAPL' for Apple).\n",
    "        start_date (str): The starting date for historical data in 'YYYY-MM-DD' format.\n",
    "        end_date (str): The ending date for historical data in 'YYYY-MM-DD' format.\n",
    "        \"\"\"\n",
    "        self.ticker = ticker\n",
    "        self.start_date = start_date\n",
    "        self.end_date = end_date\n",
    "        self.data = None\n",
    "\n",
    "    def download_data(self) -> None:\n",
    "        \"\"\"\n",
    "        Download historical stock data using the specified ticker symbol and date range.\n",
    "\n",
    "        This method downloads data with a buffer period for calculating indicators.\n",
    "        \"\"\"\n",
    "        buffer_days = 26\n",
    "        start_with_buffer = pd.to_datetime(self.start_date) - pd.Timedelta(days=buffer_days)\n",
    "        self.data = yf.download(self.ticker, start=start_with_buffer.strftime('%Y-%m-%d'), end=self.end_date)\n",
    "        self.data = self.data.copy()\n",
    "\n",
    "    def calculate_rsi(self, period: int = 14) -> None:\n",
    "        \"\"\"\n",
    "        Calculate the Relative Strength Index (RSI) for the stock data.\n",
    "\n",
    "        Parameters:\n",
    "        period (int): The number of periods to use for the RSI calculation (default is 14).\n",
    "\n",
    "        Raises:\n",
    "        ValueError: If data has not been downloaded.\n",
    "        \"\"\"\n",
    "        if self.data is None:\n",
    "            raise ValueError(\"Data not downloaded. Please call download_data() first.\")\n",
    "        \n",
    "        delta = self.data['Close'].diff()\n",
    "        gains = delta.where(delta > 0, 0)\n",
    "        losses = -delta.where(delta < 0, 0)\n",
    "        \n",
    "        avg_gain = gains.ewm(span=period, min_periods=period).mean()\n",
    "        avg_loss = losses.ewm(span=period, min_periods=period).mean()\n",
    "        \n",
    "        rs = avg_gain / avg_loss\n",
    "        self.data.loc[:, 'RSI'] = 100 - (100 / (1 + rs))\n",
    "\n",
    "    def calculate_macd(self, short_window: int = 12, long_window: int = 26, signal_window: int = 9) -> None:\n",
    "        \"\"\"\n",
    "        Calculate the Moving Average Convergence Divergence (MACD) and the Signal Line.\n",
    "\n",
    "        Parameters:\n",
    "        short_window (int): The short-term EMA window (default is 12).\n",
    "        long_window (int): The long-term EMA window (default is 26).\n",
    "        signal_window (int): The signal line EMA window (default is 9).\n",
    "\n",
    "        Raises:\n",
    "        ValueError: If data has not been downloaded.\n",
    "        \"\"\"\n",
    "        if self.data is None:\n",
    "            raise ValueError(\"Data not downloaded. Please call download_data() first.\")\n",
    "        \n",
    "        self.data.loc[:, 'Short_EMA'] = self.data['Close'].ewm(span=short_window, adjust=False).mean()\n",
    "        self.data.loc[:, 'Long_EMA'] = self.data['Close'].ewm(span=long_window, adjust=False).mean()\n",
    "        \n",
    "        self.data.loc[:, 'MACD'] = self.data['Short_EMA'] - self.data['Long_EMA']\n",
    "        self.data.loc[:, 'Signal_Line'] = self.data['MACD'].ewm(span=signal_window, adjust=False).mean()\n",
    "\n",
    "        self.data = self.data.loc[self.start_date:].copy()\n",
    "\n",
    "    def calculate_obv(self) -> None:\n",
    "        \"\"\"\n",
    "        Calculate the On-Balance Volume (OBV) indicator.\n",
    "\n",
    "        Raises:\n",
    "        ValueError: If data has not been downloaded.\n",
    "        \"\"\"\n",
    "        if self.data is None:\n",
    "            raise ValueError(\"Data not downloaded. Please call download_data() first.\")\n",
    "        \n",
    "        price_change = self.data['Close'].diff()\n",
    "        obv = (price_change > 0).astype(int) * self.data['Volume'] - \\\n",
    "              (price_change < 0).astype(int) * self.data['Volume']\n",
    "        \n",
    "        self.data.loc[:, 'OBV'] = obv.cumsum()\n",
    "\n",
    "    def get_rsi_data(self) -> pd.DataFrame:\n",
    "        \"\"\"\n",
    "        Return a DataFrame of dates and their corresponding RSI values.\n",
    "\n",
    "        Returns:\n",
    "        pd.DataFrame: A DataFrame containing the Date and RSI values.\n",
    "\n",
    "        Raises:\n",
    "        ValueError: If RSI has not been calculated.\n",
    "        \"\"\"\n",
    "        if 'RSI' not in self.data.columns:\n",
    "            raise ValueError(\"RSI not calculated. Please call calculate_rsi() first.\")\n",
    "        \n",
    "        rsi_data = self.data[['RSI']].dropna().reset_index()\n",
    "        rsi_data.columns = ['Date', 'RSI']\n",
    "        return rsi_data\n",
    "\n",
    "    def get_macd_data(self) -> pd.DataFrame:\n",
    "        \"\"\"\n",
    "        Return a DataFrame of dates and their corresponding MACD and Signal Line values.\n",
    "\n",
    "        Returns:\n",
    "        pd.DataFrame: A DataFrame containing the Date, MACD, and Signal Line values.\n",
    "\n",
    "        Raises:\n",
    "        ValueError: If MACD has not been calculated.\n",
    "        \"\"\"\n",
    "        if 'MACD' not in self.data.columns or 'Signal_Line' not in self.data.columns:\n",
    "            raise ValueError(\"MACD not calculated. Please call calculate_macd() first.\")\n",
    "        \n",
    "        macd_data = self.data[['MACD', 'Signal_Line']].dropna().reset_index()\n",
    "        macd_data.columns = ['Date', 'MACD', 'Signal Line']\n",
    "        return macd_data\n",
    "\n",
    "    def get_obv_data(self) -> pd.DataFrame:\n",
    "        \"\"\"\n",
    "        Return a DataFrame of dates and their corresponding OBV values.\n",
    "\n",
    "        Returns:\n",
    "        pd.DataFrame: A DataFrame containing the Date and OBV values.\n",
    "\n",
    "        Raises:\n",
    "        ValueError: If OBV has not been calculated.\n",
    "        \"\"\"\n",
    "        if 'OBV' not in self.data.columns:\n",
    "            raise ValueError(\"OBV not calculated. Please call calculate_obv() first.\")\n",
    "        \n",
    "        obv_data = self.data[['OBV']].dropna().reset_index()\n",
    "        obv_data.columns = ['Date', 'OBV']\n",
    "        return obv_data\n",
    "\n",
    "    def plot_rsi(self) -> str:\n",
    "        \"\"\"\n",
    "        Plot RSI and stock price, returning a base64-encoded image string.\n",
    "\n",
    "        Returns:\n",
    "        str: A base64-encoded string representing the plot image.\n",
    "\n",
    "        Raises:\n",
    "        ValueError: If RSI has not been calculated.\n",
    "        \"\"\"\n",
    "        if self.data is None or 'RSI' not in self.data.columns:\n",
    "            raise ValueError(\"RSI not calculated. Please calculate RSI before plotting.\")\n",
    "\n",
    "        fig, ax1 = plt.subplots(figsize=(12, 6))\n",
    "\n",
    "        ax1.plot(self.data.index, self.data['RSI'], label='RSI', color='blue')\n",
    "        ax1.axhline(30, color='red', linestyle='dotted', linewidth=1, label='Oversold (30)')\n",
    "        ax1.axhline(70, color='green', linestyle='dotted', linewidth=1, label='Overbought (70)')\n",
    "        ax1.set_ylim(0, 100)\n",
    "        ax1.set_ylabel(\"RSI\")\n",
    "        ax1.set_title(f\"RSI and Stock Price for {self.ticker} from {self.start_date} to {self.end_date}\")\n",
    "        ax1.legend(loc=\"upper left\")\n",
    "        ax1.grid()\n",
    "\n",
    "        ax2 = ax1.twinx()\n",
    "        ax2.plot(self.data.index, self.data['Close'], label='Stock Price', color='black', alpha=0.5)\n",
    "        ax2.set_ylabel(\"Stock Price\")\n",
    "        ax2.legend(loc=\"upper right\")\n",
    "\n",
    "        # Save the plot to a BytesIO object and encode it\n",
    "        buf = BytesIO()\n",
    "        plt.savefig(buf, format='png')\n",
    "        plt.close(fig)\n",
    "        buf.seek(0)\n",
    "        return base64.b64encode(buf.getvalue()).decode('utf-8')  # Return base64 string\n",
    "\n",
    "    def plot_macd(self) -> str:\n",
    "        \"\"\"\n",
    "        Plot MACD and stock price, returning a base64-encoded image string.\n",
    "\n",
    "        Returns:\n",
    "        str: A base64-encoded string representing the plot image.\n",
    "\n",
    "        Raises:\n",
    "        ValueError: If MACD has not been calculated.\n",
    "        \"\"\"\n",
    "        if self.data is None or 'MACD' not in self.data.columns or 'Signal_Line' not in self.data.columns:\n",
    "            raise ValueError(\"MACD not calculated. Please calculate MACD before plotting.\")\n",
    "\n",
    "        fig, ax1 = plt.subplots(figsize=(12, 6))\n",
    "\n",
    "        ax1.plot(self.data.index, self.data['MACD'], label='MACD', color='blue')\n",
    "        ax1.plot(self.data.index, self.data['Signal_Line'], label='Signal Line', color='orange')\n",
    "        ax1.axhline(0, color='black', linestyle='dashed', linewidth=1)\n",
    "        ax1.set_title(f\"MACD and Stock Price for {self.ticker} from {self.start_date} to {self.end_date}\")\n",
    "        ax1.set_ylabel(\"MACD\")\n",
    "        ax1.legend(loc=\"upper left\")\n",
    "        ax1.grid()\n",
    "\n",
    "        ax2 = ax1.twinx()\n",
    "        ax2.plot(self.data.index, self.data['Close'], label='Stock Price', color='black', alpha=0.5)\n",
    "        ax2.set_ylabel(\"Stock Price\")\n",
    "        ax2.legend(loc=\"upper right\")\n",
    "\n",
    "        # Save the plot to a BytesIO object and encode it\n",
    "        buf = BytesIO()\n",
    "        plt.savefig(buf, format='png')\n",
    "        plt.close(fig)\n",
    "        buf.seek(0)\n",
    "        return base64.b64encode(buf.getvalue())\n",
    "\n",
    "\n",
    "    def plot_obv(self) -> str:\n",
    "        \"\"\"\n",
    "        Plots OBV and stock price, returning a base64-encoded image string.\n",
    "        \"\"\"\n",
    "        if self.data is None or 'OBV' not in self.data.columns:\n",
    "            raise ValueError(\"OBV not calculated. Please calculate OBV before plotting.\")\n",
    "\n",
    "        # Create a figure and axis for plotting\n",
    "        fig, ax1 = plt.subplots(figsize=(12, 6))\n",
    "\n",
    "        # Plot OBV\n",
    "        ax1.plot(self.data.index, self.data['OBV'], label='OBV', color='purple')\n",
    "        ax1.set_ylabel(\"OBV\")\n",
    "        ax1.set_title(f\"OBV and Stock Price for {self.ticker} from {self.start_date} to {self.end_date}\")\n",
    "        ax1.legend(loc=\"upper left\")\n",
    "        ax1.grid()\n",
    "\n",
    "        # Create a second y-axis for the stock price\n",
    "        ax2 = ax1.twinx()\n",
    "        ax2.plot(self.data.index, self.data['Close'], label='Stock Price', color='black', alpha=0.5)\n",
    "        ax2.set_ylabel(\"Stock Price\")\n",
    "        ax2.legend(loc=\"upper right\")\n",
    "\n",
    "        # Save the plot to a BytesIO object and encode it\n",
    "        buf = BytesIO()\n",
    "        plt.savefig(buf, format='png')\n",
    "        plt.close(fig)  # Close the figure to free up memory\n",
    "        buf.seek(0)\n",
    "        return base64.b64encode(buf.getvalue()).decode('utf-8')  # Return base64 string\n",
    "\n",
    "    def get_fear_and_greed_index(self):\n",
    "        \"\"\"\n",
    "        Retrieves the current Fear and Greed index value.\n",
    "        \"\"\"\n",
    "        return fear_and_greed.get().value\n",
    "\n",
    "    def get_all_data_summary(self) -> dict:\n",
    "        \"\"\"\n",
    "        Returns a summary of all calculated indicators and the Fear and Greed index\n",
    "        in a structured dictionary format for easy recognition.\n",
    "        \"\"\"\n",
    "        summary = {\n",
    "            \"Ticker\": self.ticker,\n",
    "            \"Start Date\": self.start_date,\n",
    "            \"End Date\": self.end_date,\n",
    "            \"Fear and Greed Index\": self.get_fear_and_greed_index(),\n",
    "            \"RSI Values\": [],\n",
    "            \"MACD Values\": [],\n",
    "            \"OBV Values\": []\n",
    "        }\n",
    "\n",
    "        # RSI Data\n",
    "        if 'RSI' in self.data.columns:\n",
    "            rsi_data = self.get_rsi_data()  # Ensure this method exists\n",
    "            for index, row in rsi_data.iterrows():\n",
    "                summary[\"RSI Values\"].append({\"Date\": row['Date'].date().isoformat(), \"RSI\": round(row['RSI'], 2)})\n",
    "        else:\n",
    "            summary[\"RSI Values\"].append({\"Error\": \"RSI has not been calculated.\"})\n",
    "\n",
    "        # MACD Data\n",
    "        if 'MACD' in self.data.columns and 'Signal_Line' in self.data.columns:\n",
    "            macd_data = self.get_macd_data()  # Ensure this method exists\n",
    "            for index, row in macd_data.iterrows():\n",
    "                summary[\"MACD Values\"].append({\n",
    "                    \"Date\": row['Date'].date().isoformat(),\n",
    "                    \"MACD\": round(row['MACD'], 2),\n",
    "                    \"Signal Line\": round(row['Signal Line'], 2)\n",
    "                })\n",
    "        else:\n",
    "            summary[\"MACD Values\"].append({\"Error\": \"MACD has not been calculated.\"})\n",
    "\n",
    "        # OBV Data\n",
    "        if 'OBV' in self.data.columns:\n",
    "            obv_data = self.get_obv_data()  # Ensure this method exists\n",
    "            for index, row in obv_data.iterrows():\n",
    "                summary[\"OBV Values\"].append({\"Date\": row['Date'].date().isoformat(), \"OBV\": round(row['OBV'], 2)})\n",
    "        else:\n",
    "            summary[\"OBV Values\"].append({\"Error\": \"OBV has not been calculated.\"})\n",
    "\n",
    "        return summary\n",
    "\n",
    "    def get_complete_analysis(self) -> dict:\n",
    "        \"\"\"\n",
    "        Downloads data, calculates all indicators (RSI, MACD, OBV), and returns a complete summary.\n",
    "\n",
    "        Returns:\n",
    "            dict: A dictionary containing all calculated indicators and the Fear and Greed index.\n",
    "\n",
    "        Raises:\n",
    "            ValueError: If there's an error downloading data or calculating indicators.\n",
    "        \"\"\"\n",
    "        try:\n",
    "            # Download the data\n",
    "            self.download_data()\n",
    "    \n",
    "            # Calculate all indicators\n",
    "            self.calculate_rsi()  # Ensure this method exists\n",
    "            self.calculate_macd()  # Ensure this method exists\n",
    "            self.calculate_obv()\n",
    "    \n",
    "            # Get and return the summary\n",
    "            return self.get_all_data_summary()\n",
    "    \n",
    "        except Exception as e:\n",
    "            raise ValueError(f\"Error performing complete analysis: {str(e)}\")\n",
    "\n",
    "    def get_financial_reports(self):\n",
    "        \"\"\"\n",
    "        Retrieves financial reports from Yahoo Finance and formats the output.\n",
    "        \"\"\"\n",
    "        ticker = yf.Ticker(self.ticker)\n",
    "        reports = {}\n",
    "        try:\n",
    "            # Retrieve the financial statements\n",
    "            income_statement = ticker.income_stmt\n",
    "            balance_sheet = ticker.balancesheet\n",
    "            cash_flow_statement = ticker.cashflow\n",
    "\n",
    "            # Convert DataFrames to lists of dictionaries\n",
    "            reports['Income Statement'] = income_statement.reset_index().to_dict(orient='records')\n",
    "            reports['Balance Sheet'] = balance_sheet.reset_index().to_dict(orient='records')\n",
    "            reports['Cash Flow Statement'] = cash_flow_statement.reset_index().to_dict(orient='records')\n",
    "\n",
    "            # Convert all Timestamp keys to string\n",
    "            for report in reports.values():\n",
    "                for entry in report:\n",
    "                    for key in list(entry.keys()):\n",
    "                        if isinstance(key, pd.Timestamp):\n",
    "                            entry[str(key)] = entry.pop(key)  # Convert Timestamp to string key\n",
    "\n",
    "        except Exception as e:\n",
    "            print(f\"Error retrieving financial reports: {e}\")\n",
    "            return {}\n",
    "\n",
    "        return reports\n",
    "\n",
    "\n"
   ]
  },
  {
   "cell_type": "code",
   "execution_count": 38,
   "id": "55fc1406",
   "metadata": {},
   "outputs": [],
   "source": [
    "#s3_client.upload_file(local_file_path, bucket_name, os.path.join(kb_key, f))\n"
   ]
  },
  {
   "cell_type": "code",
   "execution_count": 83,
   "id": "d7abda39",
   "metadata": {},
   "outputs": [],
   "source": [
    "ticker = 'AAPL'\n",
    "technical_data = StockAnalysis('VST',\"2023-02-13\",\"2024-03-13\")"
   ]
  },
  {
   "cell_type": "code",
   "execution_count": null,
   "id": "20ea54f6-da8d-4a3b-9368-f72d26dfb470",
   "metadata": {
    "tags": []
   },
   "outputs": [
    {
     "data": {
      "text/plain": [
       "{'ResponseMetadata': {'RequestId': '00a2c1c8-f9f6-4fb1-89a0-3750fe622c88',\n",
       "  'HTTPStatusCode': 200,\n",
       "  'HTTPHeaders': {'date': 'Mon, 04 Nov 2024 16:17:06 GMT',\n",
       "   'x-amzn-requestid': '00a2c1c8-f9f6-4fb1-89a0-3750fe622c88',\n",
       "   'content-type': 'text/xml',\n",
       "   'content-length': '212'},\n",
       "  'RetryAttempts': 0}}"
      ]
     },
     "execution_count": 53,
     "metadata": {},
     "output_type": "execute_result"
    }
   ],
   "source": [
    "# Create IAM Role for the agent and attach IAM policies\n",
    "assume_role_policy_document = {\n",
    "    \"Version\": \"2012-10-17\",\n",
    "    \"Statement\": [{\n",
    "          \"Effect\": \"Allow\",\n",
    "          \"Principal\": {\n",
    "            \"Service\": \"bedrock.amazonaws.com\"\n",
    "          },\n",
    "          \"Action\": \"sts:AssumeRole\"\n",
    "    }]\n",
    "}\n",
    "\n",
    "assume_role_policy_document_json = json.dumps(assume_role_policy_document)\n",
    "agent_role = iam_client.create_role(\n",
    "    RoleName=agent_role_name,\n",
    "    AssumeRolePolicyDocument=assume_role_policy_document_json\n",
    ")\n",
    "\n",
    "# Pause to make sure role is created\n",
    "time.sleep(20)\n",
    "    \n",
    "iam_client.attach_role_policy(\n",
    "    RoleName=agent_role_name,\n",
    "    PolicyArn=agent_bedrock_policy['Policy']['Arn']\n",
    ")\n",
    "\n",
    "\n",
    "iam_client.attach_role_policy(\n",
    "    RoleName=agent_role_name,\n",
    "    PolicyArn=agent_kb_schema_policy['Policy']['Arn']\n",
    ")"
   ]
  },
  {
   "cell_type": "code",
   "execution_count": 54,
   "id": "fed37e76-d169-46a5-82e0-5537d8e48e61",
   "metadata": {
    "tags": []
   },
   "outputs": [],
   "source": [
    "# Create Agent\n",
    "response = bedrock_agent_client.create_agent(\n",
    "    agentName=agent_name,\n",
    "    agentResourceRoleArn=agent_role['Role']['Arn'],\n",
    "    description=\"Agent supporting Amazon Bedrock Developers.\",\n",
    "    idleSessionTTLInSeconds=1800,\n",
    "    foundationModel=model_id,\n",
    "    instruction=agent_instruction,\n",
    ")"
   ]
  },
  {
   "cell_type": "code",
   "execution_count": 55,
   "id": "6b5edb25-00b2-42af-9912-519316096f11",
   "metadata": {
    "tags": []
   },
   "outputs": [
    {
     "data": {
      "text/plain": [
       "'KTTEPR1I17'"
      ]
     },
     "execution_count": 55,
     "metadata": {},
     "output_type": "execute_result"
    }
   ],
   "source": [
    "agent_id = response['agent']['agentId']\n",
    "agent_id"
   ]
  },
  {
   "cell_type": "code",
   "execution_count": 57,
   "id": "9887ce42-765b-4328-bb98-382720ea1d32",
   "metadata": {
    "tags": []
   },
   "outputs": [],
   "source": [
    "agent_kb_description = bedrock_agent_client.associate_agent_knowledge_base(\n",
    "    agentId=agent_id,\n",
    "    agentVersion='DRAFT',\n",
    "    description=f'Use the information in the {kb_name} knowledge base to provide accurate responses to the questions about Amazon Bedrock.',\n",
    "    knowledgeBaseId=knowledge_base_id \n",
    ")"
   ]
  },
  {
   "cell_type": "code",
   "execution_count": 58,
   "id": "30046354-5154-4845-82c1-d6290a3d6097",
   "metadata": {
    "tags": []
   },
   "outputs": [
    {
     "data": {
      "text/plain": [
       "{'ResponseMetadata': {'RequestId': 'c1ce04fc-c04c-48b5-9b91-28ee4feabe38',\n",
       "  'HTTPStatusCode': 202,\n",
       "  'HTTPHeaders': {'date': 'Mon, 04 Nov 2024 16:17:27 GMT',\n",
       "   'content-type': 'application/json',\n",
       "   'content-length': '119',\n",
       "   'connection': 'keep-alive',\n",
       "   'x-amzn-requestid': 'c1ce04fc-c04c-48b5-9b91-28ee4feabe38',\n",
       "   'x-amz-apigw-id': 'Aur_xHfovHcEqKA=',\n",
       "   'x-amzn-trace-id': 'Root=1-6728f397-5c4476066803f7ac676e4991'},\n",
       "  'RetryAttempts': 0},\n",
       " 'agentId': 'KTTEPR1I17',\n",
       " 'agentStatus': 'PREPARING',\n",
       " 'agentVersion': 'DRAFT',\n",
       " 'preparedAt': datetime.datetime(2024, 11, 4, 16, 17, 27, 853294, tzinfo=tzutc())}"
      ]
     },
     "execution_count": 58,
     "metadata": {},
     "output_type": "execute_result"
    }
   ],
   "source": [
    "agent_prepare = bedrock_agent_client.prepare_agent(agentId=agent_id)\n",
    "agent_prepare"
   ]
  },
  {
   "cell_type": "code",
   "execution_count": 59,
   "id": "e803d00c-33a9-4043-b20e-3ddd5f86ffe7",
   "metadata": {
    "tags": []
   },
   "outputs": [],
   "source": [
    "# Pause to make sure agent is prepared\n",
    "time.sleep(30)\n",
    "agent_alias = bedrock_agent_client.create_agent_alias(\n",
    "    agentId=agent_id,\n",
    "    agentAliasName=agent_alias_name\n",
    ")\n",
    "# Pause to make sure agent alias is ready\n",
    "time.sleep(30)"
   ]
  },
  {
   "cell_type": "code",
   "execution_count": 60,
   "id": "4b1fb434-1c01-402a-905c-833dd5a5b519",
   "metadata": {
    "tags": []
   },
   "outputs": [
    {
     "data": {
      "text/plain": [
       "{'ResponseMetadata': {'RequestId': 'e2f6ef9d-7f1c-46dd-8df6-9c7a2d5c2650',\n",
       "  'HTTPStatusCode': 202,\n",
       "  'HTTPHeaders': {'date': 'Mon, 04 Nov 2024 16:18:01 GMT',\n",
       "   'content-type': 'application/json',\n",
       "   'content-length': '354',\n",
       "   'connection': 'keep-alive',\n",
       "   'x-amzn-requestid': 'e2f6ef9d-7f1c-46dd-8df6-9c7a2d5c2650',\n",
       "   'x-amz-apigw-id': 'AusE9FD9vHcEusA=',\n",
       "   'x-amzn-trace-id': 'Root=1-6728f3b8-013b465a63117c0319a0daf4'},\n",
       "  'RetryAttempts': 0},\n",
       " 'agentAlias': {'agentAliasArn': 'arn:aws:bedrock:us-west-2:939490215743:agent-alias/KTTEPR1I17/R2VDP7TZGT',\n",
       "  'agentAliasId': 'R2VDP7TZGT',\n",
       "  'agentAliasName': 'bedrock-docs-alias1730736817',\n",
       "  'agentAliasStatus': 'CREATING',\n",
       "  'agentId': 'KTTEPR1I17',\n",
       "  'createdAt': datetime.datetime(2024, 11, 4, 16, 18, 1, 15735, tzinfo=tzutc()),\n",
       "  'routingConfiguration': [{}],\n",
       "  'updatedAt': datetime.datetime(2024, 11, 4, 16, 18, 1, 15735, tzinfo=tzutc())}}"
      ]
     },
     "execution_count": 60,
     "metadata": {},
     "output_type": "execute_result"
    }
   ],
   "source": [
    "agent_alias\n"
   ]
  },
  {
   "cell_type": "code",
   "execution_count": 61,
   "id": "5f10daf9-ccb6-4ce6-838c-83eb7d43ffc3",
   "metadata": {
    "tags": []
   },
   "outputs": [],
   "source": [
    "# Extract the agentAliasId from the response\n",
    "agent_alias_id = agent_alias['agentAlias']['agentAliasId']\n",
    "\n",
    "## create a random id for session initiator id\n",
    "session_id:str = str(uuid.uuid1())\n",
    "enable_trace:bool = True\n",
    "end_session:bool = False\n",
    "\n"
   ]
  },
  {
   "cell_type": "code",
   "execution_count": 62,
   "id": "0656b12e-be11-4a88-8ed2-cf9158f6d33d",
   "metadata": {
    "tags": []
   },
   "outputs": [
    {
     "name": "stderr",
     "output_type": "stream",
     "text": [
      "[2024-11-04 11:18:36,801] p197733 {3534585163.py:11} INFO - None\n"
     ]
    },
    {
     "name": "stdout",
     "output_type": "stream",
     "text": [
      "{'ResponseMetadata': {'HTTPHeaders': {'connection': 'keep-alive',\n",
      "                                      'content-type': 'application/vnd.amazon.eventstream',\n",
      "                                      'date': 'Mon, 04 Nov 2024 16:18:36 GMT',\n",
      "                                      'transfer-encoding': 'chunked',\n",
      "                                      'x-amz-bedrock-agent-session-id': '7092a693-9ac8-11ef-858c-90e868d4499b',\n",
      "                                      'x-amzn-bedrock-agent-content-type': 'application/json',\n",
      "                                      'x-amzn-requestid': 'e5034c58-81c4-4f69-a816-6345b37ae31e'},\n",
      "                      'HTTPStatusCode': 200,\n",
      "                      'RequestId': 'e5034c58-81c4-4f69-a816-6345b37ae31e',\n",
      "                      'RetryAttempts': 0},\n",
      " 'completion': <botocore.eventstream.EventStream object at 0x71d751bb0da0>,\n",
      " 'contentType': 'application/json',\n",
      " 'sessionId': '7092a693-9ac8-11ef-858c-90e868d4499b'}\n"
     ]
    }
   ],
   "source": [
    "# invoke the agent API\n",
    "agentResponse = bedrock_agent_runtime_client.invoke_agent(\n",
    "    inputText=f\"tu vas rediger un texte financier sur{ticker} \",\n",
    "    agentId=agent_id,\n",
    "    agentAliasId=agent_alias_id, \n",
    "    sessionId=session_id,\n",
    "    enableTrace=enable_trace, \n",
    "    endSession= end_session\n",
    ")\n",
    "\n",
    "logger.info(pprint.pprint(agentResponse))"
   ]
  },
  {
   "cell_type": "code",
   "execution_count": 63,
   "id": "ca87e166-37d7-4bfc-96ad-5cc3db03f1c5",
   "metadata": {
    "tags": []
   },
   "outputs": [
    {
     "name": "stderr",
     "output_type": "stream",
     "text": [
      "[2024-11-04 11:18:39,077] p197733 {<timed exec>:11} INFO - {\n",
      "  \"agentAliasId\": \"R2VDP7TZGT\",\n",
      "  \"agentId\": \"KTTEPR1I17\",\n",
      "  \"agentVersion\": \"1\",\n",
      "  \"sessionId\": \"7092a693-9ac8-11ef-858c-90e868d4499b\",\n",
      "  \"trace\": {\n",
      "    \"orchestrationTrace\": {\n",
      "      \"invocationInput\": {\n",
      "        \"invocationType\": \"KNOWLEDGE_BASE\",\n",
      "        \"knowledgeBaseLookupInput\": {\n",
      "          \"knowledgeBaseId\": \"0CEEANELN8\",\n",
      "          \"text\": \"tu vas rediger un texte financier surTSLA \"\n",
      "        },\n",
      "        \"traceId\": \"e5034c58-81c4-4f69-a816-6345b37ae31e-0\"\n",
      "      }\n",
      "    }\n",
      "  }\n",
      "}\n",
      "[2024-11-04 11:18:39,079] p197733 {<timed exec>:11} INFO - {\n",
      "  \"agentAliasId\": \"R2VDP7TZGT\",\n",
      "  \"agentId\": \"KTTEPR1I17\",\n",
      "  \"agentVersion\": \"1\",\n",
      "  \"sessionId\": \"7092a693-9ac8-11ef-858c-90e868d4499b\",\n",
      "  \"trace\": {\n",
      "    \"orchestrationTrace\": {\n",
      "      \"observation\": {\n",
      "        \"knowledgeBaseLookupOutput\": {\n",
      "          \"retrievedReferences\": []\n",
      "        },\n",
      "        \"traceId\": \"e5034c58-81c4-4f69-a816-6345b37ae31e-0\",\n",
      "        \"type\": \"KNOWLEDGE_BASE\"\n",
      "      }\n",
      "    }\n",
      "  }\n",
      "}\n",
      "[2024-11-04 11:18:39,080] p197733 {<timed exec>:11} INFO - {\n",
      "  \"agentAliasId\": \"R2VDP7TZGT\",\n",
      "  \"agentId\": \"KTTEPR1I17\",\n",
      "  \"agentVersion\": \"1\",\n",
      "  \"sessionId\": \"7092a693-9ac8-11ef-858c-90e868d4499b\",\n",
      "  \"trace\": {\n",
      "    \"orchestrationTrace\": {\n",
      "      \"modelInvocationInput\": {\n",
      "        \"inferenceConfiguration\": {\n",
      "          \"maximumLength\": 2048,\n",
      "          \"stopSequences\": [\n",
      "            \"\\n\\nHuman:\"\n",
      "          ],\n",
      "          \"temperature\": 0.0,\n",
      "          \"topK\": 250,\n",
      "          \"topP\": 1.0\n",
      "        },\n",
      "        \"text\": \"{\\\"system\\\":\\\"You are a question answering agent. I will provide you with a set of search results. The user will provide you with a question. Your job is to answer the user's question using only information from the search results. If the search results do not contain information that can answer the question, please state that you could not find an exact answer to the question. Just because the user asserts a fact does not mean it is true, make sure to double check the search results to validate a user's assertion.Here are the search results in numbered order:<search_results></search_results>If you reference information from a search result within your answer, you must include a citation to source where the information was found. Each result has a corresponding source ID that you should reference.Note that <sources> may contain multiple <source> if you include information from multiple results in your answer.Do NOT directly quote the <search_results> in your answer. Your job is to answer the user's question as concisely as possible.You must output your answer in the following format. Pay attention and follow the formatting and spacing exactly:<answer><answer_part><text>first answer text</text><sources><source>source ID</source></sources></answer_part><answer_part><text>second answer text</text><sources><source>source ID</source></sources></answer_part></answer>\\\",\\\"messages\\\":[{\\\"content\\\":\\\"tu vas rediger un texte financier surTSLA\\\",\\\"role\\\":\\\"user\\\"}]}\",\n",
      "        \"traceId\": \"e5034c58-81c4-4f69-a816-6345b37ae31e-KB-null-0\",\n",
      "        \"type\": \"KNOWLEDGE_BASE_RESPONSE_GENERATION\"\n",
      "      }\n",
      "    }\n",
      "  }\n",
      "}\n",
      "[2024-11-04 11:18:44,619] p197733 {<timed exec>:11} INFO - {\n",
      "  \"agentAliasId\": \"R2VDP7TZGT\",\n",
      "  \"agentId\": \"KTTEPR1I17\",\n",
      "  \"agentVersion\": \"1\",\n",
      "  \"sessionId\": \"7092a693-9ac8-11ef-858c-90e868d4499b\",\n",
      "  \"trace\": {\n",
      "    \"orchestrationTrace\": {\n",
      "      \"observation\": {\n",
      "        \"finalResponse\": {\n",
      "          \"text\": \"Tesla Inc. est une entreprise am\\u00e9ricaine qui con\\u00e7oit et fabrique des v\\u00e9hicules \\u00e9lectriques haut de gamme, ainsi que des produits d'\\u00e9nergie solaire et de stockage d'\\u00e9nergie. Fond\\u00e9e en 2003 par des entrepreneurs dont Elon Musk, Tesla est devenue un leader dans le domaine des v\\u00e9hicules \\u00e9lectriques avec ses mod\\u00e8les comme la Model S, la Model X, la Model 3 et la Model Y. Tesla a connu une croissance rapide ces derni\\u00e8res ann\\u00e9es, stimul\\u00e9e par la demande croissante pour les v\\u00e9hicules \\u00e9lectriques et les technologies \\u00e9nerg\\u00e9tiques propres. Cependant, l'entreprise fait \\u00e9galement face \\u00e0 des d\\u00e9fis tels que la concurrence accrue, les probl\\u00e8mes de production et de cha\\u00eene d'approvisionnement, ainsi que les inqui\\u00e9tudes concernant sa valorisation boursi\\u00e8re \\u00e9lev\\u00e9e.\"\n",
      "        },\n",
      "        \"traceId\": \"e5034c58-81c4-4f69-a816-6345b37ae31e-1\",\n",
      "        \"type\": \"FINISH\"\n",
      "      }\n",
      "    }\n",
      "  }\n",
      "}\n",
      "[2024-11-04 11:18:44,621] p197733 {<timed exec>:6} INFO - Final answer ->\n",
      "Tesla Inc. est une entreprise américaine qui conçoit et fabrique des véhicules électriques haut de gamme, ainsi que des produits d'énergie solaire et de stockage d'énergie. Fondée en 2003 par des entrepreneurs dont Elon Musk, Tesla est devenue un leader dans le domaine des véhicules électriques avec ses modèles comme la Model S, la Model X, la Model 3 et la Model Y. Tesla a connu une croissance rapide ces dernières années, stimulée par la demande croissante pour les véhicules électriques et les technologies énergétiques propres. Cependant, l'entreprise fait également face à des défis tels que la concurrence accrue, les problèmes de production et de chaîne d'approvisionnement, ainsi que les inquiétudes concernant sa valorisation boursière élevée.\n"
     ]
    },
    {
     "name": "stdout",
     "output_type": "stream",
     "text": [
      "CPU times: user 7.47 ms, sys: 132 μs, total: 7.6 ms\n",
      "Wall time: 5.54 s\n"
     ]
    }
   ],
   "source": [
    "%%time\n",
    "event_stream = agentResponse['completion']\n",
    "try:\n",
    "    for event in event_stream:        \n",
    "        if 'chunk' in event:\n",
    "            data = event['chunk']['bytes']\n",
    "            logger.info(f\"Final answer ->\\n{data.decode('utf8')}\")\n",
    "            agent_answer = data.decode('utf8')\n",
    "            end_event_received = True\n",
    "            # End event indicates that the request finished successfully\n",
    "        elif 'trace' in event:\n",
    "            logger.info(json.dumps(event['trace'], indent=2))\n",
    "        else:\n",
    "            raise Exception(\"unexpected event.\", event)\n",
    "except Exception as e:\n",
    "    raise Exception(\"unexpected event.\", e)"
   ]
  },
  {
   "cell_type": "code",
   "execution_count": 64,
   "id": "fa51fb3c-ed07-4eda-9026-95c778ce1bce",
   "metadata": {},
   "outputs": [],
   "source": [
    "def simple_agent_invoke(input_text, agent_id, agent_alias_id, session_id=None, enable_trace=False, end_session=False):\n",
    "    if session_id is None:\n",
    "        session_id:str = str(uuid.uuid1())\n",
    "\n",
    "    agentResponse = bedrock_agent_runtime_client.invoke_agent(\n",
    "        inputText=input_text,\n",
    "        agentId=agent_id,\n",
    "        agentAliasId=agent_alias_id, \n",
    "        sessionId=session_id,\n",
    "        enableTrace=enable_trace, \n",
    "        endSession= end_session\n",
    "    )\n",
    "    logger.info(pprint.pprint(agentResponse))\n",
    "    \n",
    "    agent_answer = ''\n",
    "    event_stream = agentResponse['completion']\n",
    "    try:\n",
    "        for event in event_stream:        \n",
    "            if 'chunk' in event:\n",
    "                data = event['chunk']['bytes']\n",
    "                logger.info(f\"Final answer ->\\n{data.decode('utf8')}\")\n",
    "                agent_answer = data.decode('utf8')\n",
    "                end_event_received = True\n",
    "                # End event indicates that the request finished successfully\n",
    "            elif 'trace' in event:\n",
    "                logger.info(json.dumps(event['trace'], indent=2))\n",
    "            else:\n",
    "                raise Exception(\"unexpected event.\", event)\n",
    "    except Exception as e:\n",
    "        raise Exception(\"unexpected event.\", e)\n",
    "    return agent_answer"
   ]
  },
  {
   "cell_type": "code",
   "execution_count": 65,
   "id": "46432614-a589-4e65-8e58-d2ffe5bf2c1f",
   "metadata": {
    "tags": []
   },
   "outputs": [
    {
     "name": "stderr",
     "output_type": "stream",
     "text": [
      "[2024-11-04 11:18:52,752] p197733 {321621934.py:13} INFO - None\n"
     ]
    },
    {
     "name": "stdout",
     "output_type": "stream",
     "text": [
      "{'ResponseMetadata': {'HTTPHeaders': {'connection': 'keep-alive',\n",
      "                                      'content-type': 'application/vnd.amazon.eventstream',\n",
      "                                      'date': 'Mon, 04 Nov 2024 16:18:52 GMT',\n",
      "                                      'transfer-encoding': 'chunked',\n",
      "                                      'x-amz-bedrock-agent-session-id': '7092a693-9ac8-11ef-858c-90e868d4499b',\n",
      "                                      'x-amzn-bedrock-agent-content-type': 'application/json',\n",
      "                                      'x-amzn-requestid': '21707daa-f8cd-406a-962e-1d7ad6052efb'},\n",
      "                      'HTTPStatusCode': 200,\n",
      "                      'RequestId': '21707daa-f8cd-406a-962e-1d7ad6052efb',\n",
      "                      'RetryAttempts': 0},\n",
      " 'completion': <botocore.eventstream.EventStream object at 0x71d7516c4890>,\n",
      " 'contentType': 'application/json',\n",
      " 'sessionId': '7092a693-9ac8-11ef-858c-90e868d4499b'}\n"
     ]
    },
    {
     "name": "stderr",
     "output_type": "stream",
     "text": [
      "[2024-11-04 11:18:59,875] p197733 {321621934.py:21} INFO - Final answer ->\n",
      "Tesla est une entreprise américaine qui conçoit et fabrique des véhicules électriques haut de gamme, des composants pour véhicules électriques et des produits d'énergie solaire et de stockage d'énergie. Ses principaux produits sont les voitures électriques Model S, Model X, Model 3 et Model Y, ainsi que les systèmes de stockage d'énergie Powerwall et Powerpack. Sur le plan financier, Tesla a connu une croissance rapide ces dernières années mais reste déficitaire. En 2022, Tesla a réalisé un chiffre d'affaires de 81,5 milliards de dollars mais une perte nette de 2,1 milliards de dollars. Les principaux défis de Tesla sont la concurrence croissante sur le marché des véhicules électriques, les problèmes de chaîne d'approvisionnement et les coûts élevés de production.\n"
     ]
    }
   ],
   "source": [
    "reponse = simple_agent_invoke(f\"que peux tu me dire sur {ticker}\", agent_id, agent_alias_id, session_id)\n"
   ]
  },
  {
   "cell_type": "code",
   "execution_count": 66,
   "id": "d540a1ab",
   "metadata": {},
   "outputs": [],
   "source": [
    "rp1 = reponse"
   ]
  },
  {
   "cell_type": "code",
   "execution_count": 67,
   "id": "8fa82fd2",
   "metadata": {},
   "outputs": [],
   "source": [
    "modelId = 'anthropic.claude-3-sonnet-20240229-v1:0'\n",
    "bedrock_client = boto3.client('bedrock-agent-runtime', region_name='us-west-2')\n",
    "bedrock_client = boto3.client(service_name='bedrock-runtime', region_name='us-west-2')\n"
   ]
  },
  {
   "cell_type": "code",
   "execution_count": null,
   "id": "a1c140d0",
   "metadata": {},
   "outputs": [],
   "source": [
    "\n",
    "# Import python's built-in regular expression library\n",
    "# Import the hints module from the utils package\n"
   ]
  },
  {
   "cell_type": "code",
   "execution_count": 68,
   "id": "84a72097",
   "metadata": {},
   "outputs": [],
   "source": [
    "def get_completion(prompt, system_prompt=None):\n",
    "    # Define the inference configuration\n",
    "    inference_config = {\n",
    "        \"temperature\": 0.0,  # Set the temperature for generating diverse responses\n",
    "        \"maxTokens\": 500,  # Set the maximum number of tokens to generate\n",
    "        \"topP\": 1,  # Set the top_p value for nucleus sampling\n",
    "    }\n",
    "    # Create the converse method parameters\n",
    "    converse_api_params = {\n",
    "        \"modelId\": modelId,  # Specify the model ID to use\n",
    "        \"messages\": [{\"role\": \"user\", \"content\": [{\"text\": prompt}]}],  # Provide the user's prompt\n",
    "        \"inferenceConfig\": inference_config,  # Pass the inference configuration\n",
    "    }\n",
    "    # Check if system_text is provided\n",
    "    if system_prompt:\n",
    "        # If system_text is provided, add the system parameter to the converse_params dictionary\n",
    "        converse_api_params[\"system\"] = [{\"text\":system_prompt}]\n",
    "            # Send a request to the Bedrock client to generate a response\n",
    "    try:\n",
    "        response = bedrock_client.converse(**converse_api_params)\n",
    "\n",
    "        # Extract the generated text content from the response\n",
    "        text_content = response['output']['message']['content'][0]['text']\n",
    "\n",
    "        # Return the generated text content\n",
    "        return text_content\n",
    "\n",
    "    except ClientError as err:\n",
    "        message = err.response['Error']['Message']\n",
    "        print(f\"A client error occured: {message}\")\n",
    "\n"
   ]
  },
  {
   "cell_type": "code",
   "execution_count": 69,
   "id": "5595a652",
   "metadata": {},
   "outputs": [
    {
     "name": "stdout",
     "output_type": "stream",
     "text": [
      "Une erreur s'est produite : An error occurred (AllAccessDisabled) when calling the ListObjectsV2 operation: All access to this object has been disabled\n"
     ]
    }
   ],
   "source": [
    "import boto3\n",
    "\n",
    "def list_objects_in_bucket(bucket_name):\n",
    "    \"\"\"Liste les fichiers dans le bucket S3 spécifié.\"\"\"\n",
    "    s3 = boto3.client('s3')\n",
    "    \n",
    "    try:\n",
    "        # Récupère la liste des objets dans le bucket\n",
    "        response = s3.list_objects_v2(Bucket=bucket_name)\n",
    "        \n",
    "        if 'Contents' in response:\n",
    "            print(\"Fichiers dans le bucket :\")\n",
    "            for obj in response['Contents']:\n",
    "                print(obj['Key'])  # Affiche le nom de l'objet (object key)\n",
    "        else:\n",
    "            print(\"Aucun objet trouvé dans le bucket.\")\n",
    "    \n",
    "    except Exception as e:\n",
    "        print(f\"Une erreur s'est produite : {e}\")\n",
    "\n",
    "# Exemple d'utilisation\n",
    "if __name__ == \"__main__\":\n",
    "    bucket_name = \"your-bucket-name\"  # Remplacez par le nom de votre bucket\n",
    "    list_objects_in_bucket(bucket_name)\n"
   ]
  },
  {
   "cell_type": "code",
   "execution_count": null,
   "id": "06bb657a",
   "metadata": {},
   "outputs": [
    {
     "name": "stdout",
     "output_type": "stream",
     "text": [
      " * Serving Flask app '__main__'\n",
      " * Debug mode: off\n"
     ]
    },
    {
     "name": "stderr",
     "output_type": "stream",
     "text": [
      "[2024-11-04 12:03:06,482] p197733 {_internal.py:97} INFO - \u001b[31m\u001b[1mWARNING: This is a development server. Do not use it in a production deployment. Use a production WSGI server instead.\u001b[0m\n",
      " * Running on http://127.0.0.1:5000\n",
      "[2024-11-04 12:03:06,483] p197733 {_internal.py:97} INFO - \u001b[33mPress CTRL+C to quit\u001b[0m\n",
      "[2024-11-04 12:03:14,258] p197733 {_internal.py:97} INFO - 127.0.0.1 - - [04/Nov/2024 12:03:14] \"GET /yfinance/get_stocks HTTP/1.1\" 200 -\n",
      "[2024-11-04 12:03:17,155] p197733 {_internal.py:97} INFO - 127.0.0.1 - - [04/Nov/2024 12:03:17] \"OPTIONS /yfinance/get_price HTTP/1.1\" 200 -\n",
      "[2024-11-04 12:03:17,165] p197733 {_internal.py:97} INFO - 127.0.0.1 - - [04/Nov/2024 12:03:17] \"POST /yfinance/get_price HTTP/1.1\" 200 -\n",
      "[2024-11-04 12:03:17,185] p197733 {_internal.py:97} INFO - 127.0.0.1 - - [04/Nov/2024 12:03:17] \"OPTIONS /api/ticker HTTP/1.1\" 200 -\n",
      "[*********************100%***********************]  1 of 1 completed\n",
      "[2024-11-04 12:03:49,239] p197733 {_internal.py:97} INFO - 127.0.0.1 - - [04/Nov/2024 12:03:49] \"POST /api/ticker HTTP/1.1\" 200 -\n"
     ]
    },
    {
     "name": "stdout",
     "output_type": "stream",
     "text": [
      "Here is my fundamental analysis of the stock based on the provided financial data:\n",
      "\n",
      "{\n",
      "\"key1\": {\n",
      "    \"income_statement_analysis\": {\n",
      "        \"section_content\": \"Apple's total revenue has been steadily increasing year-over-year, reaching $391 billion in 2024. The company's gross profit margin is healthy at around 46%. Operating expenses are well managed, with research and development expenses accounting for around 8% of revenue. Net income has grown from $94.7 billion in 2021 to $93.7 billion in 2024, indicating consistent profitability.\"\n",
      "    },\n",
      "    \"quarterly_income_statement_analysis\": {\n",
      "        \"section_content\": \"The quarterly income statement data is not provided in the given financial reports.\"\n",
      "    },\n",
      "    \"balance_sheet_analysis\": {\n",
      "        \"section_content\": \"Apple has a strong balance sheet with total assets of $365 billion in 2024. The company has a significant cash position of $65.2 billion and investments of $91.5 billion. Total debt stands at $106.6 billion, which is manageable given the company's cash flow generation. Stockholders' equity is $57 billion, indicating a relatively low debt-to-equity ratio.\"\n",
      "    },\n",
      "    \"quarterly_balance_sheet_analysis\": {\n",
      "        \"section_content\": \"The quarterly balance sheet data is not provided in the given financial reports.\"\n",
      "    },\n",
      "    \"cash_flow_statement_analysis\": {\n",
      "        \"section_content\": \"Apple's operating cash flow is robust, reaching $118.3 billion in 2024. The company has been consistently generating positive free cash flow, which stood at $108.8 billion in 2024. Apple has been using its cash to repurchase shares, pay dividends, and make capital expenditures. The company has also been managing its debt levels effectively.\"\n",
      "    },\n",
      "    \"quarterly_cashflow_analysis\": {\n",
      "        \"section_content\": \"The quarterly cash flow statement data is not provided in the given financial reports.\"\n",
      "    },\n",
      "    \"action_recommendation\": {\n",
      "        \"section_content\": \"Based on the fundamental analysis, Apple appears to be a financially strong company with consistent revenue growth, profitability, and cash flow\n"
     ]
    }
   ],
   "source": [
    "from flask import Flask, request, jsonify\n",
    "from flask_cors import CORS\n",
    "import yfinance\n",
    "\n",
    "app = Flask(__name__)\n",
    "CORS(app)\n",
    "\n",
    "@app.route('/api/ticker', methods=['POST'])\n",
    "def get_ticker():\n",
    "    data = request.get_json()\n",
    "    ticker = data['ticker']\n",
    "    tech_data = StockAnalysis(ticker,\"2023-02-13\",\"2024-03-13\")\n",
    "    FINANCIAL_REPORTS = tech_data.get_financial_reports()\n",
    "    TECHNICAL_DATA= tech_data.get_complete_analysis()\n",
    "    prompt_systeme_fundamental_analysis = \"\"\"<task_context>\n",
    "    You are a financial analyst specializing in stock market evaluations. Your goal is to conduct a comprehensive fundamental analysis of a given stock based on the financial statements data retrieved as a single variable. This analysis should be purely fundamental, separate from any technical analysis or general information provided from previous evaluations.\n",
    "    </task_context>\n",
    "\n",
    "    <tone_context>\n",
    "    Maintain a professional and analytical tone throughout your response.\n",
    "    </tone_context>\n",
    "\n",
    "    <background_data>\n",
    "    The following financial data will be provided as a single dictionary:\n",
    "    <financial_reports>\"\"\"+str(FINANCIAL_REPORTS)+\"\"\"</financial_reports>\n",
    "    </background_data>\n",
    "\n",
    "    <detailed_task_description_and_rules>\n",
    "    - Analyze the provided financial statements to assess the stock's performance, profitability, liquidity, and overall financial health.\n",
    "    - Focus on key financial ratios (e.g., P/E ratio, debt-to-equity ratio, current ratio) and current trends in the financial data.\n",
    "    - Ensure your analysis is clear and concise, highlighting significant insights and conclusions without discussing historical value movements.\n",
    "    - Provide a recommendation for action (buy, hold, or sell) based solely on your fundamental analysis.\n",
    "    - If you are unsure about any aspect of the analysis, say \"I'm not sure\" and avoid making assumptions.\n",
    "    </detailed_task_description_and_rules>\n",
    "\n",
    "    <immediate_task_description_or_request>\n",
    "    Given the financial data provided, perform a fundamental analysis of the stock and structure the output in JSON format.\n",
    "    </immediate_task_description_or_request>\n",
    "\n",
    "    <think_step_by_step>\n",
    "    Please think through your analysis step-by-step before delivering your final response.\n",
    "    </think_step_by_step>\n",
    "\n",
    "    <output_formatting>\n",
    "    The output should be structured as a JSON object with one key named \"key1\" containening relevant sections for the fundamental analysis , give directly  the result of it , dont tell what you are gonna do give the answer directly font desribe each title , tell me just information related to the company \n",
    "    , including:\n",
    "    - \"income_statement_analysis\"\n",
    "    - \"quarterly_income_statement_analysis\"\n",
    "    - \"balance_sheet_analysis\"\n",
    "    - \"quarterly_balance_sheet_analysis\"\n",
    "    - \"cash_flow_statement_analysis\"\n",
    "    - \"quarterly_cashflow_analysis\"\n",
    "    - \"action_recommendation\"\n",
    "    </output_formatting>\n",
    "\n",
    "    <prefilled_response>\n",
    "    <response>\n",
    "    {\n",
    "        \"key1\": {\n",
    "            \"income_statement_analysis\": {\n",
    "                \"section_title\": \"Income Statement Analysis\",\n",
    "                \"section_content\": \"Provide a detailed analysis of the income statement here.\"\n",
    "            },\n",
    "            \"quarterly_income_statement_analysis\": {\n",
    "                \"section_title\": \"Quarterly Income Statement Analysis\",\n",
    "                \"section_content\": \"Provide a detailed analysis of the quarterly income statement here.\"\n",
    "            },\n",
    "            \"balance_sheet_analysis\": {\n",
    "                \"section_title\": \"Balance Sheet Analysis\",\n",
    "                \"section_content\": \"Provide a detailed analysis of the balance sheet here.\"\n",
    "            },\n",
    "            \"quarterly_balance_sheet_analysis\": {\n",
    "                \"section_title\": \"Quarterly Balance Sheet Analysis\",\n",
    "                \"section_content\": \"Provide a detailed analysis of the quarterly balance sheet here.\"\n",
    "            },\n",
    "            \"cash_flow_statement_analysis\": {\n",
    "                \"section_title\": \"Cash Flow Statement Analysis\",\n",
    "                \"section_content\": \"Provide a detailed analysis of the cash flow statement here.\"\n",
    "            },\n",
    "            \"quarterly_cashflow_analysis\": {\n",
    "                \"section_title\": \"Quarterly Cash Flow Analysis\",\n",
    "                \"section_content\": \"Provide a detailed analysis of the quarterly cash flow here.\"\n",
    "            },\n",
    "            \"action_recommendation\": {\n",
    "                \"section_title\": \"Action Recommendation\",\n",
    "                \"section_content\": \"Based on the analysis, recommend whether to buy, hold, or sell the stock.\"\n",
    "            }\n",
    "        }\n",
    "    }\n",
    "    </response>\n",
    "    </prefilled_response>\"\"\"\n",
    "    pre_prompt_technical_analysis =\"\"\"\n",
    "    <task_context>\n",
    "    You are a financial analyst specializing in stock market evaluations. Your goal is to conduct a comprehensive technical analysis of a given stock based on the technical indicators calculated from the historical stock data. This analysis should be purely technical and must not include any fundamental analysis or general insights from previous evaluations.\n",
    "    </task_context>\n",
    "\n",
    "    <tone_context>\n",
    "    Maintain a professional and analytical tone throughout your response.\n",
    "    </tone_context>\n",
    "\n",
    "    <background_data>\n",
    "    The following technical data will be provided as a single dictionary:\n",
    "    <technical_data>\"\"\"+str(TECHNICAL_DATA)+\"\"\"</technical_data>\n",
    "    </background_data>\n",
    "\n",
    "    <detailed_task_description_and_rules>\n",
    "    - Analyze the provided technical indicators, including the Fear and Greed Index, to assess the stock's price momentum, trend direction, and potential buy/sell signals.\n",
    "    - Focus on key indicators such as Relative Strength Index (RSI), Moving Average Convergence Divergence (MACD), On-Balance Volume (OBV), and the Fear and Greed Index.\n",
    "    - Ensure your analysis is concise and highlights significant insights, such as current levels, crossovers, divergences, and trends without discussing historical patterns or oscillations.\n",
    "    - Provide a clear recommendation for action (buy, hold, or sell) based on current market conditions.\n",
    "    - If you are unsure about any aspect of the analysis, say \"I'm not sure\" and avoid making assumptions.\n",
    "    </detailed_task_description_and_rules>\n",
    "\n",
    "    <immediate_task_description_or_request>\n",
    "    Given the technical data provided, perform a technical analysis of the stock and structure the output in JSON format, including a recommendation for action based on your findings , give the answer directly font desribe each indicator , tell me just the meaning of its value \n",
    "    </immediate_task_description_or_request>\n",
    "\n",
    "    <think_step_by_step>\n",
    "    Please think through your analysis step-by-step before delivering your final response.\n",
    "    </think_step_by_step>\n",
    "\n",
    "    <output_formatting>\n",
    "    The output should be structured as a JSON object with one specific  key named key2 containing relevant sections for the technical analysis, including:\n",
    "    - \"rsi_analysis\"\n",
    "    - \"macd_analysis\"\n",
    "    - \"obv_analysis\"\n",
    "    - \"fear_and_greed_index_analysis\"\n",
    "    - \"general_trends\"\n",
    "    - \"action_recommendation\"\n",
    "    </output_formatting>\n",
    "\n",
    "    <prefilled_response>\n",
    "    <response>\n",
    "    { \"key2\": {\n",
    "        \"rsi_analysis\": \"Current RSI level: [RSI value]. [Insight on RSI level].\",\n",
    "        \"macd_analysis\": \"Current MACD level: [MACD value]. [Insight on MACD level].\",\n",
    "        \"obv_analysis\": \"Current OBV level: [OBV value]. [Insight on OBV level].\",\n",
    "        \"fear_and_greed_index_analysis\": \"Current Fear and Greed Index: [Index value]. [Insight on index value].\",\n",
    "        \"general_trends\": \"General trends: [Insight on current price momentum].\",\n",
    "        \"action_recommendation\": \"[Recommendation for action based on current market conditions].\"\n",
    "    }\n",
    "\n",
    "    </response>\n",
    "    </prefilled_response>\"\"\"\n",
    "    SYSTEM_PROMPT_1 = prompt_systeme_fundamental_analysis\n",
    "    SYSTEM_PROMPT_2 = pre_prompt_technical_analysis\n",
    "    #SYSTEM_PROMPT_1 = \n",
    "    #pre_prompt_technical_analysis ,prompt_systeme_fundamental_analysis\n",
    "\n",
    "    # Prompt\n",
    "    PROMPT = ticker\n",
    "\n",
    "    # Print Claude's response\n",
    "    rep_1 = get_completion(PROMPT , SYSTEM_PROMPT_1)\n",
    "    rep_2 = get_completion(PROMPT , SYSTEM_PROMPT_2)\n",
    "    print(rep_1)\n",
    "    return jsonify({'fund': str(rep_1), 'tech': str(rep_2)}), 200\n",
    "\n",
    "@app.route('/yfinance/get_price', methods=['POST'])\n",
    "def get_price():\n",
    "    data = request.get_json()\n",
    "    symbol = data.get(\"ticker\")\n",
    "    ticker = yfinance.Ticker(symbol)\n",
    "    if ticker.info['trailingPegRatio'] == None:\n",
    "        return jsonify({'error':'error'}), 400\n",
    "    return jsonify({'price':f\"{ticker.info['currentPrice']:.2f}\"}), 200\n",
    "\n",
    "@app.route('/yfinance/get_stocks', methods=['GET'])\n",
    "def get_stocks():\n",
    "    tickers = yfinance.Tickers(\"AAPL TSLA MSFT NVDA\")\n",
    "    infos = []\n",
    "    for symbol, ticker in tickers.tickers.items():\n",
    "        data = ticker.info\n",
    "        infos.append({\n",
    "            \"symbol\":symbol,\n",
    "            \"name\":data['shortName'],\n",
    "            'price': f\"{data['currentPrice']:.2f}\",\n",
    "            'high': data['dayHigh'],\n",
    "            'low':data['dayLow'],\n",
    "            'target':data['targetMeanPrice'],\n",
    "            'recommendation':data['recommendationKey']\n",
    "        })\n",
    "    return jsonify({'infos':infos}), 200\n",
    "\n",
    "if __name__ == '__main__':\n",
    "    app.run(port=5000)\n",
    "\n",
    "\n"
   ]
  },
  {
   "cell_type": "code",
   "execution_count": null,
   "id": "2aae2702",
   "metadata": {},
   "outputs": [],
   "source": [
    "#pre_prompt_general_data = "
   ]
  }
 ],
 "metadata": {
  "availableInstances": [
   {
    "_defaultOrder": 0,
    "_isFastLaunch": true,
    "category": "General purpose",
    "gpuNum": 0,
    "hideHardwareSpecs": false,
    "memoryGiB": 4,
    "name": "ml.t3.medium",
    "vcpuNum": 2
   },
   {
    "_defaultOrder": 1,
    "_isFastLaunch": false,
    "category": "General purpose",
    "gpuNum": 0,
    "hideHardwareSpecs": false,
    "memoryGiB": 8,
    "name": "ml.t3.large",
    "vcpuNum": 2
   },
   {
    "_defaultOrder": 2,
    "_isFastLaunch": false,
    "category": "General purpose",
    "gpuNum": 0,
    "hideHardwareSpecs": false,
    "memoryGiB": 16,
    "name": "ml.t3.xlarge",
    "vcpuNum": 4
   },
   {
    "_defaultOrder": 3,
    "_isFastLaunch": false,
    "category": "General purpose",
    "gpuNum": 0,
    "hideHardwareSpecs": false,
    "memoryGiB": 32,
    "name": "ml.t3.2xlarge",
    "vcpuNum": 8
   },
   {
    "_defaultOrder": 4,
    "_isFastLaunch": true,
    "category": "General purpose",
    "gpuNum": 0,
    "hideHardwareSpecs": false,
    "memoryGiB": 8,
    "name": "ml.m5.large",
    "vcpuNum": 2
   },
   {
    "_defaultOrder": 5,
    "_isFastLaunch": false,
    "category": "General purpose",
    "gpuNum": 0,
    "hideHardwareSpecs": false,
    "memoryGiB": 16,
    "name": "ml.m5.xlarge",
    "vcpuNum": 4
   },
   {
    "_defaultOrder": 6,
    "_isFastLaunch": false,
    "category": "General purpose",
    "gpuNum": 0,
    "hideHardwareSpecs": false,
    "memoryGiB": 32,
    "name": "ml.m5.2xlarge",
    "vcpuNum": 8
   },
   {
    "_defaultOrder": 7,
    "_isFastLaunch": false,
    "category": "General purpose",
    "gpuNum": 0,
    "hideHardwareSpecs": false,
    "memoryGiB": 64,
    "name": "ml.m5.4xlarge",
    "vcpuNum": 16
   },
   {
    "_defaultOrder": 8,
    "_isFastLaunch": false,
    "category": "General purpose",
    "gpuNum": 0,
    "hideHardwareSpecs": false,
    "memoryGiB": 128,
    "name": "ml.m5.8xlarge",
    "vcpuNum": 32
   },
   {
    "_defaultOrder": 9,
    "_isFastLaunch": false,
    "category": "General purpose",
    "gpuNum": 0,
    "hideHardwareSpecs": false,
    "memoryGiB": 192,
    "name": "ml.m5.12xlarge",
    "vcpuNum": 48
   },
   {
    "_defaultOrder": 10,
    "_isFastLaunch": false,
    "category": "General purpose",
    "gpuNum": 0,
    "hideHardwareSpecs": false,
    "memoryGiB": 256,
    "name": "ml.m5.16xlarge",
    "vcpuNum": 64
   },
   {
    "_defaultOrder": 11,
    "_isFastLaunch": false,
    "category": "General purpose",
    "gpuNum": 0,
    "hideHardwareSpecs": false,
    "memoryGiB": 384,
    "name": "ml.m5.24xlarge",
    "vcpuNum": 96
   },
   {
    "_defaultOrder": 12,
    "_isFastLaunch": false,
    "category": "General purpose",
    "gpuNum": 0,
    "hideHardwareSpecs": false,
    "memoryGiB": 8,
    "name": "ml.m5d.large",
    "vcpuNum": 2
   },
   {
    "_defaultOrder": 13,
    "_isFastLaunch": false,
    "category": "General purpose",
    "gpuNum": 0,
    "hideHardwareSpecs": false,
    "memoryGiB": 16,
    "name": "ml.m5d.xlarge",
    "vcpuNum": 4
   },
   {
    "_defaultOrder": 14,
    "_isFastLaunch": false,
    "category": "General purpose",
    "gpuNum": 0,
    "hideHardwareSpecs": false,
    "memoryGiB": 32,
    "name": "ml.m5d.2xlarge",
    "vcpuNum": 8
   },
   {
    "_defaultOrder": 15,
    "_isFastLaunch": false,
    "category": "General purpose",
    "gpuNum": 0,
    "hideHardwareSpecs": false,
    "memoryGiB": 64,
    "name": "ml.m5d.4xlarge",
    "vcpuNum": 16
   },
   {
    "_defaultOrder": 16,
    "_isFastLaunch": false,
    "category": "General purpose",
    "gpuNum": 0,
    "hideHardwareSpecs": false,
    "memoryGiB": 128,
    "name": "ml.m5d.8xlarge",
    "vcpuNum": 32
   },
   {
    "_defaultOrder": 17,
    "_isFastLaunch": false,
    "category": "General purpose",
    "gpuNum": 0,
    "hideHardwareSpecs": false,
    "memoryGiB": 192,
    "name": "ml.m5d.12xlarge",
    "vcpuNum": 48
   },
   {
    "_defaultOrder": 18,
    "_isFastLaunch": false,
    "category": "General purpose",
    "gpuNum": 0,
    "hideHardwareSpecs": false,
    "memoryGiB": 256,
    "name": "ml.m5d.16xlarge",
    "vcpuNum": 64
   },
   {
    "_defaultOrder": 19,
    "_isFastLaunch": false,
    "category": "General purpose",
    "gpuNum": 0,
    "hideHardwareSpecs": false,
    "memoryGiB": 384,
    "name": "ml.m5d.24xlarge",
    "vcpuNum": 96
   },
   {
    "_defaultOrder": 20,
    "_isFastLaunch": false,
    "category": "General purpose",
    "gpuNum": 0,
    "hideHardwareSpecs": true,
    "memoryGiB": 0,
    "name": "ml.geospatial.interactive",
    "supportedImageNames": [
     "sagemaker-geospatial-v1-0"
    ],
    "vcpuNum": 0
   },
   {
    "_defaultOrder": 21,
    "_isFastLaunch": true,
    "category": "Compute optimized",
    "gpuNum": 0,
    "hideHardwareSpecs": false,
    "memoryGiB": 4,
    "name": "ml.c5.large",
    "vcpuNum": 2
   },
   {
    "_defaultOrder": 22,
    "_isFastLaunch": false,
    "category": "Compute optimized",
    "gpuNum": 0,
    "hideHardwareSpecs": false,
    "memoryGiB": 8,
    "name": "ml.c5.xlarge",
    "vcpuNum": 4
   },
   {
    "_defaultOrder": 23,
    "_isFastLaunch": false,
    "category": "Compute optimized",
    "gpuNum": 0,
    "hideHardwareSpecs": false,
    "memoryGiB": 16,
    "name": "ml.c5.2xlarge",
    "vcpuNum": 8
   },
   {
    "_defaultOrder": 24,
    "_isFastLaunch": false,
    "category": "Compute optimized",
    "gpuNum": 0,
    "hideHardwareSpecs": false,
    "memoryGiB": 32,
    "name": "ml.c5.4xlarge",
    "vcpuNum": 16
   },
   {
    "_defaultOrder": 25,
    "_isFastLaunch": false,
    "category": "Compute optimized",
    "gpuNum": 0,
    "hideHardwareSpecs": false,
    "memoryGiB": 72,
    "name": "ml.c5.9xlarge",
    "vcpuNum": 36
   },
   {
    "_defaultOrder": 26,
    "_isFastLaunch": false,
    "category": "Compute optimized",
    "gpuNum": 0,
    "hideHardwareSpecs": false,
    "memoryGiB": 96,
    "name": "ml.c5.12xlarge",
    "vcpuNum": 48
   },
   {
    "_defaultOrder": 27,
    "_isFastLaunch": false,
    "category": "Compute optimized",
    "gpuNum": 0,
    "hideHardwareSpecs": false,
    "memoryGiB": 144,
    "name": "ml.c5.18xlarge",
    "vcpuNum": 72
   },
   {
    "_defaultOrder": 28,
    "_isFastLaunch": false,
    "category": "Compute optimized",
    "gpuNum": 0,
    "hideHardwareSpecs": false,
    "memoryGiB": 192,
    "name": "ml.c5.24xlarge",
    "vcpuNum": 96
   },
   {
    "_defaultOrder": 29,
    "_isFastLaunch": true,
    "category": "Accelerated computing",
    "gpuNum": 1,
    "hideHardwareSpecs": false,
    "memoryGiB": 16,
    "name": "ml.g4dn.xlarge",
    "vcpuNum": 4
   },
   {
    "_defaultOrder": 30,
    "_isFastLaunch": false,
    "category": "Accelerated computing",
    "gpuNum": 1,
    "hideHardwareSpecs": false,
    "memoryGiB": 32,
    "name": "ml.g4dn.2xlarge",
    "vcpuNum": 8
   },
   {
    "_defaultOrder": 31,
    "_isFastLaunch": false,
    "category": "Accelerated computing",
    "gpuNum": 1,
    "hideHardwareSpecs": false,
    "memoryGiB": 64,
    "name": "ml.g4dn.4xlarge",
    "vcpuNum": 16
   },
   {
    "_defaultOrder": 32,
    "_isFastLaunch": false,
    "category": "Accelerated computing",
    "gpuNum": 1,
    "hideHardwareSpecs": false,
    "memoryGiB": 128,
    "name": "ml.g4dn.8xlarge",
    "vcpuNum": 32
   },
   {
    "_defaultOrder": 33,
    "_isFastLaunch": false,
    "category": "Accelerated computing",
    "gpuNum": 4,
    "hideHardwareSpecs": false,
    "memoryGiB": 192,
    "name": "ml.g4dn.12xlarge",
    "vcpuNum": 48
   },
   {
    "_defaultOrder": 34,
    "_isFastLaunch": false,
    "category": "Accelerated computing",
    "gpuNum": 1,
    "hideHardwareSpecs": false,
    "memoryGiB": 256,
    "name": "ml.g4dn.16xlarge",
    "vcpuNum": 64
   },
   {
    "_defaultOrder": 35,
    "_isFastLaunch": false,
    "category": "Accelerated computing",
    "gpuNum": 1,
    "hideHardwareSpecs": false,
    "memoryGiB": 61,
    "name": "ml.p3.2xlarge",
    "vcpuNum": 8
   },
   {
    "_defaultOrder": 36,
    "_isFastLaunch": false,
    "category": "Accelerated computing",
    "gpuNum": 4,
    "hideHardwareSpecs": false,
    "memoryGiB": 244,
    "name": "ml.p3.8xlarge",
    "vcpuNum": 32
   },
   {
    "_defaultOrder": 37,
    "_isFastLaunch": false,
    "category": "Accelerated computing",
    "gpuNum": 8,
    "hideHardwareSpecs": false,
    "memoryGiB": 488,
    "name": "ml.p3.16xlarge",
    "vcpuNum": 64
   },
   {
    "_defaultOrder": 38,
    "_isFastLaunch": false,
    "category": "Accelerated computing",
    "gpuNum": 8,
    "hideHardwareSpecs": false,
    "memoryGiB": 768,
    "name": "ml.p3dn.24xlarge",
    "vcpuNum": 96
   },
   {
    "_defaultOrder": 39,
    "_isFastLaunch": false,
    "category": "Memory Optimized",
    "gpuNum": 0,
    "hideHardwareSpecs": false,
    "memoryGiB": 16,
    "name": "ml.r5.large",
    "vcpuNum": 2
   },
   {
    "_defaultOrder": 40,
    "_isFastLaunch": false,
    "category": "Memory Optimized",
    "gpuNum": 0,
    "hideHardwareSpecs": false,
    "memoryGiB": 32,
    "name": "ml.r5.xlarge",
    "vcpuNum": 4
   },
   {
    "_defaultOrder": 41,
    "_isFastLaunch": false,
    "category": "Memory Optimized",
    "gpuNum": 0,
    "hideHardwareSpecs": false,
    "memoryGiB": 64,
    "name": "ml.r5.2xlarge",
    "vcpuNum": 8
   },
   {
    "_defaultOrder": 42,
    "_isFastLaunch": false,
    "category": "Memory Optimized",
    "gpuNum": 0,
    "hideHardwareSpecs": false,
    "memoryGiB": 128,
    "name": "ml.r5.4xlarge",
    "vcpuNum": 16
   },
   {
    "_defaultOrder": 43,
    "_isFastLaunch": false,
    "category": "Memory Optimized",
    "gpuNum": 0,
    "hideHardwareSpecs": false,
    "memoryGiB": 256,
    "name": "ml.r5.8xlarge",
    "vcpuNum": 32
   },
   {
    "_defaultOrder": 44,
    "_isFastLaunch": false,
    "category": "Memory Optimized",
    "gpuNum": 0,
    "hideHardwareSpecs": false,
    "memoryGiB": 384,
    "name": "ml.r5.12xlarge",
    "vcpuNum": 48
   },
   {
    "_defaultOrder": 45,
    "_isFastLaunch": false,
    "category": "Memory Optimized",
    "gpuNum": 0,
    "hideHardwareSpecs": false,
    "memoryGiB": 512,
    "name": "ml.r5.16xlarge",
    "vcpuNum": 64
   },
   {
    "_defaultOrder": 46,
    "_isFastLaunch": false,
    "category": "Memory Optimized",
    "gpuNum": 0,
    "hideHardwareSpecs": false,
    "memoryGiB": 768,
    "name": "ml.r5.24xlarge",
    "vcpuNum": 96
   },
   {
    "_defaultOrder": 47,
    "_isFastLaunch": false,
    "category": "Accelerated computing",
    "gpuNum": 1,
    "hideHardwareSpecs": false,
    "memoryGiB": 16,
    "name": "ml.g5.xlarge",
    "vcpuNum": 4
   },
   {
    "_defaultOrder": 48,
    "_isFastLaunch": false,
    "category": "Accelerated computing",
    "gpuNum": 1,
    "hideHardwareSpecs": false,
    "memoryGiB": 32,
    "name": "ml.g5.2xlarge",
    "vcpuNum": 8
   },
   {
    "_defaultOrder": 49,
    "_isFastLaunch": false,
    "category": "Accelerated computing",
    "gpuNum": 1,
    "hideHardwareSpecs": false,
    "memoryGiB": 64,
    "name": "ml.g5.4xlarge",
    "vcpuNum": 16
   },
   {
    "_defaultOrder": 50,
    "_isFastLaunch": false,
    "category": "Accelerated computing",
    "gpuNum": 1,
    "hideHardwareSpecs": false,
    "memoryGiB": 128,
    "name": "ml.g5.8xlarge",
    "vcpuNum": 32
   },
   {
    "_defaultOrder": 51,
    "_isFastLaunch": false,
    "category": "Accelerated computing",
    "gpuNum": 1,
    "hideHardwareSpecs": false,
    "memoryGiB": 256,
    "name": "ml.g5.16xlarge",
    "vcpuNum": 64
   },
   {
    "_defaultOrder": 52,
    "_isFastLaunch": false,
    "category": "Accelerated computing",
    "gpuNum": 4,
    "hideHardwareSpecs": false,
    "memoryGiB": 192,
    "name": "ml.g5.12xlarge",
    "vcpuNum": 48
   },
   {
    "_defaultOrder": 53,
    "_isFastLaunch": false,
    "category": "Accelerated computing",
    "gpuNum": 4,
    "hideHardwareSpecs": false,
    "memoryGiB": 384,
    "name": "ml.g5.24xlarge",
    "vcpuNum": 96
   },
   {
    "_defaultOrder": 54,
    "_isFastLaunch": false,
    "category": "Accelerated computing",
    "gpuNum": 8,
    "hideHardwareSpecs": false,
    "memoryGiB": 768,
    "name": "ml.g5.48xlarge",
    "vcpuNum": 192
   },
   {
    "_defaultOrder": 55,
    "_isFastLaunch": false,
    "category": "Accelerated computing",
    "gpuNum": 8,
    "hideHardwareSpecs": false,
    "memoryGiB": 1152,
    "name": "ml.p4d.24xlarge",
    "vcpuNum": 96
   },
   {
    "_defaultOrder": 56,
    "_isFastLaunch": false,
    "category": "Accelerated computing",
    "gpuNum": 8,
    "hideHardwareSpecs": false,
    "memoryGiB": 1152,
    "name": "ml.p4de.24xlarge",
    "vcpuNum": 96
   },
   {
    "_defaultOrder": 57,
    "_isFastLaunch": false,
    "category": "Accelerated computing",
    "gpuNum": 0,
    "hideHardwareSpecs": false,
    "memoryGiB": 32,
    "name": "ml.trn1.2xlarge",
    "vcpuNum": 8
   },
   {
    "_defaultOrder": 58,
    "_isFastLaunch": false,
    "category": "Accelerated computing",
    "gpuNum": 0,
    "hideHardwareSpecs": false,
    "memoryGiB": 512,
    "name": "ml.trn1.32xlarge",
    "vcpuNum": 128
   },
   {
    "_defaultOrder": 59,
    "_isFastLaunch": false,
    "category": "Accelerated computing",
    "gpuNum": 0,
    "hideHardwareSpecs": false,
    "memoryGiB": 512,
    "name": "ml.trn1n.32xlarge",
    "vcpuNum": 128
   }
  ],
  "instance_type": "ml.t3.medium",
  "kernelspec": {
   "display_name": "venv",
   "language": "python",
   "name": "python3"
  },
  "language_info": {
   "codemirror_mode": {
    "name": "ipython",
    "version": 3
   },
   "file_extension": ".py",
   "mimetype": "text/x-python",
   "name": "python",
   "nbconvert_exporter": "python",
   "pygments_lexer": "ipython3",
   "version": "3.12.3"
  }
 },
 "nbformat": 4,
 "nbformat_minor": 5
}
