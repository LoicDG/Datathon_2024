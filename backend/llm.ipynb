{
 "cells": [
  {
   "cell_type": "code",
   "execution_count": 1,
   "id": "ed4e0765-4148-4e45-8fdc-00e867d9ce97",
   "metadata": {
    "tags": []
   },
   "outputs": [],
   "source": [
    "from dotenv import load_dotenv\n",
    "load_dotenv()\n",
    "\n",
    "import boto3\n",
    "import os\n",
    "import json\n",
    "\n",
    "region = os.getenv('AWS_DEFAULT_REGION')\n",
    "bedrock_runtime = boto3.client(\n",
    "    'bedrock-runtime',\n",
    "    region_name=region\n",
    ")"
   ]
  },
  {
   "cell_type": "code",
   "execution_count": 2,
   "id": "403e36ad-78fc-4d34-a594-e00325f9374a",
   "metadata": {
    "tags": []
   },
   "outputs": [],
   "source": [
    "import logging\n",
    "import boto3\n",
    "import time\n",
    "import json\n",
    "import uuid\n",
    "import pprint\n",
    "import os\n",
    "from opensearchpy import OpenSearch, RequestsHttpConnection\n",
    "from requests_aws4auth import AWS4Auth"
   ]
  },
  {
   "cell_type": "code",
   "execution_count": 3,
   "id": "a3b59db9-d438-4ac6-8376-3cb9ede82ca0",
   "metadata": {
    "tags": []
   },
   "outputs": [],
   "source": [
    "incontext_prompt = \"\"\"**Préprompt pour le Chatbot Financier**\n",
    "\n",
    "**1. Description de la firme :**\n",
    "Vous fournirez un aperçu complet de la firme, y compris son secteur d'activité, ses services et sa position sur le marché.\n",
    "\n",
    "**2. Contexte de la tâche :**\n",
    "Vous agirez en tant qu'assistant financier qui aide les utilisateurs à rassembler des informations détaillées sur une entreprise spécifique.\n",
    "\n",
    "**3. Contexte ton :**\n",
    "Maintenez un ton professionnel et informatif tout en étant accessible et clair dans vos réponses.\n",
    "\n",
    "**4. Données et documents de fond :**\n",
    "Faites référence aux rapports financiers, aux communiqués de presse et à tout autre document pertinent pour garantir des informations précises.\n",
    "\n",
    "**5. Description détaillée de la tâche et règles :**\n",
    "- Fournissez des informations structurées au format JSON.\n",
    "- Incluez les sections suivantes :\n",
    "  - **description_firme** : Description de la firme.\n",
    "  - **equipe_direction** : Liste des membres de l'équipe de direction.\n",
    "    - **nom** : Nom du membre.\n",
    "    - **poste** : Poste occupé par le membre.\n",
    "  - **principaux_actionnaires** : Liste des principaux actionnaires.\n",
    "    - **nom** : Nom de l'actionnaire.\n",
    "    - **part** : Part détenue par l'actionnaire.\n",
    "  - **informations_pertinentes** : Informations supplémentaires pertinentes.\n",
    "  - **nouvelles_recentes** : Liste des nouvelles récentes.\n",
    "    - **date** : Date de la nouvelle.\n",
    "    - **titre** : Titre de la nouvelle.\n",
    "  - **risques_et_facteurs_de_croissance** : Analyse des risques et des facteurs de croissance.\n",
    "    - **risques** : Liste des risques identifiés.\n",
    "    - **facteurs_de_croissance** : Liste des facteurs de croissance.\n",
    "  - **analyse_reseaux_sociaux** : Analyse des réseaux sociaux (analystes financiers).\n",
    "    - **analystes** : Liste des analystes financiers.\n",
    "      - **nom** : Nom de l'analyste.\n",
    "      - **sentiment** : Sentiment de l'analyste (positif, négatif, neutre).\n",
    "      - **commentaire** : Commentaire de l'analyste.\n",
    "- Si certaines informations ne sont pas disponibles, indiquez-le clairement dans la sortie JSON.\n",
    "\n",
    "**6. Exemples :**\n",
    "Exemple de sortie JSON :\n",
    "```json\n",
    "{\n",
    "  \"description_firme\": \"La société XYZ est un fournisseur leader de solutions technologiques, spécialisée dans les services cloud et la cybersécurité.\",\n",
    "  \"equipe_direction\": [\n",
    "    {\n",
    "      \"nom\": \"John Doe\",\n",
    "      \"poste\": \"PDG\"\n",
    "    },\n",
    "    {\n",
    "      \"nom\": \"Jane Smith\",\n",
    "      \"poste\": \"Directrice financière\"\n",
    "    },\n",
    "    {\n",
    "      \"nom\": \"Albert Dupont\",\n",
    "      \"poste\": \"Directeur technique\"\n",
    "    }\n",
    "  ],\n",
    "  \"principaux_actionnaires\": [\n",
    "    {\n",
    "      \"nom\": \"Investisseur A\",\n",
    "      \"part\": \"15%\"\n",
    "    },\n",
    "    {\n",
    "      \"nom\": \"Investisseur B\",\n",
    "      \"part\": \"10%\"\n",
    "    }\n",
    "  ],\n",
    "  \"informations_pertinentes\": \"La société XYZ a récemment élargi ses opérations en Europe et a lancé plusieurs nouveaux produits innovants.\",\n",
    "  \"nouvelles_recentes\": [\n",
    "    {\n",
    "      \"date\": \"2024-11-01\",\n",
    "      \"titre\": \"La société XYZ annonce un nouveau partenariat avec ABC Corp.\"\n",
    "    },\n",
    "    {\n",
    "      \"date\": \"2024-10-15\",\n",
    "      \"titre\": \"XYZ remporte le prix de la meilleure innovation technologique.\"\n",
    "    }\n",
    "  ],\n",
    "  \"risques_et_facteurs_de_croissance\": {\n",
    "    \"risques\": [\n",
    "      \"Volatilité du marché\",\n",
    "      \"Changements réglementaires\",\n",
    "      \"Concurrence accrue\"\n",
    "    ],\n",
    "    \"facteurs_de_croissance\": [\n",
    "      \"Expansion sur de nouveaux marchés\",\n",
    "      \"Avancées technologiques\",\n",
    "      \"Partenariats stratégiques\"\n",
    "    ]\n",
    "  },\n",
    "  \"analyse_reseaux_sociaux\": {\n",
    "    \"analystes\": [\n",
    "      {\n",
    "        \"nom\": \"Analyste A\",\n",
    "        \"sentiment\": \"positif\",\n",
    "        \"commentaire\": \"Potentiel de croissance solide, surtout dans le secteur du cloud.\"\n",
    "      },\n",
    "      {\n",
    "        \"nom\": \"Analyste B\",\n",
    "        \"sentiment\": \"neutre\",\n",
    "        \"commentaire\": \"Des défis subsistent en matière de réglementation.\"\n",
    "      }\n",
    "    ]\n",
    "  }\n",
    "}\n",
    "\"\"\""
   ]
  },
  {
   "cell_type": "code",
   "execution_count": 4,
   "id": "3c9253a2-8265-4f05-858c-2c05d76b82b8",
   "metadata": {
    "tags": []
   },
   "outputs": [],
   "source": [
    "# setting logger\n",
    "logging.basicConfig(format='[%(asctime)s] p%(process)s {%(filename)s:%(lineno)d} %(levelname)s - %(message)s', level=logging.INFO)\n",
    "logger = logging.getLogger(__name__)"
   ]
  },
  {
   "cell_type": "code",
   "execution_count": 5,
   "id": "f8153da9-df47-4783-a4cd-1322cb7d4620",
   "metadata": {
    "tags": []
   },
   "outputs": [],
   "source": [
    "# getting boto3 clients for required AWS services\n",
    "sts_client = boto3.client('sts')\n",
    "iam_client = boto3.client('iam')\n",
    "s3_client = boto3.client('s3')\n",
    "lambda_client = boto3.client('lambda')\n",
    "bedrock_agent_client = boto3.client('bedrock-agent')\n",
    "bedrock_agent_runtime_client = boto3.client('bedrock-agent-runtime')\n",
    "open_search_serverless_client = boto3.client('opensearchserverless')"
   ]
  },
  {
   "cell_type": "code",
   "execution_count": 6,
   "id": "7c4a2e5a-ba53-4883-9561-1274f9c968c7",
   "metadata": {
    "tags": []
   },
   "outputs": [
    {
     "data": {
      "text/plain": [
       "('us-west-2', '939490215743')"
      ]
     },
     "execution_count": 6,
     "metadata": {},
     "output_type": "execute_result"
    }
   ],
   "source": [
    "session = boto3.session.Session()\n",
    "region = session.region_name\n",
    "account_id = sts_client.get_caller_identity()[\"Account\"]\n",
    "region, account_id"
   ]
  },
  {
   "cell_type": "code",
   "execution_count": 7,
   "id": "90825c2b-6e82-4d84-b986-bff3695cc9bb",
   "metadata": {
    "tags": []
   },
   "outputs": [
    {
     "name": "stdout",
     "output_type": "stream",
     "text": [
      "1730670621\n"
     ]
    }
   ],
   "source": [
    "suffix = int(time.time())\n",
    "print(suffix)"
   ]
  },
  {
   "cell_type": "code",
   "execution_count": 8,
   "id": "ad6ac280-0204-4f24-9f9b-e8fd7ec9a9e3",
   "metadata": {
    "tags": []
   },
   "outputs": [],
   "source": [
    "# Generate random prefix for unique IAM roles, agent name and S3 Bucket and \n",
    "# assign variables\n",
    "suffix = f\"{region}-{account_id}\"\n",
    "\n",
    "suffix = int(time.time())\n",
    "agent_name = f\"bedrock-docs-kb-agents{suffix}\"\n",
    "\n",
    "agent_alias_name = f\"bedrock-docs-alias{suffix}\"\n",
    "\n",
    "\n",
    "\n",
    "\n",
    "#bucket_name = f'{agent_name}-{suffix}'\n",
    "\n",
    "bucket_name = f'my-data-bucket-2024'\n",
    "bucket_arn = f\"arn:aws:s3:::{bucket_name}\"\n",
    "\n",
    "\n",
    "\n",
    "#bedrock_agent_bedrock_allow_policy_name = f\"bda-bedrock-allow-{suffix}\"\n",
    "\n",
    "#bedrock_agent_s3_allow_policy_name = f\"bda-s3-allow-{suffix}\"\n",
    "\n",
    "#bedrock_agent_kb_allow_policy_name = f\"bda-kb-allow-{suffix}\"\n",
    "\n",
    "\n",
    "\n",
    "import time\n",
    "\n",
    "suffix = int(time.time())  # Utilise l'horodatage actuel comme suffixe\n",
    "\n",
    "bedrock_agent_bedrock_allow_policy_name = f\"bda-bedrock-allow-{suffix}\"\n",
    "bedrock_agent_s3_allow_policy_name = f\"bda-s3-allow-{suffix}\"\n",
    "bedrock_agent_kb_allow_policy_name = f\"bda-kb-allow-{suffix}\"\n",
    "\n",
    "\n",
    "\n",
    "agent_role_name = f'AmazonBedrockExecutionRoleForAgents_bedrock_docs{suffix}'\n",
    "\n",
    "#kb_name = f'bedrock-docs-kb-{suffix}'\n",
    "# Cela crée un nombre unique basé sur l'heure actuelle\n",
    "\n",
    "kb_name = f'bedrock-docs-kb-{suffix}'\n",
    "\n",
    "data_source_name = f'bedrock-docs-kb-docs-{suffix}'\n",
    "kb_files_path = 'kb_documents'\n",
    "kb_key = 'kb_documents'\n",
    "\n",
    "kb_role_name = f'rapport1_test_docs{suffix}'\n",
    "\n",
    "\n",
    "\n",
    "kb_bedrock_allow_policy_name = f\"bd-kb-bedrock-allow-{suffix}\"\n",
    "\n",
    "kb_aoss_allow_policy_name = f\"bd-kb-aoss-allow-{suffix}\"\n",
    "\n",
    "kb_s3_allow_policy_name = f\"bd-kb-s3-allow-{suffix}\"\n",
    "\n",
    "kb_collection_name = f'bd-kbc-{suffix}'\n",
    "\n",
    "# Select Amazon titan as the embedding model\n",
    "embedding_model_arn = f'arn:aws:bedrock:{region}::foundation-model/amazon.titan-embed-text-v1'\n",
    "kb_vector_index_name = \"bedrock-knowledge-base-index\"\n",
    "kb_metadataField = 'bedrock-knowledge-base-metadata'\n",
    "kb_textField = 'bedrock-knowledge-base-text'\n",
    "kb_vectorField = 'bedrock-knowledge-base-vector'\n",
    "model_id = \"anthropic.claude-3-sonnet-20240229-v1:0\"\n",
    "\n",
    "# agent configuration\n",
    "agent_instruction =incontext_prompt\n",
    "#\"\"\"\n",
    "#Analyze the provided financial report to generate a concise summary that includes key information such as revenue, expenses, profit margins, and significant changes compared to previous periods. Additionally, evaluate the sentiment in the report, focusing on the letters to shareholders and management commentary. Determine whether the sentiment is optimistic, pessimistic, or neutral, and present your findings in a structured format. Include relevant quotes or phrases to support your sentiment analysis and provide visualizations if applicable. la reponse final doit etre dans un format json , avec 3 cles \n",
    "#\"\"\""
   ]
  },
  {
   "cell_type": "code",
   "execution_count": 9,
   "id": "edc7cb0d-850b-479e-a817-03b8a1665c3d",
   "metadata": {
    "tags": []
   },
   "outputs": [
    {
     "name": "stdout",
     "output_type": "stream",
     "text": [
      "my-data-bucket-2024\n"
     ]
    }
   ],
   "source": [
    "print(bucket_name)"
   ]
  },
  {
   "cell_type": "code",
   "execution_count": 10,
   "id": "a94dcedf-b848-443e-b2a8-f91c4fd9d2a9",
   "metadata": {
    "tags": []
   },
   "outputs": [
    {
     "ename": "BucketAlreadyOwnedByYou",
     "evalue": "An error occurred (BucketAlreadyOwnedByYou) when calling the CreateBucket operation: Your previous request to create the named bucket succeeded and you already own it.",
     "output_type": "error",
     "traceback": [
      "\u001b[0;31m---------------------------------------------------------------------------\u001b[0m",
      "\u001b[0;31mBucketAlreadyOwnedByYou\u001b[0m                   Traceback (most recent call last)",
      "Cell \u001b[0;32mIn[10], line 2\u001b[0m\n\u001b[1;32m      1\u001b[0m \u001b[39mif\u001b[39;00m region \u001b[39m!=\u001b[39m \u001b[39m'\u001b[39m\u001b[39mus-east-1\u001b[39m\u001b[39m'\u001b[39m:\n\u001b[0;32m----> 2\u001b[0m     s3_client\u001b[39m.\u001b[39;49mcreate_bucket(\n\u001b[1;32m      3\u001b[0m         Bucket\u001b[39m=\u001b[39;49mbucket_name\u001b[39m.\u001b[39;49mlower(),\n\u001b[1;32m      4\u001b[0m         CreateBucketConfiguration\u001b[39m=\u001b[39;49m{\u001b[39m'\u001b[39;49m\u001b[39mLocationConstraint\u001b[39;49m\u001b[39m'\u001b[39;49m: region}\n\u001b[1;32m      5\u001b[0m     )\n\u001b[1;32m      6\u001b[0m \u001b[39melse\u001b[39;00m:\n\u001b[1;32m      7\u001b[0m     s3_client\u001b[39m.\u001b[39mcreate_bucket(Bucket\u001b[39m=\u001b[39mbucket_name)\n",
      "File \u001b[0;32m/Library/Frameworks/Python.framework/Versions/3.12/lib/python3.12/site-packages/botocore/client.py:569\u001b[0m, in \u001b[0;36mClientCreator._create_api_method.<locals>._api_call\u001b[0;34m(self, *args, **kwargs)\u001b[0m\n\u001b[1;32m    565\u001b[0m     \u001b[39mraise\u001b[39;00m \u001b[39mTypeError\u001b[39;00m(\n\u001b[1;32m    566\u001b[0m         \u001b[39mf\u001b[39m\u001b[39m\"\u001b[39m\u001b[39m{\u001b[39;00mpy_operation_name\u001b[39m}\u001b[39;00m\u001b[39m() only accepts keyword arguments.\u001b[39m\u001b[39m\"\u001b[39m\n\u001b[1;32m    567\u001b[0m     )\n\u001b[1;32m    568\u001b[0m \u001b[39m# The \"self\" in this scope is referring to the BaseClient.\u001b[39;00m\n\u001b[0;32m--> 569\u001b[0m \u001b[39mreturn\u001b[39;00m \u001b[39mself\u001b[39;49m\u001b[39m.\u001b[39;49m_make_api_call(operation_name, kwargs)\n",
      "File \u001b[0;32m/Library/Frameworks/Python.framework/Versions/3.12/lib/python3.12/site-packages/botocore/client.py:1023\u001b[0m, in \u001b[0;36mBaseClient._make_api_call\u001b[0;34m(self, operation_name, api_params)\u001b[0m\n\u001b[1;32m   1019\u001b[0m     error_code \u001b[39m=\u001b[39m error_info\u001b[39m.\u001b[39mget(\u001b[39m\"\u001b[39m\u001b[39mQueryErrorCode\u001b[39m\u001b[39m\"\u001b[39m) \u001b[39mor\u001b[39;00m error_info\u001b[39m.\u001b[39mget(\n\u001b[1;32m   1020\u001b[0m         \u001b[39m\"\u001b[39m\u001b[39mCode\u001b[39m\u001b[39m\"\u001b[39m\n\u001b[1;32m   1021\u001b[0m     )\n\u001b[1;32m   1022\u001b[0m     error_class \u001b[39m=\u001b[39m \u001b[39mself\u001b[39m\u001b[39m.\u001b[39mexceptions\u001b[39m.\u001b[39mfrom_code(error_code)\n\u001b[0;32m-> 1023\u001b[0m     \u001b[39mraise\u001b[39;00m error_class(parsed_response, operation_name)\n\u001b[1;32m   1024\u001b[0m \u001b[39melse\u001b[39;00m:\n\u001b[1;32m   1025\u001b[0m     \u001b[39mreturn\u001b[39;00m parsed_response\n",
      "\u001b[0;31mBucketAlreadyOwnedByYou\u001b[0m: An error occurred (BucketAlreadyOwnedByYou) when calling the CreateBucket operation: Your previous request to create the named bucket succeeded and you already own it."
     ]
    }
   ],
   "source": [
    "if region != 'us-east-1':\n",
    "    s3_client.create_bucket(\n",
    "        Bucket=bucket_name.lower(),\n",
    "        CreateBucketConfiguration={'LocationConstraint': region}\n",
    "    )\n",
    "else:\n",
    "    s3_client.create_bucket(Bucket=bucket_name)"
   ]
  },
  {
   "cell_type": "code",
   "execution_count": 11,
   "id": "b1dadce3-59d7-4ca6-8cd2-1f93670e3351",
   "metadata": {
    "tags": []
   },
   "outputs": [
    {
     "name": "stdout",
     "output_type": "stream",
     "text": [
      "Uploaded 9465D_Rapport_Annuel_2023_CCA_FR_F.pdf to s3://my-data-bucket-2024/kb_documents/9465D_Rapport_Annuel_2023_CCA_FR_F.pdf\n",
      "Uploaded 2023-rapport-financier-annuel-bce.pdf to s3://my-data-bucket-2024/kb_documents/2023-rapport-financier-annuel-bce.pdf\n",
      "Uploaded Hydro One Limited Annual Report 2022.pdf to s3://my-data-bucket-2024/kb_documents/Hydro One Limited Annual Report 2022.pdf\n",
      "Uploaded Hydro One Limited Annual Report 2023.pdf to s3://my-data-bucket-2024/kb_documents/Hydro One Limited Annual Report 2023.pdf\n",
      "Uploaded 2020-rapport-annuel-bce.pdf to s3://my-data-bucket-2024/kb_documents/2020-rapport-annuel-bce.pdf\n",
      "Uploaded Rogers-2023-Annual-Report.pdf to s3://my-data-bucket-2024/kb_documents/Rogers-2023-Annual-Report.pdf\n",
      "Uploaded 2022-annuel-10Q-FR-09122022-Final.pdf to s3://my-data-bucket-2024/kb_documents/2022-annuel-10Q-FR-09122022-Final.pdf\n",
      "Uploaded Rogers-2022-Annual-Report-1.pdf to s3://my-data-bucket-2024/kb_documents/Rogers-2022-Annual-Report-1.pdf\n",
      "Uploaded 2022-rapport-financier-annuel-bce.pdf to s3://my-data-bucket-2024/kb_documents/2022-rapport-financier-annuel-bce.pdf\n",
      "Uploaded 2021-rapport-annuel-bce.pdf to s3://my-data-bucket-2024/kb_documents/2021-rapport-annuel-bce.pdf\n"
     ]
    }
   ],
   "source": [
    "import os\n",
    "import boto3\n",
    "\n",
    "#kb_documents/Rapport_Act_2018_Fr.pdf\n",
    "#kb_documents\n",
    "# Upload PDF files to S3\n",
    "kb_files_path = 'financedata'\n",
    "for f in os.listdir(kb_files_path):\n",
    "    if f.endswith(\".pdf\"):\n",
    "        local_file_path = os.path.join(kb_files_path, f)\n",
    "        s3_client.upload_file(local_file_path, bucket_name, os.path.join(kb_key, f))\n",
    "        print(f\"Uploaded {f} to s3://{bucket_name}/{kb_key}/{f}\")\n"
   ]
  },
  {
   "cell_type": "code",
   "execution_count": null,
   "id": "e3b125ac-0c98-4242-9c53-7499efec38c4",
   "metadata": {},
   "outputs": [],
   "source": [
    "\n",
    "\n"
   ]
  },
  {
   "cell_type": "code",
   "execution_count": 14,
   "id": "0d5f298c-d9af-4686-9c8f-26efcc9cae34",
   "metadata": {
    "tags": []
   },
   "outputs": [],
   "source": [
    "# Upload Knowledge Base files to thikb_files_paths s3 bucket\n",
    "\n",
    "#for f in os.listdir(kb_files_path):\n",
    "    #if f.endswith(\".pdf\"):\n",
    "        #s3_client.upload_file(kb_files_path+'/'+f, bucket_name, kb_key+'/'+f)"
   ]
  },
  {
   "cell_type": "code",
   "execution_count": 12,
   "id": "25ad261c-76d4-4274-95cd-4774cffb991e",
   "metadata": {
    "tags": []
   },
   "outputs": [
    {
     "name": "stdout",
     "output_type": "stream",
     "text": [
      "bd-kb-s3-allow-1730624761\n",
      "bd-kb-bedrock-allow-1730646173\n",
      "bd-kb-bedrock-allow-1730624479\n",
      "bda-bedrock-allow-1730646923\n",
      "bd-kb-bedrock-allow-1730609702\n",
      "bda-bedrock-allow-1730624479\n",
      "iam_policy-0\n",
      "bda-bedrock-allow-1730609928\n",
      "bda-bedrock-allow-1730624761\n",
      "bda-kb-allow-1730624761\n",
      "bda-kb-allow-1730624479\n",
      "bda-bedrock-allow-1730612149\n",
      "AmazonSageMaker-ExecutionPolicy-20241102T134231\n",
      "bd-kb-bedrock-allow-1730615197\n",
      "bd-kb-s3-allow-1730615197\n",
      "AmazonSageMakerServiceCatalogProductsUseRole-20241102T134284\n",
      "bd-kb-bedrock-allow-1730664838\n",
      "bd-kb-bedrock-allow-1730612149\n",
      "bd-kb-aoss-allow-1730623728\n",
      "bda-bedrock-allow-us-west-2-939490215743\n",
      "bda-kb-allow-1730610699\n",
      "AmazonBedrockFoundationModelPolicyForKnowledgeBase_9394\n",
      "bd-kb-bedrock-allow-us-west-2-939490215743\n",
      "bd-kb-aoss-allow-1730613481\n",
      "bd-kb-aoss-allow-1730609702\n",
      "bd-kb-s3-allow-1730664838\n",
      "bd-kb-bedrock-allow-1730614065\n",
      "bd-kb-s3-allow-1730609702\n",
      "ws-default-policy\n",
      "Datathon2024\n",
      "bd-kb-aoss-allow-1730614065\n",
      "bd-kb-bedrock-allow-1730623728\n",
      "bda-bedrock-allow-1730646173\n",
      "Police\n",
      "bda-kb-allow-1730611109\n",
      "AmazonBedrockS3PolicyForKnowledgeBase_9394\n",
      "bd-kb-aoss-allow-1730624761\n",
      "bd-kb-s3-allow-1730623728\n",
      "booking-agent-dynamodb-policy\n",
      "bda-bedrock-allow-1730623728\n",
      "bda-kb-allow-1730609928\n",
      "bda-bedrock-allow-1730610699\n",
      "bd-kb-s3-allow-1730610699\n",
      "bd-kb-s3-allow-1730624479\n",
      "bda-kb-allow-1730664838\n",
      "bda-kb-allow-1730612149\n",
      "bda-kb-allow-1730623728\n",
      "bd-kb-aoss-allow-1730615197\n",
      "bd-kb-aoss-allow-1730664838\n",
      "bd-kb-aoss-allow-1730624479\n",
      "bd-kb-bedrock-allow-1730613481\n",
      "bda-bedrock-allow-1730664838\n",
      "bd-kb-s3-allow-us-west-2-939490215743\n",
      "bd-kb-s3-allow-1730612149\n",
      "bd-kb-s3-allow-1730613481\n",
      "booking-agent-ba\n",
      "bd-kb-aoss-allow-us-west-2-939490215743\n",
      "bda-bedrock-allow-1730613481\n",
      "bd-kb-aoss-allow-1730646173\n",
      "bd-kb-bedrock-allow-1730624761\n",
      "bd-kb-aoss-allow-1730612149\n",
      "bd-kb-s3-allow-1730614065\n",
      "bd-kb-s3-allow-1730646173\n",
      "bda-kb-allow-1730646173\n",
      "bda-kb-allow-1730646923\n",
      "bda-kb-allow-us-west-2-939490215743\n",
      "AmazonBedrockOSSPolicyForKnowledgeBase_9394\n"
     ]
    }
   ],
   "source": [
    "import boto3\n",
    "\n",
    "iam_client = boto3.client('iam')\n",
    "policies = iam_client.list_policies(Scope='Local')  # List only your policies\n",
    "\n",
    "for policy in policies['Policies']:\n",
    "    print(policy['PolicyName'])\n"
   ]
  },
  {
   "cell_type": "code",
   "execution_count": 13,
   "id": "bac3fb9f-549c-4359-862c-5794744dffc1",
   "metadata": {
    "tags": []
   },
   "outputs": [],
   "source": [
    "# Create IAM policies for KB to invoke embedding model\n",
    "bedrock_kb_allow_fm_model_policy_statement = {\n",
    "    \"Version\": \"2012-10-17\",\n",
    "    \"Statement\": [\n",
    "        {\n",
    "            \"Sid\": \"AmazonBedrockAgentBedrockFoundationModelPolicy\",\n",
    "            \"Effect\": \"Allow\",\n",
    "            \"Action\": \"bedrock:InvokeModel\",\n",
    "            \"Resource\": [\n",
    "                embedding_model_arn\n",
    "            ]\n",
    "        }\n",
    "    ]\n",
    "}\n",
    "\n",
    "kb_bedrock_policy_json = json.dumps(bedrock_kb_allow_fm_model_policy_statement)\n",
    "\n",
    "kb_bedrock_policy = iam_client.create_policy(\n",
    "    PolicyName=kb_bedrock_allow_policy_name,\n",
    "    PolicyDocument=kb_bedrock_policy_json\n",
    ")"
   ]
  },
  {
   "cell_type": "code",
   "execution_count": 14,
   "id": "b79582fa-f932-4211-862f-eeccb878af9f",
   "metadata": {
    "tags": []
   },
   "outputs": [],
   "source": [
    "# Create IAM policies for KB to access OpenSearch Serverless\n",
    "bedrock_kb_allow_aoss_policy_statement = {\n",
    "    \"Version\": \"2012-10-17\",\n",
    "    \"Statement\": [\n",
    "        {\n",
    "            \"Effect\": \"Allow\",\n",
    "            \"Action\": \"aoss:APIAccessAll\",\n",
    "            \"Resource\": [\n",
    "                f\"arn:aws:aoss:{region}:{account_id}:collection/*\"\n",
    "            ]\n",
    "        }\n",
    "    ]\n",
    "}\n",
    "\n",
    "\n",
    "kb_aoss_policy_json = json.dumps(bedrock_kb_allow_aoss_policy_statement)\n",
    "\n",
    "kb_aoss_policy = iam_client.create_policy(\n",
    "    PolicyName=kb_aoss_allow_policy_name,\n",
    "    PolicyDocument=kb_aoss_policy_json\n",
    ")"
   ]
  },
  {
   "cell_type": "code",
   "execution_count": 15,
   "id": "08470d9a-1642-483e-9f3a-567e07e7d1a6",
   "metadata": {
    "tags": []
   },
   "outputs": [],
   "source": [
    "kb_s3_allow_policy_statement = {\n",
    "    \"Version\": \"2012-10-17\",\n",
    "    \"Statement\": [\n",
    "        {\n",
    "            \"Sid\": \"AllowKBAccessDocuments\",\n",
    "            \"Effect\": \"Allow\",\n",
    "            \"Action\": [\n",
    "                \"s3:GetObject\",\n",
    "                \"s3:ListBucket\"\n",
    "            ],\n",
    "            \"Resource\": [\n",
    "                f\"arn:aws:s3:::{bucket_name}/*\",\n",
    "                f\"arn:aws:s3:::{bucket_name}\"\n",
    "            ],\n",
    "            \"Condition\": {\n",
    "                \"StringEquals\": {\n",
    "                    \"aws:ResourceAccount\": f\"{account_id}\"\n",
    "                }\n",
    "            }\n",
    "        }\n",
    "    ]\n",
    "}\n",
    "\n",
    "\n",
    "kb_s3_json = json.dumps(kb_s3_allow_policy_statement)\n",
    "kb_s3_policy = iam_client.create_policy(\n",
    "    PolicyName=kb_s3_allow_policy_name,\n",
    "    PolicyDocument=kb_s3_json\n",
    ")"
   ]
  },
  {
   "cell_type": "code",
   "execution_count": 16,
   "id": "086456dc-e255-49bf-b8b9-2bbb645255f9",
   "metadata": {
    "tags": []
   },
   "outputs": [],
   "source": [
    "# Create IAM Role for the agent and attach IAM policies\n",
    "assume_role_policy_document = {\n",
    "    \"Version\": \"2012-10-17\",\n",
    "    \"Statement\": [{\n",
    "          \"Effect\": \"Allow\",\n",
    "          \"Principal\": {\n",
    "            \"Service\": \"bedrock.amazonaws.com\"\n",
    "          },\n",
    "          \"Action\": \"sts:AssumeRole\"\n",
    "    }]\n",
    "}\n",
    "\n"
   ]
  },
  {
   "cell_type": "code",
   "execution_count": 17,
   "id": "c572452c-64bb-4beb-b5b2-4353f6e4d015",
   "metadata": {
    "tags": []
   },
   "outputs": [],
   "source": [
    "assume_role_policy_document_json = json.dumps(assume_role_policy_document)\n"
   ]
  },
  {
   "cell_type": "code",
   "execution_count": 18,
   "id": "e73fd093-8d09-4cf4-b7d7-327dce7c651b",
   "metadata": {
    "tags": []
   },
   "outputs": [],
   "source": [
    "kb_role = iam_client.create_role(\n",
    "    RoleName=kb_role_name,\n",
    "    AssumeRolePolicyDocument=assume_role_policy_document_json\n",
    ")\n",
    "\n"
   ]
  },
  {
   "cell_type": "code",
   "execution_count": 19,
   "id": "b3f75554-3bd5-440e-9b50-58ec46a17c88",
   "metadata": {
    "tags": []
   },
   "outputs": [
    {
     "data": {
      "text/plain": [
       "{'ResponseMetadata': {'RequestId': '9293641f-db9f-4be5-879f-2bd5b6f76212',\n",
       "  'HTTPStatusCode': 200,\n",
       "  'HTTPHeaders': {'date': 'Sun, 03 Nov 2024 21:51:31 GMT',\n",
       "   'x-amzn-requestid': '9293641f-db9f-4be5-879f-2bd5b6f76212',\n",
       "   'content-type': 'text/xml',\n",
       "   'content-length': '212'},\n",
       "  'RetryAttempts': 0}}"
      ]
     },
     "execution_count": 19,
     "metadata": {},
     "output_type": "execute_result"
    }
   ],
   "source": [
    "# Pause to make sure role is created\n",
    "time.sleep(10)\n",
    "    \n",
    "iam_client.attach_role_policy(\n",
    "    RoleName=kb_role_name,\n",
    "    PolicyArn=kb_bedrock_policy['Policy']['Arn']\n",
    ")\n",
    "\n",
    "iam_client.attach_role_policy(\n",
    "    RoleName=kb_role_name,\n",
    "    PolicyArn=kb_aoss_policy['Policy']['Arn']\n",
    ")\n",
    "\n",
    "iam_client.attach_role_policy(\n",
    "    RoleName=kb_role_name,\n",
    "    PolicyArn=kb_s3_policy['Policy']['Arn']\n",
    ")"
   ]
  },
  {
   "cell_type": "code",
   "execution_count": 20,
   "id": "8e3b9a80-22cb-4d20-b348-f5f30172c552",
   "metadata": {
    "tags": []
   },
   "outputs": [
    {
     "name": "stdout",
     "output_type": "stream",
     "text": [
      "AmazonBedrockExecutionRoleForAgents_bedrock_docs1730623728\n",
      "AmazonBedrockExecutionRoleForAgents_bedrock_docs1730624479\n",
      "AmazonBedrockExecutionRoleForAgents_bedrock_docs1730624761\n",
      "AmazonBedrockExecutionRoleForAgents_bedrock_docs1730646173\n",
      "AmazonBedrockExecutionRoleForAgents_bedrock_docs1730646923\n",
      "AmazonBedrockExecutionRoleForAgents_bedrock_docs1730664838\n",
      "AmazonBedrockExecutionRoleForAgents_booking-agent\n",
      "AmazonBedrockExecutionRoleForKnowledgeBase_9394\n",
      "AmazonSageMakerServiceCatalogProductsLaunchRole\n",
      "AmazonSageMakerServiceCatalogProductsUseRole\n",
      "AWSServiceRoleForAmazonEMRServerless\n",
      "AWSServiceRoleForAmazonOpenSearchServerless\n",
      "AWSServiceRoleForAmazonOpenSearchService\n",
      "AWSServiceRoleForAmazonSageMakerNotebooks\n",
      "AWSServiceRoleForAWSCloud9\n",
      "AWSServiceRoleForAWSLicenseManagerMemberAccountRole\n",
      "AWSServiceRoleForAWSLicenseManagerRole\n",
      "AWSServiceRoleForAWSServiceCatalogAppRegistry\n",
      "AWSServiceRoleForCloudTrail\n",
      "AWSServiceRoleForDevOpsGuru\n",
      "AWSServiceRoleForElasticLoadBalancing\n",
      "AWSServiceRoleForGlobalAccelerator\n",
      "AWSServiceRoleForMarketplaceLicenseManagement\n",
      "AWSServiceRoleForOrganizations\n",
      "AWSServiceRoleForRDS\n",
      "AWSServiceRoleForSupport\n",
      "AWSServiceRoleForTrustedAdvisor\n",
      "bedrock-workshop-studio-LambdaExecutionRole-DOZEQpxbLoJ2\n",
      "bedrock-workshop-studio-LifeCycleConfigLambdaRole-uRmQG01FRk7K\n",
      "bedrock-workshop-studio-SageMakerExecutionRole-bpFmpVc1jMFh\n",
      "booking-agent-lambda-role\n",
      "EEOrganizations\n",
      "rapport1_test_docs\n",
      "rapport1_test_docs1730610699\n",
      "rapport1_test_docs1730612149\n",
      "rapport1_test_docs1730613481\n",
      "rapport1_test_docs1730614065\n",
      "rapport1_test_docs1730615197\n",
      "rapport1_test_docs1730623728\n",
      "rapport1_test_docs1730624479\n",
      "rapport1_test_docs1730624761\n",
      "rapport1_test_docs1730646173\n",
      "rapport1_test_docs1730646923\n",
      "rapport1_test_docs1730664838\n",
      "rapport1_test_docs1730670623\n",
      "WSLambdaCurtailerRole\n",
      "WSOpsRole\n",
      "WSParticipantRole\n",
      "WSReaperRole\n",
      "WSSystemRole\n"
     ]
    }
   ],
   "source": [
    "import boto3\n",
    "\n",
    "iam_client = boto3.client('iam')\n",
    "\n",
    "roles = iam_client.list_roles()\n",
    "for role in roles['Roles']:\n",
    "    print(role['RoleName'])\n"
   ]
  },
  {
   "cell_type": "code",
   "execution_count": 21,
   "id": "8fa2532a-1748-472d-b73a-56d0f5e4953f",
   "metadata": {
    "tags": []
   },
   "outputs": [
    {
     "data": {
      "text/plain": [
       "'arn:aws:iam::939490215743:role/rapport1_test_docs1730670623'"
      ]
     },
     "execution_count": 21,
     "metadata": {},
     "output_type": "execute_result"
    }
   ],
   "source": [
    "kb_role_arn = kb_role[\"Role\"][\"Arn\"]\n",
    "kb_role_arn"
   ]
  },
  {
   "cell_type": "code",
   "execution_count": 22,
   "id": "c9adf161-e004-4feb-8870-e6d34c8af9cd",
   "metadata": {
    "tags": []
   },
   "outputs": [],
   "source": [
    "# Create OpenSearch Collection\n",
    "security_policy_json = {\n",
    "    \"Rules\": [\n",
    "        {\n",
    "            \"ResourceType\": \"collection\",\n",
    "            \"Resource\":[\n",
    "                f\"collection/{kb_collection_name}\"\n",
    "            ]\n",
    "        }\n",
    "    ],\n",
    "    \"AWSOwnedKey\": True\n",
    "}\n",
    "security_policy = open_search_serverless_client.create_security_policy(\n",
    "    description='security policy of aoss collection',\n",
    "    name=kb_collection_name,\n",
    "    policy=json.dumps(security_policy_json),\n",
    "    type='encryption'\n",
    ")"
   ]
  },
  {
   "cell_type": "code",
   "execution_count": 23,
   "id": "310a9b38-3eab-43b6-837e-32c66f4b43eb",
   "metadata": {
    "tags": []
   },
   "outputs": [],
   "source": [
    "network_policy_json = [\n",
    "  {\n",
    "    \"Rules\": [\n",
    "      {\n",
    "        \"Resource\": [\n",
    "          f\"collection/{kb_collection_name}\"\n",
    "        ],\n",
    "        \"ResourceType\": \"dashboard\"\n",
    "      },\n",
    "      {\n",
    "        \"Resource\": [\n",
    "          f\"collection/{kb_collection_name}\"\n",
    "        ],\n",
    "        \"ResourceType\": \"collection\"\n",
    "      }\n",
    "    ],\n",
    "    \"AllowFromPublic\": True\n",
    "  }\n",
    "]\n",
    "\n",
    "network_policy = open_search_serverless_client.create_security_policy(\n",
    "    description='network policy of aoss collection',\n",
    "    name=kb_collection_name,\n",
    "    policy=json.dumps(network_policy_json),\n",
    "    type='network'\n",
    ")"
   ]
  },
  {
   "cell_type": "code",
   "execution_count": 24,
   "id": "0b5d07dd-039f-42e3-b6d2-054d57c1b80e",
   "metadata": {
    "tags": []
   },
   "outputs": [
    {
     "data": {
      "text/plain": [
       "'arn:aws:sts::939490215743:assumed-role/WSParticipantRole/Participant'"
      ]
     },
     "execution_count": 24,
     "metadata": {},
     "output_type": "execute_result"
    }
   ],
   "source": [
    "response = sts_client.get_caller_identity()\n",
    "current_role = response['Arn']\n",
    "current_role"
   ]
  },
  {
   "cell_type": "code",
   "execution_count": 25,
   "id": "34bb3950-95f5-4b9e-a493-54c636bc32f9",
   "metadata": {
    "tags": []
   },
   "outputs": [],
   "source": [
    "data_policy_json = [\n",
    "  {\n",
    "    \"Rules\": [\n",
    "      {\n",
    "        \"Resource\": [\n",
    "          f\"collection/{kb_collection_name}\"\n",
    "        ],\n",
    "        \"Permission\": [\n",
    "          \"aoss:DescribeCollectionItems\",\n",
    "          \"aoss:CreateCollectionItems\",\n",
    "          \"aoss:UpdateCollectionItems\",\n",
    "          \"aoss:DeleteCollectionItems\"\n",
    "        ],\n",
    "        \"ResourceType\": \"collection\"\n",
    "      },\n",
    "      {\n",
    "        \"Resource\": [\n",
    "          f\"index/{kb_collection_name}/*\"\n",
    "        ],\n",
    "        \"Permission\": [\n",
    "            \"aoss:CreateIndex\",\n",
    "            \"aoss:DeleteIndex\",\n",
    "            \"aoss:UpdateIndex\",\n",
    "            \"aoss:DescribeIndex\",\n",
    "            \"aoss:ReadDocument\",\n",
    "            \"aoss:WriteDocument\"\n",
    "        ],\n",
    "        \"ResourceType\": \"index\"\n",
    "      }\n",
    "    ],\n",
    "    \"Principal\": [\n",
    "        kb_role_arn,\n",
    "        f\"arn:aws:sts::{account_id}:assumed-role/Admin/*\",\n",
    "        current_role\n",
    "    ],\n",
    "    \"Description\": \"\"\n",
    "  }\n",
    "]\n",
    "\n",
    "data_policy = open_search_serverless_client.create_access_policy(\n",
    "    description='data access policy for aoss collection',\n",
    "    name=kb_collection_name,\n",
    "    policy=json.dumps(data_policy_json),\n",
    "    type='data'\n",
    ")"
   ]
  },
  {
   "cell_type": "code",
   "execution_count": 26,
   "id": "17d48287-30fc-428f-ad96-e2968e23a9c9",
   "metadata": {
    "tags": []
   },
   "outputs": [
    {
     "data": {
      "text/plain": [
       "{'createCollectionDetail': {'arn': 'arn:aws:aoss:us-west-2:939490215743:collection/tbn2knrfrmpxsconlpc1',\n",
       "  'createdDate': 1730670716749,\n",
       "  'description': 'OpenSearch collection for Amazon Bedrock Knowledge Base',\n",
       "  'id': 'tbn2knrfrmpxsconlpc1',\n",
       "  'kmsKeyArn': 'auto',\n",
       "  'lastModifiedDate': 1730670716749,\n",
       "  'name': 'bd-kbc-1730670623',\n",
       "  'standbyReplicas': 'DISABLED',\n",
       "  'status': 'CREATING',\n",
       "  'type': 'VECTORSEARCH'},\n",
       " 'ResponseMetadata': {'RequestId': 'f0f13e9f-a401-4f3d-8dde-676ca74e6bb7',\n",
       "  'HTTPStatusCode': 200,\n",
       "  'HTTPHeaders': {'x-amzn-requestid': 'f0f13e9f-a401-4f3d-8dde-676ca74e6bb7',\n",
       "   'date': 'Sun, 03 Nov 2024 21:51:56 GMT',\n",
       "   'content-type': 'application/x-amz-json-1.0',\n",
       "   'content-length': '382',\n",
       "   'connection': 'keep-alive'},\n",
       "  'RetryAttempts': 0}}"
      ]
     },
     "execution_count": 26,
     "metadata": {},
     "output_type": "execute_result"
    }
   ],
   "source": [
    "opensearch_collection_response = open_search_serverless_client.create_collection(\n",
    "    description='OpenSearch collection for Amazon Bedrock Knowledge Base',\n",
    "    name=kb_collection_name,\n",
    "    standbyReplicas='DISABLED',\n",
    "    type='VECTORSEARCH'\n",
    ")\n",
    "opensearch_collection_response"
   ]
  },
  {
   "cell_type": "code",
   "execution_count": 27,
   "id": "a3cb75ef-8918-484a-98a7-7cd8f6d375e6",
   "metadata": {
    "tags": []
   },
   "outputs": [
    {
     "data": {
      "text/plain": [
       "'arn:aws:aoss:us-west-2:939490215743:collection/tbn2knrfrmpxsconlpc1'"
      ]
     },
     "execution_count": 27,
     "metadata": {},
     "output_type": "execute_result"
    }
   ],
   "source": [
    "collection_arn = opensearch_collection_response[\"createCollectionDetail\"][\"arn\"]\n",
    "collection_arn"
   ]
  },
  {
   "cell_type": "code",
   "execution_count": 28,
   "id": "6ef489c6-bbcd-40de-97ff-58c653a886d0",
   "metadata": {
    "tags": []
   },
   "outputs": [
    {
     "name": "stdout",
     "output_type": "stream",
     "text": [
      "Creating collection...\n",
      "\n",
      "Collection successfully created:\n",
      "[{'arn': 'arn:aws:aoss:us-west-2:939490215743:collection/tbn2knrfrmpxsconlpc1', 'collectionEndpoint': 'https://tbn2knrfrmpxsconlpc1.us-west-2.aoss.amazonaws.com', 'createdDate': 1730670716749, 'dashboardEndpoint': 'https://tbn2knrfrmpxsconlpc1.us-west-2.aoss.amazonaws.com/_dashboards', 'description': 'OpenSearch collection for Amazon Bedrock Knowledge Base', 'id': 'tbn2knrfrmpxsconlpc1', 'kmsKeyArn': 'auto', 'lastModifiedDate': 1730670739720, 'name': 'bd-kbc-1730670623', 'standbyReplicas': 'DISABLED', 'status': 'ACTIVE', 'type': 'VECTORSEARCH'}]\n"
     ]
    },
    {
     "data": {
      "text/plain": [
       "'tbn2knrfrmpxsconlpc1.us-west-2.aoss.amazonaws.com'"
      ]
     },
     "execution_count": 28,
     "metadata": {},
     "output_type": "execute_result"
    }
   ],
   "source": [
    "# wait for collection creation\n",
    "response = open_search_serverless_client.batch_get_collection(names=[kb_collection_name])\n",
    "# Periodically check collection status\n",
    "while (response['collectionDetails'][0]['status']) == 'CREATING':\n",
    "    print('Creating collection...')\n",
    "    time.sleep(30)\n",
    "    response = open_search_serverless_client.batch_get_collection(names=[kb_collection_name])\n",
    "print('\\nCollection successfully created:')\n",
    "print(response[\"collectionDetails\"])\n",
    "# Extract the collection endpoint from the response\n",
    "host = (response['collectionDetails'][0]['collectionEndpoint'])\n",
    "final_host = host.replace(\"https://\", \"\")\n",
    "final_host"
   ]
  },
  {
   "cell_type": "code",
   "execution_count": 29,
   "id": "9cc866ef-6d53-44fd-8d72-086a366c1b53",
   "metadata": {
    "tags": []
   },
   "outputs": [
    {
     "name": "stderr",
     "output_type": "stream",
     "text": [
      "[2024-11-03 16:52:34,506] p3894 {credentials.py:1147} INFO - Found credentials in environment variables.\n",
      "[2024-11-03 16:53:20,286] p3894 {base.py:258} INFO - PUT https://tbn2knrfrmpxsconlpc1.us-west-2.aoss.amazonaws.com:443/bedrock-knowledge-base-index [status:200 request:0.773s]\n"
     ]
    },
    {
     "name": "stdout",
     "output_type": "stream",
     "text": [
      "\n",
      "Creating index:\n",
      "{'acknowledged': True, 'shards_acknowledged': True, 'index': 'bedrock-knowledge-base-index'}\n"
     ]
    }
   ],
   "source": [
    "credentials = boto3.Session().get_credentials()\n",
    "service = 'aoss'\n",
    "awsauth = AWS4Auth(\n",
    "    credentials.access_key, \n",
    "    credentials.secret_key,\n",
    "    region, \n",
    "    service, \n",
    "    session_token=credentials.token\n",
    ")\n",
    "\n",
    "# Build the OpenSearch client\n",
    "open_search_client = OpenSearch(\n",
    "    hosts=[{'host': final_host, 'port': 443}],\n",
    "    http_auth=awsauth,\n",
    "    use_ssl=True,\n",
    "    verify_certs=True,\n",
    "    connection_class=RequestsHttpConnection,\n",
    "    timeout=300\n",
    ")\n",
    "# It can take up to a minute for data access rules to be enforced\n",
    "time.sleep(45)\n",
    "index_body = {\n",
    "    \"settings\": {\n",
    "        \"index.knn\": True,\n",
    "        \"number_of_shards\": 1,\n",
    "        \"knn.algo_param.ef_search\": 512,\n",
    "        \"number_of_replicas\": 0,\n",
    "    },\n",
    "    \"mappings\": {\n",
    "        \"properties\": {}\n",
    "    }\n",
    "}\n",
    "\n",
    "index_body[\"mappings\"][\"properties\"][kb_vectorField] = {\n",
    "    \"type\": \"knn_vector\",\n",
    "    \"dimension\": 1536,\n",
    "    \"method\": {\n",
    "         \"name\": \"hnsw\",\n",
    "         \"engine\": \"faiss\"\n",
    "    },\n",
    "}\n",
    "\n",
    "index_body[\"mappings\"][\"properties\"][kb_textField] = {\n",
    "    \"type\": \"text\"\n",
    "}\n",
    "\n",
    "index_body[\"mappings\"][\"properties\"][kb_metadataField] = {\n",
    "    \"type\": \"text\"\n",
    "}\n",
    "\n",
    "# Create index\n",
    "response = open_search_client.indices.create(kb_vector_index_name, body=index_body)\n",
    "print('\\nCreating index:')\n",
    "print(response)"
   ]
  },
  {
   "cell_type": "code",
   "execution_count": 30,
   "id": "6e75d1c0-2f90-4811-8ce6-40f1411b6209",
   "metadata": {
    "tags": []
   },
   "outputs": [],
   "source": [
    "storage_configuration = {\n",
    "    'opensearchServerlessConfiguration': {\n",
    "        'collectionArn': collection_arn, \n",
    "        'fieldMapping': {\n",
    "            'metadataField': kb_metadataField,\n",
    "            'textField': kb_textField,\n",
    "            'vectorField': kb_vectorField\n",
    "        },\n",
    "        'vectorIndexName': kb_vector_index_name\n",
    "    },\n",
    "    'type': 'OPENSEARCH_SERVERLESS'\n",
    "}"
   ]
  },
  {
   "cell_type": "code",
   "execution_count": 31,
   "id": "332e1a7b-9682-484b-b498-a595e35652e6",
   "metadata": {
    "tags": []
   },
   "outputs": [
    {
     "name": "stdout",
     "output_type": "stream",
     "text": [
      "{'ResponseMetadata': {'HTTPHeaders': {'connection': 'keep-alive',\n",
      "                                      'content-length': '974',\n",
      "                                      'content-type': 'application/json',\n",
      "                                      'date': 'Sun, 03 Nov 2024 21:54:15 GMT',\n",
      "                                      'x-amz-apigw-id': 'AsKZJFdNPHcEXtg=',\n",
      "                                      'x-amzn-requestid': '5aa21959-3428-41fe-9c1d-c2be120a9312',\n",
      "                                      'x-amzn-trace-id': 'Root=1-6727f106-31ad34aa673ec5a139ecda61'},\n",
      "                      'HTTPStatusCode': 202,\n",
      "                      'RequestId': '5aa21959-3428-41fe-9c1d-c2be120a9312',\n",
      "                      'RetryAttempts': 0},\n",
      " 'knowledgeBase': {'createdAt': datetime.datetime(2024, 11, 3, 21, 54, 15, 23211, tzinfo=tzutc()),\n",
      "                   'description': 'KB that contains the bedrock documentation',\n",
      "                   'knowledgeBaseArn': 'arn:aws:bedrock:us-west-2:939490215743:knowledge-base/WGL6XWBI7S',\n",
      "                   'knowledgeBaseConfiguration': {'type': 'VECTOR',\n",
      "                                                  'vectorKnowledgeBaseConfiguration': {'embeddingModelArn': 'arn:aws:bedrock:us-west-2::foundation-model/amazon.titan-embed-text-v1'}},\n",
      "                   'knowledgeBaseId': 'WGL6XWBI7S',\n",
      "                   'name': 'bedrock-docs-kb-1730670623',\n",
      "                   'roleArn': 'arn:aws:iam::939490215743:role/rapport1_test_docs1730670623',\n",
      "                   'status': 'CREATING',\n",
      "                   'storageConfiguration': {'opensearchServerlessConfiguration': {'collectionArn': 'arn:aws:aoss:us-west-2:939490215743:collection/tbn2knrfrmpxsconlpc1',\n",
      "                                                                                  'fieldMapping': {'metadataField': 'bedrock-knowledge-base-metadata',\n",
      "                                                                                                   'textField': 'bedrock-knowledge-base-text',\n",
      "                                                                                                   'vectorField': 'bedrock-knowledge-base-vector'},\n",
      "                                                                                  'vectorIndexName': 'bedrock-knowledge-base-index'},\n",
      "                                            'type': 'OPENSEARCH_SERVERLESS'},\n",
      "                   'updatedAt': datetime.datetime(2024, 11, 3, 21, 54, 15, 23211, tzinfo=tzutc())}}\n"
     ]
    }
   ],
   "source": [
    "# Creating the knowledge base\n",
    "try:\n",
    "    # ensure the index is created and available\n",
    "    time.sleep(45)\n",
    "    kb_obj = bedrock_agent_client.create_knowledge_base(\n",
    "        name=kb_name, \n",
    "        description='KB that contains the bedrock documentation',\n",
    "        roleArn=kb_role_arn,\n",
    "        knowledgeBaseConfiguration={\n",
    "            'type': 'VECTOR',  # Corrected type\n",
    "            'vectorKnowledgeBaseConfiguration': {\n",
    "                'embeddingModelArn': embedding_model_arn\n",
    "            }\n",
    "        },\n",
    "        storageConfiguration=storage_configuration\n",
    "    )\n",
    "\n",
    "    # Pretty print the response\n",
    "    pprint.pprint(kb_obj)\n",
    "\n",
    "except Exception as e:\n",
    "    print(f\"Error occurred: {e}\")"
   ]
  },
  {
   "cell_type": "code",
   "execution_count": null,
   "id": "e0de85af-6157-4644-a73a-419144aa3e37",
   "metadata": {
    "tags": []
   },
   "outputs": [],
   "source": [
    "#!pip install yfinance\n"
   ]
  },
  {
   "cell_type": "code",
   "execution_count": 32,
   "id": "f95666fb-4db7-4656-ad01-5a2cc50726ca",
   "metadata": {
    "tags": []
   },
   "outputs": [],
   "source": [
    "import yfinance as yf\n",
    "import pandas as pd\n",
    "import matplotlib.pyplot as plt"
   ]
  },
  {
   "cell_type": "code",
   "execution_count": 34,
   "id": "15e39699-843f-472b-a857-da255ca0638f",
   "metadata": {
    "tags": []
   },
   "outputs": [],
   "source": [
    "\n",
    "\n",
    "class StockOBV:\n",
    "    def __init__(self, ticker, start_date, end_date):\n",
    "        self.ticker = ticker\n",
    "        self.start_date = start_date\n",
    "        self.end_date = end_date\n",
    "        self.data = None\n",
    "\n",
    "    def download_data(self):\n",
    "        \"\"\"Download historical stock data.\"\"\"\n",
    "        self.data = yf.download(self.ticker, start=self.start_date, end=self.end_date)\n",
    "\n",
    "    def calculate_obv(self):\n",
    "        \"\"\"Calculate On-Balance Volume (OBV).\"\"\"\n",
    "        if self.data is not None:\n",
    "            # Calculate daily price change\n",
    "            price_change = self.data['Close'].diff()\n",
    "\n",
    "            # Calculate OBV\n",
    "            self.data['OBV'] = (price_change > 0).astype(int) * self.data['Volume'] - (price_change < 0).astype(int) * self.data['Volume']\n",
    "            self.data['OBV'] = self.data['OBV'].cumsum()  # Cumulative sum to get OBV\n",
    "        else:\n",
    "            raise ValueError(\"Data not downloaded. Please call download_data() first.\")\n",
    "\n",
    "    def get_obv_data(self):\n",
    "        \"\"\"Return a DataFrame of dates and their corresponding OBV values.\"\"\"\n",
    "        if 'OBV' not in self.data.columns:\n",
    "            raise ValueError(\"OBV not calculated. Please call calculate_obv() first.\")\n",
    "\n",
    "        # Create a DataFrame with the date and OBV values\n",
    "        obv_data = self.data[['OBV']].dropna().reset_index()\n",
    "        obv_data.columns = ['Date', 'OBV']  # Rename columns for clarity\n",
    "\n",
    "        return obv_data\n",
    "\n",
    "    def plot_obv(self):\n",
    "        \"\"\"Plot the OBV along with the closing price.\"\"\"\n",
    "        if 'OBV' not in self.data.columns:\n",
    "            raise ValueError(\"OBV not calculated. Please call calculate_obv() first.\")\n",
    "\n",
    "        plt.figure(figsize=(12, 6))\n",
    "        plt.plot(self.data.index, self.data['OBV'], label='OBV', color='blue')\n",
    "        plt.title(f\"On-Balance Volume (OBV) for {self.ticker} Stock from {self.start_date} to {self.end_date}\")\n",
    "        plt.xlabel(\"Date\")\n",
    "        plt.ylabel(\"OBV\")\n",
    "        plt.legend()\n",
    "        plt.grid()\n",
    "\n",
    "        # Show the plot\n",
    "        plt.show()\n",
    "\n"
   ]
  },
  {
   "cell_type": "code",
   "execution_count": 36,
   "id": "9d27d024-e157-4fc6-8ea5-05cb14870316",
   "metadata": {
    "tags": []
   },
   "outputs": [
    {
     "name": "stderr",
     "output_type": "stream",
     "text": [
      "[*********************100%***********************]  1 of 1 completed\n"
     ]
    },
    {
     "data": {
      "image/png": "[encoded data removed]",
      "text/plain": [
       "<Figure size 1200x600 with 1 Axes>"
      ]
     },
     "metadata": {},
     "output_type": "display_data"
    },
    {
     "name": "stdout",
     "output_type": "stream",
     "text": [
      "                          Date        OBV\n",
      "0    2020-02-13 00:00:00+00:00          0\n",
      "1    2020-02-14 00:00:00+00:00   80113600\n",
      "2    2020-02-18 00:00:00+00:00  -72417600\n",
      "3    2020-02-19 00:00:00+00:00   21566400\n",
      "4    2020-02-20 00:00:00+00:00  -78999600\n",
      "...                        ...        ...\n",
      "1021 2024-03-06 00:00:00+00:00  320582100\n",
      "1022 2024-03-07 00:00:00+00:00  248817000\n",
      "1023 2024-03-08 00:00:00+00:00  324931600\n",
      "1024 2024-03-11 00:00:00+00:00  385071100\n",
      "1025 2024-03-12 00:00:00+00:00  444896500\n",
      "\n",
      "[1026 rows x 2 columns]\n"
     ]
    }
   ],
   "source": [
    "import yfinance as yf\n",
    "import pandas as pd\n",
    "import matplotlib.pyplot as plt\n",
    "\n",
    "class StockOBV:\n",
    "    def __init__(self, ticker, start_date, end_date):\n",
    "        self.ticker = ticker\n",
    "        self.start_date = start_date\n",
    "        self.end_date = end_date\n",
    "        self.data = None\n",
    "\n",
    "    def download_data(self):\n",
    "        \"\"\"Download historical stock data.\"\"\"\n",
    "        self.data = yf.download(self.ticker, start=self.start_date, end=self.end_date)\n",
    "\n",
    "    def calculate_obv(self):\n",
    "        \"\"\"Calculate On-Balance Volume (OBV).\"\"\"\n",
    "        if self.data is not None:\n",
    "            # Calculate daily price change\n",
    "            price_change = self.data['Close'].diff()\n",
    "\n",
    "            # Calculate OBV\n",
    "            self.data['OBV'] = (price_change > 0).astype(int) * self.data['Volume'] - (price_change < 0).astype(int) * self.data['Volume']\n",
    "            self.data['OBV'] = self.data['OBV'].cumsum()  # Cumulative sum to get OBV\n",
    "        else:\n",
    "            raise ValueError(\"Data not downloaded. Please call download_data() first.\")\n",
    "\n",
    "    def get_obv_data(self):\n",
    "        \"\"\"Return a DataFrame of dates and their corresponding OBV values.\"\"\"\n",
    "        if 'OBV' not in self.data.columns:\n",
    "            raise ValueError(\"OBV not calculated. Please call calculate_obv() first.\")\n",
    "\n",
    "        # Create a DataFrame with the date and OBV values\n",
    "        obv_data = self.data[['OBV']].dropna().reset_index()\n",
    "        obv_data.columns = ['Date', 'OBV']  # Rename columns for clarity\n",
    "\n",
    "        return obv_data\n",
    "\n",
    "    def plot_obv(self):\n",
    "        \"\"\"Plot the OBV along with the closing price.\"\"\"\n",
    "        if 'OBV' not in self.data.columns:\n",
    "            raise ValueError(\"OBV not calculated. Please call calculate_obv() first.\")\n",
    "\n",
    "        plt.figure(figsize=(12, 6))\n",
    "        plt.plot(self.data.index, self.data['OBV'], label='OBV', color='blue')\n",
    "        plt.title(f\"On-Balance Volume (OBV) for {self.ticker} Stock from {self.start_date} to {self.end_date}\")\n",
    "        plt.xlabel(\"Date\")\n",
    "        plt.ylabel(\"OBV\")\n",
    "        plt.legend()\n",
    "        plt.grid()\n",
    "\n",
    "        # Show the plot\n",
    "        plt.show()\n",
    "\n"
   ]
  },
  {
   "cell_type": "code",
   "execution_count": null,
   "id": "b7c3072d",
   "metadata": {},
   "outputs": [],
   "source": [
    "# Example usage\n",
    "if __name__ == \"__main__\":\n",
    "    # Initialize the StockOBV class\n",
    "    stock_obv = StockOBV(ticker=\"AAPL\", start_date=\"2020-02-13\", end_date=\"2024-03-13\")\n",
    "\n",
    "    # Download data, calculate OBV, and plot\n",
    "    stock_obv.download_data()\n",
    "    stock_obv.calculate_obv()\n",
    "    stock_obv.plot_obv()\n",
    "\n",
    "    # Get OBV data for further analysis\n",
    "    obv_data = stock_obv.get_obv_data()\n",
    "    print(obv_data)  # Print or save the OBV data as needed"
   ]
  },
  {
   "cell_type": "code",
   "execution_count": 37,
   "id": "e7999297-5f39-4cab-b175-bf7f87b76499",
   "metadata": {
    "tags": []
   },
   "outputs": [],
   "source": [
    "import matplotlib.pyplot as plt\n",
    "import plotly.graph_objects as go\n",
    "\n",
    "class StockPlotter:\n",
    "    def __init__(self, ticker, start_date, end_date, data):\n",
    "        self.ticker = ticker\n",
    "        self.start_date = start_date\n",
    "        self.end_date = end_date\n",
    "        self.data = data\n",
    "\n",
    "    def plot_rsi(self):\n",
    "        \"\"\"Plot the RSI along with overbought and oversold lines and stock price overlay.\"\"\"\n",
    "        if 'RSI' not in self.data.columns:\n",
    "            raise ValueError(\"RSI not calculated. Please calculate RSI before plotting.\")\n",
    "\n",
    "        fig, ax1 = plt.subplots(figsize=(12, 6))\n",
    "\n",
    "        # Plotting RSI\n",
    "        ax1.plot(self.data.index, self.data['RSI'], label='RSI', color='blue')\n",
    "        ax1.axhline(30, color='red', linestyle='dotted', linewidth=1, label='Oversold (30)')\n",
    "        ax1.axhline(70, color='green', linestyle='dotted', linewidth=1, label='Overbought (70)')\n",
    "        ax1.set_ylim(0, 100)\n",
    "        ax1.set_ylabel(\"RSI\")\n",
    "        ax1.set_title(f\"RSI and Stock Price for {self.ticker} from {self.start_date} to {self.end_date}\")\n",
    "        ax1.legend(loc=\"upper left\")\n",
    "        ax1.grid()\n",
    "\n",
    "        # Overlaying stock price\n",
    "        ax2 = ax1.twinx()  # Secondary y-axis for stock price\n",
    "        ax2.plot(self.data.index, self.data['Close'], label='Stock Price', color='black', alpha=0.5)\n",
    "        ax2.set_ylabel(\"Stock Price\")\n",
    "        ax2.legend(loc=\"upper right\")\n",
    "\n",
    "        plt.show()\n",
    "\n",
    "    def plot_macd(self):\n",
    "        \"\"\"Plot the MACD and signal line with stock price overlay using a secondary y-axis.\"\"\"\n",
    "        if 'MACD' not in self.data.columns or 'Signal_Line' not in self.data.columns:\n",
    "            raise ValueError(\"MACD not calculated. Please calculate MACD before plotting.\")\n",
    "\n",
    "        fig, ax1 = plt.subplots(figsize=(12, 6))\n",
    "\n",
    "        # Add MACD line (on primary y-axis)\n",
    "        ax1.plot(self.data.index, self.data['MACD'], label='MACD', color='blue')\n",
    "\n",
    "        # Add Signal Line (on primary y-axis)\n",
    "        ax1.plot(self.data.index, self.data['Signal_Line'], label='Signal Line', color='orange')\n",
    "\n",
    "        # Add horizontal line at zero (on primary y-axis)\n",
    "        ax1.axhline(0, color='black', linestyle='dashed', linewidth=1)  # Zero line\n",
    "\n",
    "        # Configure primary y-axis\n",
    "        ax1.set_title(f\"MACD and Stock Price for {self.ticker} from {self.start_date} to {self.end_date}\")\n",
    "        ax1.set_ylabel(\"MACD\")\n",
    "        ax1.legend(loc=\"upper left\")\n",
    "        ax1.grid()\n",
    "\n",
    "        # Overlaying stock price on secondary y-axis\n",
    "        ax2 = ax1.twinx()  # Secondary y-axis for stock price\n",
    "        ax2.plot(self.data.index, self.data['Close'], label='Stock Price', color='black', alpha=0.5)\n",
    "        ax2.set_ylabel(\"Stock Price\")\n",
    "        ax2.legend(loc=\"upper right\")\n",
    "\n",
    "        plt.show()"
   ]
  },
  {
   "cell_type": "code",
   "execution_count": 38,
   "id": "e7313622-4f84-4734-bb19-679e83620e51",
   "metadata": {
    "tags": []
   },
   "outputs": [],
   "source": [
    "#2/ : import yfinance as yf\n",
    "import pandas as pd\n",
    "#from stock_plotter import StockPlotter  # Import the StockPlotter class\n",
    "\n",
    "class StockAnalysis:\n",
    "    def __init__(self, ticker: str, start_date: str, end_date: str):\n",
    "        \"\"\"\n",
    "        Initialize StockAnalysis with a ticker symbol, start date, and end date.\n",
    "        \"\"\"\n",
    "        self.ticker = ticker\n",
    "        self.start_date = start_date\n",
    "        self.end_date = end_date\n",
    "        self.data = None\n",
    "        self.plotter = StockPlotter(ticker, start_date, end_date, self.data)  # Initialize the plotter\n",
    "\n",
    "    def download_data(self) -> None:\n",
    "        \"\"\"\n",
    "        Download historical stock data with a buffer for indicators.\n",
    "        \"\"\"\n",
    "        # 26 days buffer to ensure initial values stabilize, especially for MACD\n",
    "        buffer_days = 26\n",
    "        start_with_buffer = pd.to_datetime(self.start_date) - pd.Timedelta(days=buffer_days)\n",
    "        self.data = yf.download(self.ticker, start=start_with_buffer.strftime('%Y-%m-%d'), end=self.end_date)\n",
    "\n",
    "        # Update plotter data\n",
    "        self.plotter.data = self.data  \n",
    "\n",
    "    def calculate_rsi(self, period: int = 14) -> None:\n",
    "        \"\"\"\n",
    "        Calculate the Relative Strength Index (RSI) for the stock data.\n",
    "        \"\"\"\n",
    "        if self.data is None:\n",
    "            raise ValueError(\"Data not downloaded. Please call download_data() first.\")\n",
    "\n",
    "        delta = self.data['Close'].diff()\n",
    "        gains = delta.where(delta > 0, 0)\n",
    "        losses = -delta.where(delta < 0, 0)\n",
    "\n",
    "        avg_gain = gains.ewm(span=period, min_periods=period).mean()\n",
    "        avg_loss = losses.ewm(span=period, min_periods=period).mean()\n",
    "\n",
    "        rs = avg_gain / avg_loss\n",
    "        self.data['RSI'] = 100 - (100 / (1 + rs))\n",
    "\n",
    "    def calculate_macd(self, short_window: int = 12, long_window: int = 26, signal_window: int = 9) -> None:\n",
    "        \"\"\"\n",
    "        Calculate the Moving Average Convergence Divergence (MACD) and the Signal Line.\n",
    "        \"\"\"\n",
    "        if self.data is None:\n",
    "            raise ValueError(\"Data not downloaded. Please call download_data() first.\")\n",
    "\n",
    "        # Calculating the short and long Exponential Moving Averages (EMAs)\n",
    "        self.data['Short_EMA'] = self.data['Close'].ewm(span=short_window, adjust=False).mean()\n",
    "        self.data['Long_EMA'] = self.data['Close'].ewm(span=long_window, adjust=False).mean()\n",
    "\n",
    "        # Calculate MACD and Signal Line\n",
    "        self.data['MACD'] = self.data['Short_EMA'] - self.data['Long_EMA']\n",
    "        self.data['Signal_Line'] = self.data['MACD'].ewm(span=signal_window, adjust=False).mean()\n",
    "\n",
    "        # Remove the buffer rows to avoid misleading initial values\n",
    "        self.data = self.data.loc[self.start_date:]\n",
    "\n",
    "    def get_rsi_data(self) -> pd.DataFrame:\n",
    "        \"\"\"\n",
    "        Return a DataFrame of dates and their corresponding RSI values.\n",
    "        \"\"\"\n",
    "        if 'RSI' not in self.data.columns:\n",
    "            raise ValueError(\"RSI not calculated. Please call calculate_rsi() first.\")\n",
    "\n",
    "        rsi_data = self.data[['RSI']].dropna().reset_index()\n",
    "        rsi_data.columns = ['Date', 'RSI']\n",
    "        return rsi_data\n",
    "\n",
    "    def get_macd_data(self) -> pd.DataFrame:\n",
    "        \"\"\"\n",
    "        Return a DataFrame of dates and their corresponding MACD and Signal Line values.\n",
    "        \"\"\"\n",
    "        if 'MACD' not in self.data.columns or 'Signal_Line' not in self.data.columns:\n",
    "            raise ValueError(\"MACD not calculated. Please call calculate_macd() first.\")\n",
    "\n",
    "        macd_data = self.data[['MACD', 'Signal_Line']].dropna().reset_index()\n",
    "        macd_data.columns = ['Date', 'MACD', 'Signal Line']\n",
    "        return macd_data"
   ]
  },
  {
   "cell_type": "code",
   "execution_count": null,
   "id": "929b606d-6d40-4a3a-b4dd-f60c9635cebe",
   "metadata": {
    "tags": []
   },
   "outputs": [],
   "source": []
  },
  {
   "cell_type": "code",
   "execution_count": null,
   "id": "d8843e55-7215-4b83-b296-79ff7fb942ef",
   "metadata": {
    "tags": []
   },
   "outputs": [],
   "source": [
    "# Example usage\n",
    "if __name__ == \"__main__\":\n",
    "    # Initialize the StockOBV class\n",
    "    stock_obv = StockOBV(ticker=\"AAPL\", start_date=\"2020-02-13\", end_date=\"2024-03-13\")\n",
    "\n",
    "    # Download data, calculate OBV, and plot\n",
    "    stock_obv.download_data()\n",
    "    stock_obv.calculate_obv()\n",
    "    stock_obv.plot_obv()\n",
    "\n",
    "    # Get OBV data for further analysis\n",
    "    obv_data = stock_obv.get_obv_data()\n",
    "    print(obv_data)  # Print or save the OBV data as needed"
   ]
  },
  {
   "cell_type": "code",
   "execution_count": 39,
   "id": "641fcb13-317d-4399-90b2-f2f9de5ed3aa",
   "metadata": {
    "tags": []
   },
   "outputs": [
    {
     "name": "stderr",
     "output_type": "stream",
     "text": [
      "[*********************100%***********************]  1 of 1 completed\n"
     ]
    }
   ],
   "source": [
    "\n",
    "# Example usage\n",
    "if __name__ == \"__main__\":\n",
    "    stock_analysis = StockAnalysis(ticker=\"RBLX\", start_date=\"2023-02-13\", end_date=\"2025-11-02\")\n",
    "    stock_analysis.download_data()\n",
    "\n",
    "    # Calculate indicators\n",
    "    stock_analysis.calculate_rsi(period=14)\n",
    "    stock_analysis.calculate_macd()\n",
    "    \n",
    "\n",
    "    # Plot RSI and MACD\n",
    "    #stock_analysis.plotter.plot_rsi()\n",
    "    #stock_analysis.plotter.plot_macd()"
   ]
  },
  {
   "cell_type": "code",
   "execution_count": 40,
   "id": "6e7a5fb4-9eb9-464b-beef-387618229772",
   "metadata": {
    "tags": []
   },
   "outputs": [
    {
     "name": "stdout",
     "output_type": "stream",
     "text": [
      "RSI Data:\n",
      "                          Date        RSI\n",
      "0   2023-02-13 00:00:00+00:00  33.282317\n",
      "1   2023-02-14 00:00:00+00:00  43.610196\n",
      "2   2023-02-15 00:00:00+00:00  76.059969\n",
      "3   2023-02-16 00:00:00+00:00  68.780104\n",
      "4   2023-02-17 00:00:00+00:00  57.374757\n",
      "..                        ...        ...\n",
      "429 2024-10-28 00:00:00+00:00  60.570173\n",
      "430 2024-10-29 00:00:00+00:00  63.998557\n",
      "431 2024-10-30 00:00:00+00:00  69.269552\n",
      "432 2024-10-31 00:00:00+00:00  91.771968\n",
      "433 2024-11-01 00:00:00+00:00  89.309445\n",
      "\n",
      "[434 rows x 2 columns]\n",
      "MACD Data:\n",
      "                          Date      MACD  Signal Line\n",
      "0   2023-02-13 00:00:00+00:00  0.104705     0.434950\n",
      "1   2023-02-14 00:00:00+00:00  0.017087     0.351378\n",
      "2   2023-02-15 00:00:00+00:00  0.698901     0.420882\n",
      "3   2023-02-16 00:00:00+00:00  1.105463     0.557799\n",
      "4   2023-02-17 00:00:00+00:00  1.196012     0.685441\n",
      "..                        ...       ...          ...\n",
      "429 2024-10-28 00:00:00+00:00 -0.481599    -0.666048\n",
      "430 2024-10-29 00:00:00+00:00 -0.361642    -0.605167\n",
      "431 2024-10-30 00:00:00+00:00 -0.221257    -0.528385\n",
      "432 2024-10-31 00:00:00+00:00  0.575697    -0.307569\n",
      "433 2024-11-01 00:00:00+00:00  1.171194    -0.011816\n",
      "\n",
      "[434 rows x 3 columns]\n",
      "                          Date        OBV\n",
      "0    2020-02-13 00:00:00+00:00          0\n",
      "1    2020-02-14 00:00:00+00:00   80113600\n",
      "2    2020-02-18 00:00:00+00:00  -72417600\n",
      "3    2020-02-19 00:00:00+00:00   21566400\n",
      "4    2020-02-20 00:00:00+00:00  -78999600\n",
      "...                        ...        ...\n",
      "1021 2024-03-06 00:00:00+00:00  320582100\n",
      "1022 2024-03-07 00:00:00+00:00  248817000\n",
      "1023 2024-03-08 00:00:00+00:00  324931600\n",
      "1024 2024-03-11 00:00:00+00:00  385071100\n",
      "1025 2024-03-12 00:00:00+00:00  444896500\n",
      "\n",
      "[1026 rows x 2 columns]\n"
     ]
    }
   ],
   "source": [
    "# Get RSI and MACD data for further analysis\n",
    "rsi_data = stock_analysis.get_rsi_data()\n",
    "print(\"RSI Data:\\n\", rsi_data)\n",
    "\n",
    "macd_data = stock_analysis.get_macd_data()\n",
    "print(\"MACD Data:\\n\", macd_data)\n",
    "    \n",
    "obv_data = stock_obv.get_obv_data()\n",
    "print(obv_data)  # Print or save the OBV data as needed"
   ]
  },
  {
   "cell_type": "code",
   "execution_count": 41,
   "id": "6f092c8e-fc9a-4c45-9798-3763849a00c7",
   "metadata": {
    "tags": []
   },
   "outputs": [],
   "source": [
    "data_to_upload = {\n",
    "    \"ticker\": str(stock_analysis.ticker),\n",
    "    \"date_range\": {\n",
    "        \"start\": str(stock_analysis.start_date),\n",
    "        \"end\": str(stock_analysis.end_date)\n",
    "    },\n",
    "    \"indicators\": {\n",
    "        \"RSI\": str(rsi_data.to_dict(orient='records')),\n",
    "        \"MACD\":str( macd_data.to_dict(orient='records')),\n",
    "        \"OBV\": str(obv_data.to_dict(orient='records'))\n",
    "    }\n",
    "}\n",
    "\n"
   ]
  },
  {
   "cell_type": "code",
   "execution_count": 42,
   "id": "2a297eed-cafc-4fb6-87fe-567eeaf7bde8",
   "metadata": {
    "tags": []
   },
   "outputs": [],
   "source": [
    "# Convertir en JSON\n",
    "json_data = json.dumps(data_to_upload)"
   ]
  },
  {
   "cell_type": "code",
   "execution_count": 43,
   "id": "60440116-3e66-42dc-bd46-4c88b2480d34",
   "metadata": {
    "tags": []
   },
   "outputs": [],
   "source": [
    "\n",
    "# Nom de votre bucket S3\n",
    "bucket_name = bucket_name\n",
    "\n",
    "file_name = 'json_data.json'  # ou un autre nom pour éviter l'écrasement\n"
   ]
  },
  {
   "cell_type": "code",
   "execution_count": null,
   "id": "075b3dcf-8d04-4cc9-a0b9-cbf4fa78fbc0",
   "metadata": {},
   "outputs": [],
   "source": []
  },
  {
   "cell_type": "code",
   "execution_count": null,
   "id": "788ae825-7f72-4c17-8cb3-ecacf92f5bc4",
   "metadata": {},
   "outputs": [],
   "source": []
  },
  {
   "cell_type": "code",
   "execution_count": 45,
   "id": "696c0432-d9db-474c-903f-530940782fce",
   "metadata": {
    "tags": []
   },
   "outputs": [
    {
     "name": "stdout",
     "output_type": "stream",
     "text": [
      "{'ResponseMetadata': {'HTTPHeaders': {'connection': 'keep-alive',\n",
      "                                      'content-length': '623',\n",
      "                                      'content-type': 'application/json',\n",
      "                                      'date': 'Sun, 03 Nov 2024 21:56:09 GMT',\n",
      "                                      'x-amz-apigw-id': 'AsKq9HMMvHcED2Q=',\n",
      "                                      'x-amzn-requestid': 'a6eb0d6b-ac2c-43dc-91e5-d1405d2ad567',\n",
      "                                      'x-amzn-trace-id': 'Root=1-6727f178-4926adac142a0d4555ce289f'},\n",
      "                      'HTTPStatusCode': 200,\n",
      "                      'RequestId': 'a6eb0d6b-ac2c-43dc-91e5-d1405d2ad567',\n",
      "                      'RetryAttempts': 0},\n",
      " 'dataSource': {'createdAt': datetime.datetime(2024, 11, 3, 21, 56, 9, 18719, tzinfo=tzutc()),\n",
      "                'dataDeletionPolicy': 'DELETE',\n",
      "                'dataSourceConfiguration': {'s3Configuration': {'bucketArn': 'arn:aws:s3:::my-data-bucket-2024',\n",
      "                                                                'inclusionPrefixes': ['kb_documents']},\n",
      "                                            'type': 'S3'},\n",
      "                'dataSourceId': 'OCIGNIHDBX',\n",
      "                'description': 'DataSource for the bedrock documentation',\n",
      "                'knowledgeBaseId': 'WGL6XWBI7S',\n",
      "                'name': 'bedrock-docs-kb-docs-1730670623',\n",
      "                'status': 'AVAILABLE',\n",
      "                'updatedAt': datetime.datetime(2024, 11, 3, 21, 56, 9, 18719, tzinfo=tzutc()),\n",
      "                'vectorIngestionConfiguration': {'chunkingConfiguration': {'chunkingStrategy': 'FIXED_SIZE',\n",
      "                                                                           'fixedSizeChunkingConfiguration': {'maxTokens': 512,\n",
      "                                                                                                              'overlapPercentage': 20}}}}}\n"
     ]
    }
   ],
   "source": [
    "# Define the S3 configuration for your data source\n",
    "s3_configuration = {\n",
    "    'bucketArn': bucket_arn,\n",
    "    'inclusionPrefixes': [kb_key]  \n",
    "}\n",
    "\n",
    "# Define the data source configuration\n",
    "data_source_configuration = {\n",
    "    's3Configuration': s3_configuration,\n",
    "    'type': 'S3'\n",
    "}\n",
    "\n",
    "knowledge_base_id = kb_obj[\"knowledgeBase\"][\"knowledgeBaseId\"]\n",
    "knowledge_base_arn = kb_obj[\"knowledgeBase\"][\"knowledgeBaseArn\"]\n",
    "\n",
    "chunking_strategy_configuration = {\n",
    "    \"chunkingStrategy\": \"FIXED_SIZE\",\n",
    "    \"fixedSizeChunkingConfiguration\": {\n",
    "        \"maxTokens\": 512,\n",
    "        \"overlapPercentage\": 20\n",
    "    }\n",
    "}\n",
    "\n",
    "# Create the data source\n",
    "try:\n",
    "    # ensure that the KB is created and available\n",
    "    time.sleep(45)\n",
    "    data_source_response = bedrock_agent_client.create_data_source(\n",
    "        knowledgeBaseId=knowledge_base_id,\n",
    "        name=data_source_name,\n",
    "        description='DataSource for the bedrock documentation',\n",
    "        dataSourceConfiguration=data_source_configuration,\n",
    "        vectorIngestionConfiguration = {\n",
    "            \"chunkingConfiguration\": chunking_strategy_configuration\n",
    "        }\n",
    "    )\n",
    "\n",
    "    # Pretty print the response\n",
    "    pprint.pprint(data_source_response)\n",
    "\n",
    "except Exception as e:\n",
    "    print(f\"Error occurred: {e}\")"
   ]
  },
  {
   "cell_type": "code",
   "execution_count": null,
   "id": "6c0f884a-84b6-4bc8-9282-a1cf0dd1039a",
   "metadata": {
    "tags": []
   },
   "outputs": [],
   "source": [
    "# Télécharger le fichier JSON dans S3\n",
    "#s3_configuration.put_object(Bucket=bucket_name, Key=file_name, Body=json_data)\n",
    "\n",
    "#s3_configuration.upload_file('/tmp/hello.txt', Bucket=bucket_name, Body=json_data)\n",
    "#print(f\"Les données ont été ajoutées dans le bucket {bucket_name} sous le nom de fichier {file_name}.\")"
   ]
  },
  {
   "cell_type": "code",
   "execution_count": 46,
   "id": "c5d7d705-b4a8-4097-bd32-c9259d11565a",
   "metadata": {
    "tags": []
   },
   "outputs": [],
   "source": [
    "\n",
    "\n",
    "def lambda_handler(event, context):\n",
    "\n",
    "    bucket = 'mybucket'\n",
    "    key = 'id.txt'\n",
    "    id = None\n",
    "\n",
    "    # Write id to S3\n",
    "    s3_configuration.put_object(Body=json_data, Bucket=bucket_name,Key=file_name)\n"
   ]
  },
  {
   "cell_type": "code",
   "execution_count": 47,
   "id": "3483a5eb-c578-45d8-aa50-cfc84738eaa1",
   "metadata": {
    "tags": []
   },
   "outputs": [],
   "source": [
    "# Start an ingestion job\n",
    "data_source_id = data_source_response[\"dataSource\"][\"dataSourceId\"]\n",
    "start_job_response = bedrock_agent_client.start_ingestion_job(\n",
    "    knowledgeBaseId=knowledge_base_id, \n",
    "    dataSourceId=data_source_id\n",
    ")"
   ]
  },
  {
   "cell_type": "code",
   "execution_count": 48,
   "id": "c5bf2a50-6f34-4b3d-8510-2cff3a91cde1",
   "metadata": {
    "tags": []
   },
   "outputs": [],
   "source": [
    "# Create IAM policies for agent\n",
    "bedrock_agent_bedrock_allow_policy_statement = {\n",
    "    \"Version\": \"2012-10-17\",\n",
    "    \"Statement\": [\n",
    "        {\n",
    "            \"Sid\": \"AmazonBedrockAgentBedrockFoundationModelPolicy\",\n",
    "            \"Effect\": \"Allow\",\n",
    "            \"Action\": \"bedrock:InvokeModel\",\n",
    "            \"Resource\": [\n",
    "                f\"arn:aws:bedrock:{region}::foundation-model/{model_id}\"\n",
    "            ]\n",
    "        }\n",
    "    ]\n",
    "}\n",
    "\n",
    "bedrock_policy_json = json.dumps(bedrock_agent_bedrock_allow_policy_statement)\n",
    "\n",
    "agent_bedrock_policy = iam_client.create_policy(\n",
    "    PolicyName=bedrock_agent_bedrock_allow_policy_name,\n",
    "    PolicyDocument=bedrock_policy_json\n",
    ")"
   ]
  },
  {
   "cell_type": "code",
   "execution_count": 49,
   "id": "d7dafa3c-fd07-400e-b4f7-671d9d8265e5",
   "metadata": {
    "tags": []
   },
   "outputs": [],
   "source": [
    "bedrock_agent_kb_retrival_policy_statement = {\n",
    "    \"Version\": \"2012-10-17\",\n",
    "    \"Statement\": [\n",
    "        {\n",
    "            \"Effect\": \"Allow\",\n",
    "            \"Action\": [\n",
    "                \"bedrock:Retrieve\"\n",
    "            ],\n",
    "            \"Resource\": [\n",
    "                knowledge_base_arn\n",
    "            ]\n",
    "        }\n",
    "    ]\n",
    "}\n",
    "bedrock_agent_kb_json = json.dumps(bedrock_agent_kb_retrival_policy_statement)\n",
    "agent_kb_schema_policy = iam_client.create_policy(\n",
    "    PolicyName=bedrock_agent_kb_allow_policy_name,\n",
    "    Description=f\"Policy to allow agent to retrieve documents from knowledge base.\",\n",
    "    PolicyDocument=bedrock_agent_kb_json\n",
    ")"
   ]
  },
  {
   "cell_type": "code",
   "execution_count": 50,
   "id": "20ea54f6-da8d-4a3b-9368-f72d26dfb470",
   "metadata": {
    "tags": []
   },
   "outputs": [
    {
     "data": {
      "text/plain": [
       "{'ResponseMetadata': {'RequestId': '57942073-1257-4a71-ba3f-10fa76751113',\n",
       "  'HTTPStatusCode': 200,\n",
       "  'HTTPHeaders': {'date': 'Sun, 03 Nov 2024 21:56:49 GMT',\n",
       "   'x-amzn-requestid': '57942073-1257-4a71-ba3f-10fa76751113',\n",
       "   'content-type': 'text/xml',\n",
       "   'content-length': '212'},\n",
       "  'RetryAttempts': 0}}"
      ]
     },
     "execution_count": 50,
     "metadata": {},
     "output_type": "execute_result"
    }
   ],
   "source": [
    "# Create IAM Role for the agent and attach IAM policies\n",
    "assume_role_policy_document = {\n",
    "    \"Version\": \"2012-10-17\",\n",
    "    \"Statement\": [{\n",
    "          \"Effect\": \"Allow\",\n",
    "          \"Principal\": {\n",
    "            \"Service\": \"bedrock.amazonaws.com\"\n",
    "          },\n",
    "          \"Action\": \"sts:AssumeRole\"\n",
    "    }]\n",
    "}\n",
    "\n",
    "assume_role_policy_document_json = json.dumps(assume_role_policy_document)\n",
    "agent_role = iam_client.create_role(\n",
    "    RoleName=agent_role_name,\n",
    "    AssumeRolePolicyDocument=assume_role_policy_document_json\n",
    ")\n",
    "\n",
    "# Pause to make sure role is created\n",
    "time.sleep(10)\n",
    "    \n",
    "iam_client.attach_role_policy(\n",
    "    RoleName=agent_role_name,\n",
    "    PolicyArn=agent_bedrock_policy['Policy']['Arn']\n",
    ")\n",
    "\n",
    "\n",
    "iam_client.attach_role_policy(\n",
    "    RoleName=agent_role_name,\n",
    "    PolicyArn=agent_kb_schema_policy['Policy']['Arn']\n",
    ")"
   ]
  },
  {
   "cell_type": "code",
   "execution_count": 51,
   "id": "fed37e76-d169-46a5-82e0-5537d8e48e61",
   "metadata": {
    "tags": []
   },
   "outputs": [],
   "source": [
    "# Create Agent\n",
    "response = bedrock_agent_client.create_agent(\n",
    "    agentName=agent_name,\n",
    "    agentResourceRoleArn=agent_role['Role']['Arn'],\n",
    "    description=\"Agent supporting Amazon Bedrock Developers.\",\n",
    "    idleSessionTTLInSeconds=1800,\n",
    "    foundationModel=model_id,\n",
    "    instruction=agent_instruction,\n",
    ")"
   ]
  },
  {
   "cell_type": "code",
   "execution_count": 52,
   "id": "6b5edb25-00b2-42af-9912-519316096f11",
   "metadata": {
    "tags": []
   },
   "outputs": [
    {
     "data": {
      "text/plain": [
       "'DWXES5GU9W'"
      ]
     },
     "execution_count": 52,
     "metadata": {},
     "output_type": "execute_result"
    }
   ],
   "source": [
    "agent_id = response['agent']['agentId']\n",
    "agent_id"
   ]
  },
  {
   "cell_type": "code",
   "execution_count": 53,
   "id": "9887ce42-765b-4328-bb98-382720ea1d32",
   "metadata": {
    "tags": []
   },
   "outputs": [],
   "source": [
    "agent_kb_description = bedrock_agent_client.associate_agent_knowledge_base(\n",
    "    agentId=agent_id,\n",
    "    agentVersion='DRAFT',\n",
    "    description=f'Use the information in the {kb_name} knowledge base to provide accurate responses to the questions about Amazon Bedrock.',\n",
    "    knowledgeBaseId=knowledge_base_id \n",
    ")"
   ]
  },
  {
   "cell_type": "code",
   "execution_count": 54,
   "id": "30046354-5154-4845-82c1-d6290a3d6097",
   "metadata": {
    "tags": []
   },
   "outputs": [
    {
     "data": {
      "text/plain": [
       "{'ResponseMetadata': {'RequestId': '66b045eb-07bd-4fe8-b9a1-2309de3369f3',\n",
       "  'HTTPStatusCode': 202,\n",
       "  'HTTPHeaders': {'date': 'Sun, 03 Nov 2024 21:57:39 GMT',\n",
       "   'content-type': 'application/json',\n",
       "   'content-length': '119',\n",
       "   'connection': 'keep-alive',\n",
       "   'x-amzn-requestid': '66b045eb-07bd-4fe8-b9a1-2309de3369f3',\n",
       "   'x-amz-apigw-id': 'AsK5GGq6PHcEkjw=',\n",
       "   'x-amzn-trace-id': 'Root=1-6727f1d3-59ec7b9d67515ec122dae4d3'},\n",
       "  'RetryAttempts': 0},\n",
       " 'agentId': 'DWXES5GU9W',\n",
       " 'agentStatus': 'PREPARING',\n",
       " 'agentVersion': 'DRAFT',\n",
       " 'preparedAt': datetime.datetime(2024, 11, 3, 21, 57, 39, 520056, tzinfo=tzutc())}"
      ]
     },
     "execution_count": 54,
     "metadata": {},
     "output_type": "execute_result"
    }
   ],
   "source": [
    "agent_prepare = bedrock_agent_client.prepare_agent(agentId=agent_id)\n",
    "agent_prepare"
   ]
  },
  {
   "cell_type": "code",
   "execution_count": 55,
   "id": "e803d00c-33a9-4043-b20e-3ddd5f86ffe7",
   "metadata": {
    "tags": []
   },
   "outputs": [],
   "source": [
    "# Pause to make sure agent is prepared\n",
    "time.sleep(30)\n",
    "agent_alias = bedrock_agent_client.create_agent_alias(\n",
    "    agentId=agent_id,\n",
    "    agentAliasName=agent_alias_name\n",
    ")\n",
    "# Pause to make sure agent alias is ready\n",
    "time.sleep(30)"
   ]
  },
  {
   "cell_type": "code",
   "execution_count": 56,
   "id": "4b1fb434-1c01-402a-905c-833dd5a5b519",
   "metadata": {
    "tags": []
   },
   "outputs": [
    {
     "data": {
      "text/plain": [
       "{'ResponseMetadata': {'RequestId': '8cbd7e5c-854e-4513-9a7c-9b79a2091a48',\n",
       "  'HTTPStatusCode': 202,\n",
       "  'HTTPHeaders': {'date': 'Sun, 03 Nov 2024 21:58:42 GMT',\n",
       "   'content-type': 'application/json',\n",
       "   'content-length': '354',\n",
       "   'connection': 'keep-alive',\n",
       "   'x-amzn-requestid': '8cbd7e5c-854e-4513-9a7c-9b79a2091a48',\n",
       "   'x-amz-apigw-id': 'AsLC_E4tPHcEmsQ=',\n",
       "   'x-amzn-trace-id': 'Root=1-6727f212-65e9f30f5d74df901d77c177'},\n",
       "  'RetryAttempts': 0},\n",
       " 'agentAlias': {'agentAliasArn': 'arn:aws:bedrock:us-west-2:939490215743:agent-alias/DWXES5GU9W/7IGJSYRTQY',\n",
       "  'agentAliasId': '7IGJSYRTQY',\n",
       "  'agentAliasName': 'bedrock-docs-alias1730670623',\n",
       "  'agentAliasStatus': 'CREATING',\n",
       "  'agentId': 'DWXES5GU9W',\n",
       "  'createdAt': datetime.datetime(2024, 11, 3, 21, 58, 42, 880714, tzinfo=tzutc()),\n",
       "  'routingConfiguration': [{}],\n",
       "  'updatedAt': datetime.datetime(2024, 11, 3, 21, 58, 42, 880714, tzinfo=tzutc())}}"
      ]
     },
     "execution_count": 56,
     "metadata": {},
     "output_type": "execute_result"
    }
   ],
   "source": [
    "agent_alias\n"
   ]
  },
  {
   "cell_type": "code",
   "execution_count": 57,
   "id": "5f10daf9-ccb6-4ce6-838c-83eb7d43ffc3",
   "metadata": {
    "tags": []
   },
   "outputs": [],
   "source": [
    "# Extract the agentAliasId from the response\n",
    "agent_alias_id = agent_alias['agentAlias']['agentAliasId']\n",
    "\n",
    "## create a random id for session initiator id\n",
    "session_id:str = str(uuid.uuid1())\n",
    "enable_trace:bool = True\n",
    "end_session:bool = False\n",
    "\n"
   ]
  },
  {
   "cell_type": "code",
   "execution_count": 59,
   "id": "0656b12e-be11-4a88-8ed2-cf9158f6d33d",
   "metadata": {
    "tags": []
   },
   "outputs": [
    {
     "name": "stderr",
     "output_type": "stream",
     "text": [
      "[2024-11-03 16:59:18,108] p3894 {2262335159.py:11} INFO - None\n"
     ]
    },
    {
     "name": "stdout",
     "output_type": "stream",
     "text": [
      "{'ResponseMetadata': {'HTTPHeaders': {'connection': 'keep-alive',\n",
      "                                      'content-type': 'application/vnd.amazon.eventstream',\n",
      "                                      'date': 'Sun, 03 Nov 2024 21:59:18 GMT',\n",
      "                                      'transfer-encoding': 'chunked',\n",
      "                                      'x-amz-bedrock-agent-session-id': 'dc7a8dd4-9a2e-11ef-8a2b-ea6da52e500f',\n",
      "                                      'x-amzn-bedrock-agent-content-type': 'application/json',\n",
      "                                      'x-amzn-requestid': '7426961e-46f3-479a-a2c4-c61898f124bd'},\n",
      "                      'HTTPStatusCode': 200,\n",
      "                      'RequestId': '7426961e-46f3-479a-a2c4-c61898f124bd',\n",
      "                      'RetryAttempts': 0},\n",
      " 'completion': <botocore.eventstream.EventStream object at 0x161c65580>,\n",
      " 'contentType': 'application/json',\n",
      " 'sessionId': 'dc7a8dd4-9a2e-11ef-8a2b-ea6da52e500f'}\n"
     ]
    }
   ],
   "source": [
    "# invoke the agent API\n",
    "agentResponse = bedrock_agent_runtime_client.invoke_agent(\n",
    "    inputText=\"par defaut \",\n",
    "    agentId=agent_id,\n",
    "    agentAliasId=agent_alias_id, \n",
    "    sessionId=session_id,\n",
    "    enableTrace=enable_trace, \n",
    "    endSession= end_session\n",
    ")\n",
    "\n",
    "logger.info(pprint.pprint(agentResponse))"
   ]
  },
  {
   "cell_type": "code",
   "execution_count": 69,
   "id": "ca87e166-37d7-4bfc-96ad-5cc3db03f1c5",
   "metadata": {
    "tags": []
   },
   "outputs": [
    {
     "name": "stdout",
     "output_type": "stream",
     "text": [
      "CPU times: user 5 μs, sys: 0 ns, total: 5 μs\n",
      "Wall time: 6.91 μs\n"
     ]
    }
   ],
   "source": [
    "%%time\n",
    "event_stream = agentResponse['completion']\n",
    "try:\n",
    "    for event in event_stream:        \n",
    "        if 'chunk' in event:\n",
    "            data = event['chunk']['bytes']\n",
    "            logger.info(f\"Final answer ->\\n{data.decode('utf8')}\")\n",
    "            agent_answer = data.decode('utf8')\n",
    "            end_event_received = True\n",
    "            # End event indicates that the request finished successfully\n",
    "        elif 'trace' in event:\n",
    "            logger.info(json.dumps(event['trace'], indent=2))\n",
    "        else:\n",
    "            raise Exception(\"unexpected event.\", event)\n",
    "except Exception as e:\n",
    "    raise Exception(\"unexpected event.\", e)"
   ]
  },
  {
   "cell_type": "code",
   "execution_count": 70,
   "id": "bf5099fb-1184-4be2-8e19-f4cb87d1ab4c",
   "metadata": {
    "tags": []
   },
   "outputs": [
    {
     "name": "stdout",
     "output_type": "stream",
     "text": [
      "Sorry, I am unable to assist you with this request.\n"
     ]
    }
   ],
   "source": [
    "# And here is the response if you just want to see agent's reply\n"
   ]
  },
  {
   "cell_type": "code",
   "execution_count": 72,
   "id": "fa51fb3c-ed07-4eda-9026-95c778ce1bce",
   "metadata": {},
   "outputs": [],
   "source": [
    "def simple_agent_invoke(input_text, agent_id, agent_alias_id, session_id=None, enable_trace=False, end_session=False):\n",
    "    if session_id is None:\n",
    "        session_id:str = str(uuid.uuid1())\n",
    "\n",
    "    agentResponse = bedrock_agent_runtime_client.invoke_agent(\n",
    "        inputText=input_text,\n",
    "        agentId=agent_id,\n",
    "        agentAliasId=agent_alias_id, \n",
    "        sessionId=session_id,\n",
    "        enableTrace=enable_trace, \n",
    "        endSession= end_session\n",
    "    )\n",
    "    logger.info(pprint.pprint(agentResponse))\n",
    "    \n",
    "    agent_answer = ''\n",
    "    event_stream = agentResponse['completion']\n",
    "    try:\n",
    "        for event in event_stream:        \n",
    "            if 'chunk' in event:\n",
    "                data = event['chunk']['bytes']\n",
    "                logger.info(f\"Final answer ->\\n{data.decode('utf8')}\")\n",
    "                agent_answer = data.decode('utf8')\n",
    "                end_event_received = True\n",
    "                # End event indicates that the request finished successfully\n",
    "            elif 'trace' in event:\n",
    "                logger.info(json.dumps(event['trace'], indent=2))\n",
    "            else:\n",
    "                raise Exception(\"unexpected event.\", event)\n",
    "    except Exception as e:\n",
    "        raise Exception(\"unexpected event.\", e)\n",
    "    return agent_answer"
   ]
  },
  {
   "cell_type": "code",
   "execution_count": 75,
   "id": "46432614-a589-4e65-8e58-d2ffe5bf2c1f",
   "metadata": {
    "tags": []
   },
   "outputs": [
    {
     "name": "stderr",
     "output_type": "stream",
     "text": [
      "[2024-11-03 17:04:12,925] p3894 {321621934.py:13} INFO - None\n"
     ]
    },
    {
     "name": "stdout",
     "output_type": "stream",
     "text": [
      "{'ResponseMetadata': {'HTTPHeaders': {'connection': 'keep-alive',\n",
      "                                      'content-type': 'application/vnd.amazon.eventstream',\n",
      "                                      'date': 'Sun, 03 Nov 2024 22:04:12 GMT',\n",
      "                                      'transfer-encoding': 'chunked',\n",
      "                                      'x-amz-bedrock-agent-session-id': 'dc7a8dd4-9a2e-11ef-8a2b-ea6da52e500f',\n",
      "                                      'x-amzn-bedrock-agent-content-type': 'application/json',\n",
      "                                      'x-amzn-requestid': 'c35c1e99-6587-451a-8292-1f2b1c9f574d'},\n",
      "                      'HTTPStatusCode': 200,\n",
      "                      'RequestId': 'c35c1e99-6587-451a-8292-1f2b1c9f574d',\n",
      "                      'RetryAttempts': 0},\n",
      " 'completion': <botocore.eventstream.EventStream object at 0x161c9ffe0>,\n",
      " 'contentType': 'application/json',\n",
      " 'sessionId': 'dc7a8dd4-9a2e-11ef-8a2b-ea6da52e500f'}\n"
     ]
    },
    {
     "name": "stderr",
     "output_type": "stream",
     "text": [
      "[2024-11-03 17:04:19,745] p3894 {321621934.py:21} INFO - Final answer ->\n",
      "Selon les rapports, les principaux éléments de la stratégie future d'Hydro One sont :\n",
      "\n",
      "- Investir dans l'expansion et la modernisation des réseaux de transmission et de distribution pour améliorer la fiabilité et l'efficacité du service (6,5 milliards de dollars d'investissements prévus sur 4 ans)\n",
      "- Poursuivre la transformation en une entreprise axée sur la performance, la rentabilité et l'orientation client\n",
      "- Incorporer le développement durable dans tous les aspects des activités\n",
      "- Investir dans l'innovation pour améliorer la fiabilité du service et la viabilité à long terme de l'entreprise\n"
     ]
    }
   ],
   "source": [
    "reponse = simple_agent_invoke(\"quel DISENT LES RAPPORT SUR HYDRO ONE ? EN FRANCAIS\", agent_id, agent_alias_id, session_id)\n"
   ]
  },
  {
   "cell_type": "code",
   "execution_count": 77,
   "id": "6acd4808",
   "metadata": {},
   "outputs": [
    {
     "name": "stdout",
     "output_type": "stream",
     "text": [
      "Selon les rapports, les principaux éléments de la stratégie future d'Hydro One sont :\n",
      "\n",
      "- Investir dans l'expansion et la modernisation des réseaux de transmission et de distribution pour améliorer la fiabilité et l'efficacité du service (6,5 milliards de dollars d'investissements prévus sur 4 ans)\n",
      "- Poursuivre la transformation en une entreprise axée sur la performance, la rentabilité et l'orientation client\n",
      "- Incorporer le développement durable dans tous les aspects des activités\n",
      "- Investir dans l'innovation pour améliorer la fiabilité du service et la viabilité à long terme de l'entreprise\n"
     ]
    }
   ],
   "source": [
    "print(reponse)"
   ]
  },
  {
   "cell_type": "code",
   "execution_count": null,
   "id": "b484a082",
   "metadata": {},
   "outputs": [],
   "source": []
  },
  {
   "cell_type": "code",
   "execution_count": null,
   "id": "920c1dd6",
   "metadata": {},
   "outputs": [],
   "source": []
  },
  {
   "cell_type": "code",
   "execution_count": 91,
   "id": "8fa82fd2",
   "metadata": {},
   "outputs": [],
   "source": [
    "modelId = 'anthropic.claude-3-sonnet-20240229-v1:0'\n",
    "\n",
    "bedrock_client = boto3.client('bedrock-agent-runtime', region_name='us-west-2')\n"
   ]
  },
  {
   "cell_type": "code",
   "execution_count": 92,
   "id": "8c94a3c2",
   "metadata": {},
   "outputs": [],
   "source": [
    "from botocore.exceptions import ClientError\n"
   ]
  },
  {
   "cell_type": "code",
   "execution_count": 100,
   "id": "a1c140d0",
   "metadata": {},
   "outputs": [],
   "source": [
    "\n",
    "# Import python's built-in regular expression library\n",
    "import re\n",
    "import boto3\n",
    "from botocore.exceptions import ClientError\n",
    "import json\n",
    "\n",
    "# Import the hints module from the utils package\n",
    "\n",
    "\n",
    "\n",
    "bedrock_client = boto3.client(service_name='bedrock-runtime', region_name='us-west-2')"
   ]
  },
  {
   "cell_type": "code",
   "execution_count": null,
   "id": "0b1ce0da",
   "metadata": {},
   "outputs": [],
   "source": [
    "from utils import hints\n"
   ]
  },
  {
   "cell_type": "code",
   "execution_count": 109,
   "id": "84a72097",
   "metadata": {},
   "outputs": [],
   "source": [
    "def get_completion(prompt, system_prompt=None):\n",
    "    # Define the inference configuration\n",
    "    inference_config = {\n",
    "        \"temperature\": 0.0,  # Set the temperature for generating diverse responses\n",
    "        \"maxTokens\": 200,  # Set the maximum number of tokens to generate\n",
    "        \"topP\": 1,  # Set the top_p value for nucleus sampling\n",
    "    }\n",
    "    # Create the converse method parameters\n",
    "    converse_api_params = {\n",
    "        \"modelId\": modelId,  # Specify the model ID to use\n",
    "        \"messages\": [{\"role\": \"user\", \"content\": [{\"text\": prompt}]}],  # Provide the user's prompt\n",
    "        \"inferenceConfig\": inference_config,  # Pass the inference configuration\n",
    "    }\n",
    "    # Check if system_text is provided\n",
    "    if system_prompt:\n",
    "        # If system_text is provided, add the system parameter to the converse_params dictionary\n",
    "        converse_api_params[\"system\"] = [{system_prompt}]\n",
    "            # Send a request to the Bedrock client to generate a response\n",
    "    try:\n",
    "        response = bedrock_client.converse(**converse_api_params)\n",
    "\n",
    "        # Extract the generated text content from the response\n",
    "        text_content = response['output']['message']['content'][0]['text']\n",
    "\n",
    "        # Return the generated text content\n",
    "        return text_content\n",
    "\n",
    "    except ClientError as err:\n",
    "        message = err.response['Error']['Message']\n",
    "        print(f\"A client error occured: {message}\")\n",
    "\n"
   ]
  },
  {
   "cell_type": "code",
   "execution_count": 145,
   "id": "1a2066f1",
   "metadata": {},
   "outputs": [],
   "source": [
    "\n",
    "# System prompt\n",
    "SYSTEM_PROMPT = \"donne le resultat dans 20 phrases , toujours  dans un format json avec une cle : rapport , donne le directement , sans texte avant \"\n",
    "#SYSTEM_PROMPT = \"Your answer should always be a series of critical thinking questions that further the conversation (do not provide answers to your questions). Do not actually answer the user question.\"\n",
    "\n",
    "# Prompt\n",
    "PROMPT = reponse\n",
    "\n",
    "# Print Claude's response\n"
   ]
  },
  {
   "cell_type": "code",
   "execution_count": 146,
   "id": "e50b5209",
   "metadata": {},
   "outputs": [
    {
     "name": "stdout",
     "output_type": "stream",
     "text": [
      "{\n",
      "\"rapport\": \"1. Bell est l'une des plus grandes entreprises de télécommunications au Canada et son avenir dépendra de sa capacité à s'adapter aux nouvelles technologies et tendances du marché. 2. Le déploiement de la 5G sera un enjeu majeur pour Bell dans les prochaines années, car cette nouvelle norme de réseau mobile promet des vitesses plus rapides et une meilleure connectivité. 3. L'entreprise devra investir massivement dans les infrastructures 5G pour rester compétitive face à ses rivaux. 4. Le cloud computing et les services infonuagiques représentent également un secteur en pleine croissance où Bell cherchera à se positionner davantage. 5. Les services de télévision et de vidéo en ligne continueront d'être importants pour Bell, qui devra proposer des contenus attrayants et une expérience utilisateur de qualité. 6. La cybersécurité deviendra un enjeu crucial à mesure que les menaces informatiques se multiplieront, et Bell devra renforcer ses mesures de protection. 7. L'intelligence artificielle et l'analyse de données joueront un rôle croissant dans les opérations de Bell, qui cherchera à tirer parti de ces technologies pour optimiser ses services. 8. Les partenariats stratégiques avec d'autres entreprises technologiques seront essentiels pour Bell afin de rester à la pointe de l'innovation. 9. La concurrence restera féroce dans le secteur des télécommunications, et Bell devra se démarquer par des offres compétitives et une excellente qualité de service. 10. La gestion des ressources humaines sera cruciale pour attirer et retenir les meilleurs talents dans un domaine en constante évolution. 11. L'expansion à l'international pourrait être envisagée par Bell pour diversifier ses sources de revenus et profiter de nouveaux marchés. 12. La durabilité et l'impact environnemental deviendront des préoccupations majeures, et Bell devra adopter des pratiques plus écologiques. 13. Les acquisitions et fusions stratégiques pourraient être une option pour Bell afin de renforcer sa position sur le marché. 14. L'innovation restera au cœur de la stratégie de Bell, qui devra constamment repousser les limites technologiques. 15. La réglementation gouvernementale aura un impact significatif sur les activités de Bell, qui devra s'y conformer tout en défendant ses intérêts. 16. La gestion des coûts et l'optimisation des opérations seront essentielles pour maintenir la rentabilité de Bell dans un environnement concurrentiel. 17. La satisfaction client restera une priorité absolue pour Bell, qui devra offrir une expérience exceptionnelle à chaque étape. 18. Les nouvelles technologies émergentes, comme l'Internet des objets et la réalité virtuelle, représenteront de nouvelles opportunités pour Bell. 19. La formation continue des employés sera cruciale pour s'assurer qu'ils disposent des compétences nécessaires pour relever les défis futurs. 20. Enfin, Bell devra faire preuve d'agilité et\n"
     ]
    }
   ],
   "source": [
    "print(get_completion(PROMPT , SYSTEM_PROMPT))"
   ]
  }
 ],
 "metadata": {
  "availableInstances": [
   {
    "_defaultOrder": 0,
    "_isFastLaunch": true,
    "category": "General purpose",
    "gpuNum": 0,
    "hideHardwareSpecs": false,
    "memoryGiB": 4,
    "name": "ml.t3.medium",
    "vcpuNum": 2
   },
   {
    "_defaultOrder": 1,
    "_isFastLaunch": false,
    "category": "General purpose",
    "gpuNum": 0,
    "hideHardwareSpecs": false,
    "memoryGiB": 8,
    "name": "ml.t3.large",
    "vcpuNum": 2
   },
   {
    "_defaultOrder": 2,
    "_isFastLaunch": false,
    "category": "General purpose",
    "gpuNum": 0,
    "hideHardwareSpecs": false,
    "memoryGiB": 16,
    "name": "ml.t3.xlarge",
    "vcpuNum": 4
   },
   {
    "_defaultOrder": 3,
    "_isFastLaunch": false,
    "category": "General purpose",
    "gpuNum": 0,
    "hideHardwareSpecs": false,
    "memoryGiB": 32,
    "name": "ml.t3.2xlarge",
    "vcpuNum": 8
   },
   {
    "_defaultOrder": 4,
    "_isFastLaunch": true,
    "category": "General purpose",
    "gpuNum": 0,
    "hideHardwareSpecs": false,
    "memoryGiB": 8,
    "name": "ml.m5.large",
    "vcpuNum": 2
   },
   {
    "_defaultOrder": 5,
    "_isFastLaunch": false,
    "category": "General purpose",
    "gpuNum": 0,
    "hideHardwareSpecs": false,
    "memoryGiB": 16,
    "name": "ml.m5.xlarge",
    "vcpuNum": 4
   },
   {
    "_defaultOrder": 6,
    "_isFastLaunch": false,
    "category": "General purpose",
    "gpuNum": 0,
    "hideHardwareSpecs": false,
    "memoryGiB": 32,
    "name": "ml.m5.2xlarge",
    "vcpuNum": 8
   },
   {
    "_defaultOrder": 7,
    "_isFastLaunch": false,
    "category": "General purpose",
    "gpuNum": 0,
    "hideHardwareSpecs": false,
    "memoryGiB": 64,
    "name": "ml.m5.4xlarge",
    "vcpuNum": 16
   },
   {
    "_defaultOrder": 8,
    "_isFastLaunch": false,
    "category": "General purpose",
    "gpuNum": 0,
    "hideHardwareSpecs": false,
    "memoryGiB": 128,
    "name": "ml.m5.8xlarge",
    "vcpuNum": 32
   },
   {
    "_defaultOrder": 9,
    "_isFastLaunch": false,
    "category": "General purpose",
    "gpuNum": 0,
    "hideHardwareSpecs": false,
    "memoryGiB": 192,
    "name": "ml.m5.12xlarge",
    "vcpuNum": 48
   },
   {
    "_defaultOrder": 10,
    "_isFastLaunch": false,
    "category": "General purpose",
    "gpuNum": 0,
    "hideHardwareSpecs": false,
    "memoryGiB": 256,
    "name": "ml.m5.16xlarge",
    "vcpuNum": 64
   },
   {
    "_defaultOrder": 11,
    "_isFastLaunch": false,
    "category": "General purpose",
    "gpuNum": 0,
    "hideHardwareSpecs": false,
    "memoryGiB": 384,
    "name": "ml.m5.24xlarge",
    "vcpuNum": 96
   },
   {
    "_defaultOrder": 12,
    "_isFastLaunch": false,
    "category": "General purpose",
    "gpuNum": 0,
    "hideHardwareSpecs": false,
    "memoryGiB": 8,
    "name": "ml.m5d.large",
    "vcpuNum": 2
   },
   {
    "_defaultOrder": 13,
    "_isFastLaunch": false,
    "category": "General purpose",
    "gpuNum": 0,
    "hideHardwareSpecs": false,
    "memoryGiB": 16,
    "name": "ml.m5d.xlarge",
    "vcpuNum": 4
   },
   {
    "_defaultOrder": 14,
    "_isFastLaunch": false,
    "category": "General purpose",
    "gpuNum": 0,
    "hideHardwareSpecs": false,
    "memoryGiB": 32,
    "name": "ml.m5d.2xlarge",
    "vcpuNum": 8
   },
   {
    "_defaultOrder": 15,
    "_isFastLaunch": false,
    "category": "General purpose",
    "gpuNum": 0,
    "hideHardwareSpecs": false,
    "memoryGiB": 64,
    "name": "ml.m5d.4xlarge",
    "vcpuNum": 16
   },
   {
    "_defaultOrder": 16,
    "_isFastLaunch": false,
    "category": "General purpose",
    "gpuNum": 0,
    "hideHardwareSpecs": false,
    "memoryGiB": 128,
    "name": "ml.m5d.8xlarge",
    "vcpuNum": 32
   },
   {
    "_defaultOrder": 17,
    "_isFastLaunch": false,
    "category": "General purpose",
    "gpuNum": 0,
    "hideHardwareSpecs": false,
    "memoryGiB": 192,
    "name": "ml.m5d.12xlarge",
    "vcpuNum": 48
   },
   {
    "_defaultOrder": 18,
    "_isFastLaunch": false,
    "category": "General purpose",
    "gpuNum": 0,
    "hideHardwareSpecs": false,
    "memoryGiB": 256,
    "name": "ml.m5d.16xlarge",
    "vcpuNum": 64
   },
   {
    "_defaultOrder": 19,
    "_isFastLaunch": false,
    "category": "General purpose",
    "gpuNum": 0,
    "hideHardwareSpecs": false,
    "memoryGiB": 384,
    "name": "ml.m5d.24xlarge",
    "vcpuNum": 96
   },
   {
    "_defaultOrder": 20,
    "_isFastLaunch": false,
    "category": "General purpose",
    "gpuNum": 0,
    "hideHardwareSpecs": true,
    "memoryGiB": 0,
    "name": "ml.geospatial.interactive",
    "supportedImageNames": [
     "sagemaker-geospatial-v1-0"
    ],
    "vcpuNum": 0
   },
   {
    "_defaultOrder": 21,
    "_isFastLaunch": true,
    "category": "Compute optimized",
    "gpuNum": 0,
    "hideHardwareSpecs": false,
    "memoryGiB": 4,
    "name": "ml.c5.large",
    "vcpuNum": 2
   },
   {
    "_defaultOrder": 22,
    "_isFastLaunch": false,
    "category": "Compute optimized",
    "gpuNum": 0,
    "hideHardwareSpecs": false,
    "memoryGiB": 8,
    "name": "ml.c5.xlarge",
    "vcpuNum": 4
   },
   {
    "_defaultOrder": 23,
    "_isFastLaunch": false,
    "category": "Compute optimized",
    "gpuNum": 0,
    "hideHardwareSpecs": false,
    "memoryGiB": 16,
    "name": "ml.c5.2xlarge",
    "vcpuNum": 8
   },
   {
    "_defaultOrder": 24,
    "_isFastLaunch": false,
    "category": "Compute optimized",
    "gpuNum": 0,
    "hideHardwareSpecs": false,
    "memoryGiB": 32,
    "name": "ml.c5.4xlarge",
    "vcpuNum": 16
   },
   {
    "_defaultOrder": 25,
    "_isFastLaunch": false,
    "category": "Compute optimized",
    "gpuNum": 0,
    "hideHardwareSpecs": false,
    "memoryGiB": 72,
    "name": "ml.c5.9xlarge",
    "vcpuNum": 36
   },
   {
    "_defaultOrder": 26,
    "_isFastLaunch": false,
    "category": "Compute optimized",
    "gpuNum": 0,
    "hideHardwareSpecs": false,
    "memoryGiB": 96,
    "name": "ml.c5.12xlarge",
    "vcpuNum": 48
   },
   {
    "_defaultOrder": 27,
    "_isFastLaunch": false,
    "category": "Compute optimized",
    "gpuNum": 0,
    "hideHardwareSpecs": false,
    "memoryGiB": 144,
    "name": "ml.c5.18xlarge",
    "vcpuNum": 72
   },
   {
    "_defaultOrder": 28,
    "_isFastLaunch": false,
    "category": "Compute optimized",
    "gpuNum": 0,
    "hideHardwareSpecs": false,
    "memoryGiB": 192,
    "name": "ml.c5.24xlarge",
    "vcpuNum": 96
   },
   {
    "_defaultOrder": 29,
    "_isFastLaunch": true,
    "category": "Accelerated computing",
    "gpuNum": 1,
    "hideHardwareSpecs": false,
    "memoryGiB": 16,
    "name": "ml.g4dn.xlarge",
    "vcpuNum": 4
   },
   {
    "_defaultOrder": 30,
    "_isFastLaunch": false,
    "category": "Accelerated computing",
    "gpuNum": 1,
    "hideHardwareSpecs": false,
    "memoryGiB": 32,
    "name": "ml.g4dn.2xlarge",
    "vcpuNum": 8
   },
   {
    "_defaultOrder": 31,
    "_isFastLaunch": false,
    "category": "Accelerated computing",
    "gpuNum": 1,
    "hideHardwareSpecs": false,
    "memoryGiB": 64,
    "name": "ml.g4dn.4xlarge",
    "vcpuNum": 16
   },
   {
    "_defaultOrder": 32,
    "_isFastLaunch": false,
    "category": "Accelerated computing",
    "gpuNum": 1,
    "hideHardwareSpecs": false,
    "memoryGiB": 128,
    "name": "ml.g4dn.8xlarge",
    "vcpuNum": 32
   },
   {
    "_defaultOrder": 33,
    "_isFastLaunch": false,
    "category": "Accelerated computing",
    "gpuNum": 4,
    "hideHardwareSpecs": false,
    "memoryGiB": 192,
    "name": "ml.g4dn.12xlarge",
    "vcpuNum": 48
   },
   {
    "_defaultOrder": 34,
    "_isFastLaunch": false,
    "category": "Accelerated computing",
    "gpuNum": 1,
    "hideHardwareSpecs": false,
    "memoryGiB": 256,
    "name": "ml.g4dn.16xlarge",
    "vcpuNum": 64
   },
   {
    "_defaultOrder": 35,
    "_isFastLaunch": false,
    "category": "Accelerated computing",
    "gpuNum": 1,
    "hideHardwareSpecs": false,
    "memoryGiB": 61,
    "name": "ml.p3.2xlarge",
    "vcpuNum": 8
   },
   {
    "_defaultOrder": 36,
    "_isFastLaunch": false,
    "category": "Accelerated computing",
    "gpuNum": 4,
    "hideHardwareSpecs": false,
    "memoryGiB": 244,
    "name": "ml.p3.8xlarge",
    "vcpuNum": 32
   },
   {
    "_defaultOrder": 37,
    "_isFastLaunch": false,
    "category": "Accelerated computing",
    "gpuNum": 8,
    "hideHardwareSpecs": false,
    "memoryGiB": 488,
    "name": "ml.p3.16xlarge",
    "vcpuNum": 64
   },
   {
    "_defaultOrder": 38,
    "_isFastLaunch": false,
    "category": "Accelerated computing",
    "gpuNum": 8,
    "hideHardwareSpecs": false,
    "memoryGiB": 768,
    "name": "ml.p3dn.24xlarge",
    "vcpuNum": 96
   },
   {
    "_defaultOrder": 39,
    "_isFastLaunch": false,
    "category": "Memory Optimized",
    "gpuNum": 0,
    "hideHardwareSpecs": false,
    "memoryGiB": 16,
    "name": "ml.r5.large",
    "vcpuNum": 2
   },
   {
    "_defaultOrder": 40,
    "_isFastLaunch": false,
    "category": "Memory Optimized",
    "gpuNum": 0,
    "hideHardwareSpecs": false,
    "memoryGiB": 32,
    "name": "ml.r5.xlarge",
    "vcpuNum": 4
   },
   {
    "_defaultOrder": 41,
    "_isFastLaunch": false,
    "category": "Memory Optimized",
    "gpuNum": 0,
    "hideHardwareSpecs": false,
    "memoryGiB": 64,
    "name": "ml.r5.2xlarge",
    "vcpuNum": 8
   },
   {
    "_defaultOrder": 42,
    "_isFastLaunch": false,
    "category": "Memory Optimized",
    "gpuNum": 0,
    "hideHardwareSpecs": false,
    "memoryGiB": 128,
    "name": "ml.r5.4xlarge",
    "vcpuNum": 16
   },
   {
    "_defaultOrder": 43,
    "_isFastLaunch": false,
    "category": "Memory Optimized",
    "gpuNum": 0,
    "hideHardwareSpecs": false,
    "memoryGiB": 256,
    "name": "ml.r5.8xlarge",
    "vcpuNum": 32
   },
   {
    "_defaultOrder": 44,
    "_isFastLaunch": false,
    "category": "Memory Optimized",
    "gpuNum": 0,
    "hideHardwareSpecs": false,
    "memoryGiB": 384,
    "name": "ml.r5.12xlarge",
    "vcpuNum": 48
   },
   {
    "_defaultOrder": 45,
    "_isFastLaunch": false,
    "category": "Memory Optimized",
    "gpuNum": 0,
    "hideHardwareSpecs": false,
    "memoryGiB": 512,
    "name": "ml.r5.16xlarge",
    "vcpuNum": 64
   },
   {
    "_defaultOrder": 46,
    "_isFastLaunch": false,
    "category": "Memory Optimized",
    "gpuNum": 0,
    "hideHardwareSpecs": false,
    "memoryGiB": 768,
    "name": "ml.r5.24xlarge",
    "vcpuNum": 96
   },
   {
    "_defaultOrder": 47,
    "_isFastLaunch": false,
    "category": "Accelerated computing",
    "gpuNum": 1,
    "hideHardwareSpecs": false,
    "memoryGiB": 16,
    "name": "ml.g5.xlarge",
    "vcpuNum": 4
   },
   {
    "_defaultOrder": 48,
    "_isFastLaunch": false,
    "category": "Accelerated computing",
    "gpuNum": 1,
    "hideHardwareSpecs": false,
    "memoryGiB": 32,
    "name": "ml.g5.2xlarge",
    "vcpuNum": 8
   },
   {
    "_defaultOrder": 49,
    "_isFastLaunch": false,
    "category": "Accelerated computing",
    "gpuNum": 1,
    "hideHardwareSpecs": false,
    "memoryGiB": 64,
    "name": "ml.g5.4xlarge",
    "vcpuNum": 16
   },
   {
    "_defaultOrder": 50,
    "_isFastLaunch": false,
    "category": "Accelerated computing",
    "gpuNum": 1,
    "hideHardwareSpecs": false,
    "memoryGiB": 128,
    "name": "ml.g5.8xlarge",
    "vcpuNum": 32
   },
   {
    "_defaultOrder": 51,
    "_isFastLaunch": false,
    "category": "Accelerated computing",
    "gpuNum": 1,
    "hideHardwareSpecs": false,
    "memoryGiB": 256,
    "name": "ml.g5.16xlarge",
    "vcpuNum": 64
   },
   {
    "_defaultOrder": 52,
    "_isFastLaunch": false,
    "category": "Accelerated computing",
    "gpuNum": 4,
    "hideHardwareSpecs": false,
    "memoryGiB": 192,
    "name": "ml.g5.12xlarge",
    "vcpuNum": 48
   },
   {
    "_defaultOrder": 53,
    "_isFastLaunch": false,
    "category": "Accelerated computing",
    "gpuNum": 4,
    "hideHardwareSpecs": false,
    "memoryGiB": 384,
    "name": "ml.g5.24xlarge",
    "vcpuNum": 96
   },
   {
    "_defaultOrder": 54,
    "_isFastLaunch": false,
    "category": "Accelerated computing",
    "gpuNum": 8,
    "hideHardwareSpecs": false,
    "memoryGiB": 768,
    "name": "ml.g5.48xlarge",
    "vcpuNum": 192
   },
   {
    "_defaultOrder": 55,
    "_isFastLaunch": false,
    "category": "Accelerated computing",
    "gpuNum": 8,
    "hideHardwareSpecs": false,
    "memoryGiB": 1152,
    "name": "ml.p4d.24xlarge",
    "vcpuNum": 96
   },
   {
    "_defaultOrder": 56,
    "_isFastLaunch": false,
    "category": "Accelerated computing",
    "gpuNum": 8,
    "hideHardwareSpecs": false,
    "memoryGiB": 1152,
    "name": "ml.p4de.24xlarge",
    "vcpuNum": 96
   },
   {
    "_defaultOrder": 57,
    "_isFastLaunch": false,
    "category": "Accelerated computing",
    "gpuNum": 0,
    "hideHardwareSpecs": false,
    "memoryGiB": 32,
    "name": "ml.trn1.2xlarge",
    "vcpuNum": 8
   },
   {
    "_defaultOrder": 58,
    "_isFastLaunch": false,
    "category": "Accelerated computing",
    "gpuNum": 0,
    "hideHardwareSpecs": false,
    "memoryGiB": 512,
    "name": "ml.trn1.32xlarge",
    "vcpuNum": 128
   },
   {
    "_defaultOrder": 59,
    "_isFastLaunch": false,
    "category": "Accelerated computing",
    "gpuNum": 0,
    "hideHardwareSpecs": false,
    "memoryGiB": 512,
    "name": "ml.trn1n.32xlarge",
    "vcpuNum": 128
   }
  ],
  "instance_type": "ml.t3.medium",
  "kernelspec": {
   "display_name": "Python 3",
   "language": "python",
   "name": "python3"
  },
  "language_info": {
   "codemirror_mode": {
    "name": "ipython",
    "version": 3
   },
   "file_extension": ".py",
   "mimetype": "text/x-python",
   "name": "python",
   "nbconvert_exporter": "python",
   "pygments_lexer": "ipython3",
   "version": "3.12.0"
  },
  "vscode": {
   "interpreter": {
    "hash": "aee8b7b246df8f9039afb4144a1f6fd8d2ca17a180786b69acc140d282b71a49"
   }
  }
 },
 "nbformat": 4,
 "nbformat_minor": 5
}
